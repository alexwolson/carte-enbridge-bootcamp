{
 "cells": [
  {
   "cell_type": "markdown",
   "source": [
    "# CARTE-Enbridge Bootcamp\n",
    "#### Lab 4-1\n",
    "\n",
    "# Analyzing Historical Safety Data\n",
    "\n",
    "One valuable application of machine learning is in understanding historical safety data. In this workbook, we are going to take a look at historical data of road accidents in the UK. This data is available from the [UK government](https://data.gov.uk/dataset/road-accidents-safety-data). Understanding the factors that contribute to accidents can help us to make better decisions about how to improve safety.\n",
    "\n",
    "We are going to use two new libraries to help us understand this data. The first is [ydata-profiling](https://github.com/ydataai/ydata-profiling), which is a library that helps us to understand the structure of our data. The second is [H2O](https://h2o.ai/), which is a library that allows us to easily test a wide range of models and configurations. Let's begin by installing the libraries."
   ],
   "metadata": {
    "collapsed": false,
    "id": "7c828abeffe86827"
   },
   "id": "7c828abeffe86827"
  },
  {
   "cell_type": "code",
   "execution_count": null,
   "outputs": [],
   "source": [
    "# Check if we are in Google Colab\n",
    "import sys\n",
    "IN_COLAB = 'google.colab' in sys.modules\n",
    "\n",
    "# If we are in Colab, we need to install the ydata-profiling and H2O libraries\n",
    "if IN_COLAB:\n",
    "    !pip install -U -q ydata-profiling \"typing-extensions<4.6.0\" fastapi kaleido python-multipart uvicorn cohere openai tiktoken\n",
    "    !pip install -U -q -f https://h2o-release.s3.amazonaws.com/h2o/latest_stable_Py.html h2o"
   ],
   "metadata": {
    "id": "4cc36d57b2e037ca",
    "colab": {
     "base_uri": "https://localhost:8080/"
    },
    "outputId": "88bf3b38-c102-4475-c111-ba6532e8ceb4"
   },
   "id": "4cc36d57b2e037ca"
  },
  {
   "cell_type": "code",
   "execution_count": null,
   "outputs": [],
   "source": [
    "# Import libraries\n",
    "import pandas as pd\n",
    "from sklearn.model_selection import train_test_split\n",
    "from ydata_profiling import ProfileReport\n",
    "from time import time\n",
    "from pathlib import Path\n",
    "import h2o\n",
    "from h2o.automl import H2OAutoML"
   ],
   "metadata": {
    "id": "304abe714fbbeee3",
    "outputId": "f367ff59-e25c-4026-e2f8-5d96ea635708",
    "colab": {
     "base_uri": "https://localhost:8080/"
    }
   },
   "id": "304abe714fbbeee3"
  },
  {
   "cell_type": "markdown",
   "source": [
    "## Loading the Data\n",
    "\n",
    "The first step is to load the data. We are going to use the `pandas` library to load the data from a CSV file. Because the data is quite large, once it's downloaded we will save it to a file so that we don't have to download it again."
   ],
   "metadata": {
    "collapsed": false,
    "id": "882751e9b0b35bc0"
   },
   "id": "882751e9b0b35bc0"
  },
  {
   "cell_type": "code",
   "execution_count": null,
   "outputs": [],
   "source": [
    "if not Path('uk-road-traffic-accidents.csv').exists():\n",
    "    print('Downloading data. This may take a few minutes.')\n",
    "    incidents = pd.read_csv('https://github.com/alexwolson/carte_workshop_datasets/raw/main/uk-road-traffic-accidents.csv.zip', compression='zip', low_memory=False).sample(frac=0.5).fillna('No')\n",
    "    incidents.to_csv('uk-road-traffic-accidents.csv',index=False)\n",
    "else:\n",
    "    incidents = pd.read_csv('uk-road-traffic-accidents.csv', low_memory=False).fillna('No')"
   ],
   "metadata": {
    "id": "66a87be72cfcdac1",
    "colab": {
     "base_uri": "https://localhost:8080/"
    },
    "outputId": "b66654ef-4d15-4e8b-f549-62a590b3551b"
   },
   "id": "66a87be72cfcdac1"
  },
  {
   "cell_type": "markdown",
   "source": [
    "## Understanding the Data\n",
    "\n",
    "When we are looking at new data for the first time, it's important to get a good sense of what we're working with. The easiest thing to do is to take a look at a few rows of the data:"
   ],
   "metadata": {
    "collapsed": false,
    "id": "7c8c4f471ee20c9f"
   },
   "id": "7c8c4f471ee20c9f"
  },
  {
   "cell_type": "code",
   "execution_count": null,
   "outputs": [],
   "source": [
    "incidents.head()"
   ],
   "metadata": {
    "id": "ed3a24864861f0f6",
    "colab": {
     "base_uri": "https://localhost:8080/",
     "height": 360
    },
    "outputId": "164e442f-3e86-4dc6-e783-2db5f82b1b4a"
   },
   "id": "ed3a24864861f0f6"
  },
  {
   "cell_type": "markdown",
   "source": [
    "But we can do better than that. The `ydata-profiling` library allows us to generate a report that gives us a lot of information about the data. `ydata-profiling` generates basic statistics about each column, including the number of missing values, the number of unique values, and the most common values. It also generates histograms for numeric columns and bar charts for categorical columns. Finally, it generates a correlation matrix that shows how each column is related to every other column. This is a great way to get a sense of the data.\n",
    "\n",
    "The code below generates a report and saves it to an HTML file. If you're on Google Colab, you may need to download the HTML file to view it. Run the code below and have a look at the generated report.\n",
    "\n",
    "**Your turn**\n",
    "\n",
    "Look at the generated report.\n",
    "- What is the most common day of the week for accidents? ______________\n",
    "- What is the average speed limit for accidents? ______________\n",
    "- Is there anything unexpected that you notice? What is it? ______________\n",
    "\n",
    "Using a tool like `ydata-profiling` helps us to get a sense of what we're working with, quickly and easily. This is a great way to start any data science project. Note that this will take around 3 minutes on Google Colab."
   ],
   "metadata": {
    "collapsed": false,
    "id": "130f1b236256c9c0"
   },
   "id": "130f1b236256c9c0"
  },
  {
   "cell_type": "code",
   "execution_count": null,
   "outputs": [],
   "source": [
    "if not Path('uk-road-traffic-accidents.html').exists():\n",
    "    start_time = time()\n",
    "    report = ProfileReport(incidents, title='UK Road Traffic Accidents')\n",
    "    report.to_file('uk-road-traffic-accidents.html')\n",
    "    print(f'Generated report in {(time() - start_time)/60:.2f} minutes')"
   ],
   "metadata": {
    "id": "1871eeebb6f35511",
    "colab": {
     "base_uri": "https://localhost:8080/",
     "height": 162,
     "referenced_widgets": [
      "76326e335ae64892a54e5fbda3d24b48",
      "c301c7206999400d8c35fcd5c4283d66",
      "a1dfe4751b5d4819a2e7d6fb8dafecea",
      "daff0f342f97452ca90a10812fcb2995",
      "b50f5e8f11ba448e81a4610e52e07aaa",
      "a434fc70e1604a25b24d8890f397fac2",
      "af2ee112d6984e8ca633cd0efa2e94b4",
      "fcc371dfc5f7452fbe0b183a14a45409",
      "4d7caa093b90491a81759d2c2caa4e8c",
      "0f942dcfc8874b40917c6e23e609f456",
      "920e6c4c355a43868a5565e49a999cff",
      "89f9bdd064a14dfca7de102052f09dfa",
      "89b913795e604a28aa46a39b94a93c94",
      "4d41941321b54aea9049f79cd5b8a194",
      "372161c81a074d17a97a15d8014419c2",
      "6a5999d576df4739b31a896fe5928fc3",
      "15f9ccbe51ac41c58a8bce5681d321e4",
      "1f0b2634cfb64c46990f37bc10e8440b",
      "1a1ab870749c4641a06e74f361728347",
      "129b4d076d024728b25db7be5f3338d9",
      "86747e47ec1a4f5c8e00fecb532fad97",
      "eade5e741b784bc08f3ae941a9f9758c",
      "9021a0659d76453fa4fe17584e8c7449",
      "cc569a1be728418e885204a965fcdb55",
      "6a059c7286a84c5aa829dfdcd6d90c43",
      "b460353ea2bd4377b375cb2f2172cc9e",
      "1fac0b1173d54d00ab4128d99f1edc6f",
      "45501f46a2954a31863c79b4bc4fdf43",
      "cbb8724cb8be465fb375c50644e8ad07",
      "3517df64628a4d91a6fa00742416ad14",
      "75064854354b4ab7947dc84de636ebfa",
      "29894ad4e4a64025a6d856c5f72989f9",
      "c759520c40ee413c8455c426961cadc5",
      "580e181c3f134830a741a9e286d27ac2",
      "dcdd2663ae554ac48f0c1dfb21915fe4",
      "207eef0c6c954d4382a70521fcc2d10d",
      "aaa7d7337da64efc9d0061da4f6ca8f7",
      "bce3fa8fa0e7455298ea3f8d970b6d83",
      "3f8b4eb514284349ac1c608a099260ab",
      "7cd10526f4b4493f9b26cff9c70fb125",
      "89be829f3c4848baa137048849f5c665",
      "03bcfa041d2441ff9d87431eda36e134",
      "14e5575bf5a943a681a72f253623af7d",
      "304c300f25bd4a1c996e699e929af8fb"
     ]
    },
    "outputId": "68dba851-115c-4d22-c0d6-2091b91d5bd3"
   },
   "id": "1871eeebb6f35511"
  },
  {
   "cell_type": "markdown",
   "source": [
    "## Building a Model\n",
    "\n",
    "Now that we have a sense of what the data looks like, let's build a model to predict the severity of an accident. We are going to use the `H2O` library to conveniently test a range of machine learning models.\n",
    "\n",
    "H2O has functionality called \"AutoML\" that allows us to automatically build a model. This is a great way to get started with machine learning. We will use the `H2OAutoML` class to build a model. This class will automatically try a number of different models and select the best one.\n",
    "\n",
    "There are a couple of columns that we might want to predict in this dataset - `Accident_Severity` and `Number_of_Casualties`. To start with, we are going to make a model that predicts if an accident is fatal or not. We will use the `Accident_Severity` column as our target column. We will use all the other columns as our features. Because `Number_of_Casualties` is related to `Accident_Severity`, we will drop it from our features."
   ],
   "metadata": {
    "collapsed": false,
    "id": "479155c999a4b114"
   },
   "id": "479155c999a4b114"
  },
  {
   "cell_type": "code",
   "source": [
    "# Currently the time column is a string. We are going to convert it to a datetime column\n",
    "incidents = incidents[incidents.Time != 'None']\n",
    "incidents = incidents[incidents.Time != 'No']\n",
    "incidents['Time'] = pd.to_datetime(incidents['Time'], format='%H:%M').copy()"
   ],
   "metadata": {
    "id": "aNlnb0AvRuyr"
   },
   "id": "aNlnb0AvRuyr",
   "execution_count": null,
   "outputs": []
  },
  {
   "cell_type": "code",
   "source": [
    "# Because the data is so imbalanced, we are going to take 10,000 random samples from the non-fatal accidents and 10,000 random samples from the fatal accidents\n",
    "# This will make the data more balanced, and make it easier to train a model\n",
    "non_fatal = incidents[incidents['Accident_Severity'] == 'Slight'].sample(10000, random_state=42)\n",
    "fatal = incidents[incidents['Accident_Severity'] == 'Fatal'].sample(10000, random_state=42)\n",
    "\n",
    "# Combine the two samples into a single dataframe\n",
    "incidents = pd.concat([non_fatal, fatal])"
   ],
   "metadata": {
    "id": "y4Pi_zyyMwK4"
   },
   "id": "y4Pi_zyyMwK4",
   "execution_count": null,
   "outputs": []
  },
  {
   "cell_type": "code",
   "source": [
    "incidents['Accident_Severity'] = (incidents['Accident_Severity'] == 'Fatal')\n",
    "print(incidents['Accident_Severity'].sum())"
   ],
   "metadata": {
    "id": "j14hIAZvGZrx",
    "colab": {
     "base_uri": "https://localhost:8080/"
    },
    "outputId": "2b01060e-ae4d-419d-d282-4106873ff404"
   },
   "id": "j14hIAZvGZrx",
   "execution_count": null,
   "outputs": []
  },
  {
   "cell_type": "code",
   "execution_count": null,
   "outputs": [],
   "source": [
    "x = incidents.columns\n",
    "x = x.drop(['Accident_Severity', 'Number_of_Casualties','Did_Police_Officer_Attend_Scene_of_Accident'])\n",
    "x = x.to_list()\n",
    "y = 'Accident_Severity'\n",
    "print(f'Features: {x}')\n",
    "print(f'Target: {y}')"
   ],
   "metadata": {
    "id": "7448bf5674b1998f",
    "colab": {
     "base_uri": "https://localhost:8080/"
    },
    "outputId": "09c6479f-1b00-45cc-d452-d64a1e70b8a6"
   },
   "id": "7448bf5674b1998f"
  },
  {
   "cell_type": "markdown",
   "source": [
    "As before, we will split our data into a training and testing set. We also need to convert our data into a format that H2O can understand. We will use the `h2o.H2OFrame` class to do this. This class is similar to a `pandas` dataframe, but it's designed to work with H2O. Lastly in this cell, will also convert our target column to a categorical column, because we want to predict a category."
   ],
   "metadata": {
    "collapsed": false,
    "id": "9642fa5b81844741"
   },
   "id": "9642fa5b81844741"
  },
  {
   "cell_type": "code",
   "execution_count": null,
   "outputs": [],
   "source": [
    "# Split the data into training and testing sets\n",
    "X_train, X_test, y_train, y_test = train_test_split(\n",
    "    incidents[x],\n",
    "    incidents[y],\n",
    "    test_size=0.2,\n",
    "    random_state=42\n",
    ")\n",
    "\n",
    "# Convert the data into a format that H2O can understand\n",
    "h2o.init()\n",
    "train = h2o.H2OFrame(pd.concat([X_train, y_train], axis=1)) # H2O expects a single dataframe with the features and target\n",
    "test = h2o.H2OFrame(pd.concat([X_test, y_test], axis=1))\n",
    "\n",
    "# Convert the target column to a categorical column\n",
    "train[y] = train[y].asfactor()\n",
    "test[y] = test[y].asfactor()"
   ],
   "metadata": {
    "id": "b71eaa3eedf7a057",
    "colab": {
     "base_uri": "https://localhost:8080/",
     "height": 561
    },
    "outputId": "29afc7da-e5fd-4718-b97a-3c62eb8c9597"
   },
   "id": "b71eaa3eedf7a057"
  },
  {
   "cell_type": "markdown",
   "source": [
    "Now we will define the settings for our model search. We have set the time for the search to run at 10 minutes."
   ],
   "metadata": {
    "collapsed": false,
    "id": "f632bfd963d7a5f8"
   },
   "id": "f632bfd963d7a5f8"
  },
  {
   "cell_type": "code",
   "execution_count": null,
   "outputs": [],
   "source": [
    "# Define the settings for the model search\n",
    "aml = H2OAutoML(\n",
    "    project_name='UK_RTAs', # Give the model search a name\n",
    "    sort_metric='AUCPR', # We want to maximize the area under the precision-recall curve - this is a good metric for imbalanced data\n",
    "    max_runtime_secs=3*60, # Only allow the model search to run for 3 minutes\n",
    "    seed=42, # Set the random seed for reproducibility\n",
    "    verbosity='info', # Print out progress\n",
    "    nfolds=0, # Don't use CV\n",
    "    keep_cross_validation_predictions=True, # Save the cross-validation predictions - this will speed up the model search, but gives us worse understanding of model performance\n",
    "    exclude_algos=['DeepLearning', 'StackedEnsemble'], # Don't use black-box models\n",
    "    export_checkpoints_dir='checkpoints' # Save the models to a folder called \"checkpoints\"\n",
    ")"
   ],
   "metadata": {
    "id": "dc27fc4123eba483"
   },
   "id": "dc27fc4123eba483"
  },
  {
   "cell_type": "markdown",
   "source": [
    "Now we can train our model! This will take a few minutes. Note that you can see the progress of the model search in the output below."
   ],
   "metadata": {
    "collapsed": false,
    "id": "b8ba1001d7fbbc60"
   },
   "id": "b8ba1001d7fbbc60"
  },
  {
   "cell_type": "code",
   "execution_count": null,
   "outputs": [],
   "source": [
    "# Train the model\n",
    "aml.train(\n",
    "    x=x,\n",
    "    y=y,\n",
    "    training_frame=train,\n",
    "    validation_frame=test\n",
    ")"
   ],
   "metadata": {
    "id": "874c0c6886803cb5",
    "outputId": "4d0e5c30-2172-4411-eeeb-429df40acf08",
    "colab": {
     "base_uri": "https://localhost:8080/",
     "height": 1000
    }
   },
   "id": "874c0c6886803cb5"
  },
  {
   "cell_type": "markdown",
   "source": [
    "## Understanding the Model\n",
    "\n",
    "Now that we have trained our model, we can take a look at the results. The `leaderboard` method will show us the best models found during the search. We can sort them by any of the different metrics calculated by H2O. We will sort by AUCPR, which is a good metric for imbalanced data."
   ],
   "metadata": {
    "collapsed": false,
    "id": "3c43a9f355820faa"
   },
   "id": "3c43a9f355820faa"
  },
  {
   "cell_type": "code",
   "source": [
    "leaderboard = aml.leaderboard\n",
    "leaderboard.head(rows=leaderboard.nrows)"
   ],
   "metadata": {
    "id": "aCuq5MCgbFCS",
    "outputId": "7375b7f3-94ad-4431-810a-1b55f49eb35f",
    "colab": {
     "base_uri": "https://localhost:8080/",
     "height": 1000
    }
   },
   "id": "aCuq5MCgbFCS",
   "execution_count": null,
   "outputs": []
  },
  {
   "cell_type": "markdown",
   "source": [
    "We can retrieve the top performing model from the leaderboard based on AUCPR, but it's also possible to retrieve the best model based on other metrics, or the best model that uses a specific method:"
   ],
   "metadata": {
    "collapsed": false,
    "id": "137ba121354e3604"
   },
   "id": "137ba121354e3604"
  },
  {
   "cell_type": "code",
   "execution_count": null,
   "outputs": [],
   "source": [
    "# Get the best model\n",
    "best_model = aml.leader\n",
    "\n",
    "# Get the best model based on a specific metric\n",
    "best_model_mpce = aml.get_best_model(criterion='mean_per_class_error')\n",
    "\n",
    "# Get the best model that uses a specific method\n",
    "best_model_xgb = aml.get_best_model(algorithm='GLM')"
   ],
   "metadata": {
    "id": "d53f9c806aff5cd5"
   },
   "id": "d53f9c806aff5cd5"
  },
  {
   "cell_type": "markdown",
   "source": [
    "Let's look at the performance of our top model in a bit more detail. We can use scikit-learn's `confusion_matrix` function to see how many mistakes our model made, and calculate per-class accuracy:"
   ],
   "metadata": {
    "collapsed": false,
    "id": "177fe0687df51268"
   },
   "id": "177fe0687df51268"
  },
  {
   "cell_type": "code",
   "execution_count": null,
   "outputs": [],
   "source": [
    "from sklearn.metrics import confusion_matrix\n",
    "y_pred = best_model.predict(test).as_data_frame()['predict'].values\n",
    "cm = confusion_matrix(y_test, y_pred)"
   ],
   "metadata": {
    "id": "df8948a018897a1f",
    "outputId": "a18eba24-2928-42bb-c98c-61dfe1e0fde8",
    "colab": {
     "base_uri": "https://localhost:8080/"
    }
   },
   "id": "df8948a018897a1f"
  },
  {
   "cell_type": "code",
   "execution_count": null,
   "outputs": [],
   "source": [
    "print(f'Non-Fatal Accidents: {cm[0][0]} correct, {cm[0][1]} incorrect, {cm[0][0]/(cm[0][0]+cm[0][1])*100:.2f}% accuracy')\n",
    "print(f'Fatal Accidents:     {cm[1][1]} correct, {cm[1][0]} incorrect, {cm[1][1]/(cm[1][1]+cm[1][0])*100:.2f}% accuracy')"
   ],
   "metadata": {
    "id": "b6ccdb28c5424ee2",
    "outputId": "aa90fd61-42d6-4e93-b47b-09a28f30bcee",
    "colab": {
     "base_uri": "https://localhost:8080/"
    }
   },
   "id": "b6ccdb28c5424ee2"
  },
  {
   "cell_type": "markdown",
   "source": [
    "This is a good start, but we can dive deeper into understanding our model. H2O has a number of built-in functions that allow us to understand our model. The `varimp_plot` function will show us the most important features in our model:"
   ],
   "metadata": {
    "collapsed": false,
    "id": "d9d3a7dfa41ab8b2"
   },
   "id": "d9d3a7dfa41ab8b2"
  },
  {
   "cell_type": "code",
   "execution_count": null,
   "outputs": [],
   "source": [
    "best_model.varimp_plot();"
   ],
   "metadata": {
    "id": "86c647400ae91abe",
    "outputId": "988fe2f9-e042-4504-8066-8dbd9dc32396",
    "colab": {
     "base_uri": "https://localhost:8080/",
     "height": 878
    }
   },
   "id": "86c647400ae91abe"
  },
  {
   "cell_type": "markdown",
   "source": [
    "This is a useful overview of which of our features impact the model the most. It's unsurprising that the speed limit is one of the most important features. But what about the other features? We can use the `partial_plot` function to see how each feature impacts the model. This function will show us how the model's predictions change as we change the value of a single feature. This is a great way to understand how the model works. Take a look at the plot for `Speed_limit`:"
   ],
   "metadata": {
    "collapsed": false,
    "id": "20fa4a36263af23f"
   },
   "id": "20fa4a36263af23f"
  },
  {
   "cell_type": "code",
   "execution_count": null,
   "outputs": [],
   "source": [
    "best_model.partial_plot(frame=test, cols=['Speed_limit'], figsize=(10,10));"
   ],
   "metadata": {
    "id": "a039b8df27b17206",
    "outputId": "91d88f9f-5a21-4e2f-8a00-f465727990cb",
    "colab": {
     "base_uri": "https://localhost:8080/",
     "height": 1000
    }
   },
   "id": "a039b8df27b17206"
  },
  {
   "cell_type": "markdown",
   "source": [
    "This shows us in more detail how different speed limits affect the likelihood of our model predicting a fatality. It looks how we would expect.\n",
    "\n",
    "**Your turn**\n",
    "\n",
    "Choose another feature and look at its partial dependence plot. What do you notice? ______________"
   ],
   "metadata": {
    "collapsed": false,
    "id": "297431ef51f160f0"
   },
   "id": "297431ef51f160f0"
  },
  {
   "cell_type": "code",
   "execution_count": null,
   "outputs": [],
   "source": [
    "# Your code here"
   ],
   "metadata": {
    "id": "afa53f309c6aeb6c"
   },
   "id": "afa53f309c6aeb6c"
  },
  {
   "cell_type": "markdown",
   "source": [
    "Finally, we can look at why the model made a specific prediction. First, we will look at the SHAP explanation for a specific row. SHAP is a method for explaining individual predictions. It shows us how each feature contributed to the model's prediction for a specific row. This is a great way to understand why the model made a specific prediction. Take a look at the SHAP explanation for the first row in the test set:"
   ],
   "metadata": {
    "collapsed": false,
    "id": "7156c2fb7ba84a58"
   },
   "id": "7156c2fb7ba84a58"
  },
  {
   "cell_type": "code",
   "execution_count": null,
   "outputs": [],
   "source": [
    "best_model.shap_explain_row_plot(test, row_index=0, top_n_features=20) # Show the contributions of the 20 most impactful values"
   ],
   "metadata": {
    "id": "adad88791058e1e2",
    "outputId": "3b91423d-b0c7-42b2-b98e-70aed3772b29",
    "colab": {
     "base_uri": "https://localhost:8080/",
     "height": 1000
    }
   },
   "id": "adad88791058e1e2"
  },
  {
   "cell_type": "markdown",
   "source": [
    "From this, we can see that the most impactful value in terms of predicting a fatality in this specific case was that the vehicle left the carriageway (confusingly worded here as `Vehicle_Leaving_Carriageway.Did not leave carriageway=False`, which is a double negative). What if the car had been going slower? We can use the `pd_plot` function to see how the model's prediction would have changed if the car had been going slower:"
   ],
   "metadata": {
    "collapsed": false,
    "id": "b88b9944ac73da7a"
   },
   "id": "b88b9944ac73da7a"
  },
  {
   "cell_type": "code",
   "execution_count": null,
   "outputs": [],
   "source": [
    "best_model.pd_plot(test, 'Speed_limit', row_index=0)"
   ],
   "metadata": {
    "id": "a01d96c7c80d58d7",
    "outputId": "68efcb61-e078-478d-ab19-a72f79c95aae",
    "colab": {
     "base_uri": "https://localhost:8080/",
     "height": 924
    }
   },
   "id": "a01d96c7c80d58d7"
  },
  {
   "cell_type": "markdown",
   "source": [
    "This shows us that if the car had been going slower, the model would have been less likely to predict a fatality. This is a great way to understand how the model works.\n",
    "\n",
    "## Conclusion\n",
    "\n",
    "In this workbook, we have looked at how to use machine learning to understand historical safety data. We have used the `ydata-profiling` library to understand the data, and the `H2O` library to build an explainable machine learning model. We have seen how to use the `H2OAutoML` class to automatically build a model, and how to use the `varimp_plot`, `partial_plot`, and `shap_explain_row_plot` functions to understand the model. We have seen how to use the `pd_plot` function to understand how the model's predictions would have changed if the data had been different."
   ],
   "metadata": {
    "collapsed": false,
    "id": "faadf25704b580d1"
   },
   "id": "faadf25704b580d1"
  }
 ],
 "metadata": {
  "kernelspec": {
   "display_name": "Python 3",
   "language": "python",
   "name": "python3"
  },
  "language_info": {
   "codemirror_mode": {
    "name": "ipython",
    "version": 2
   },
   "file_extension": ".py",
   "mimetype": "text/x-python",
   "name": "python",
   "nbconvert_exporter": "python",
   "pygments_lexer": "ipython2",
   "version": "2.7.6"
  },
  "colab": {
   "provenance": []
  },
  "widgets": {
   "application/vnd.jupyter.widget-state+json": {
    "76326e335ae64892a54e5fbda3d24b48": {
     "model_module": "@jupyter-widgets/controls",
     "model_name": "HBoxModel",
     "model_module_version": "1.5.0",
     "state": {
      "_dom_classes": [],
      "_model_module": "@jupyter-widgets/controls",
      "_model_module_version": "1.5.0",
      "_model_name": "HBoxModel",
      "_view_count": null,
      "_view_module": "@jupyter-widgets/controls",
      "_view_module_version": "1.5.0",
      "_view_name": "HBoxView",
      "box_style": "",
      "children": [
       "IPY_MODEL_c301c7206999400d8c35fcd5c4283d66",
       "IPY_MODEL_a1dfe4751b5d4819a2e7d6fb8dafecea",
       "IPY_MODEL_daff0f342f97452ca90a10812fcb2995"
      ],
      "layout": "IPY_MODEL_b50f5e8f11ba448e81a4610e52e07aaa"
     }
    },
    "c301c7206999400d8c35fcd5c4283d66": {
     "model_module": "@jupyter-widgets/controls",
     "model_name": "HTMLModel",
     "model_module_version": "1.5.0",
     "state": {
      "_dom_classes": [],
      "_model_module": "@jupyter-widgets/controls",
      "_model_module_version": "1.5.0",
      "_model_name": "HTMLModel",
      "_view_count": null,
      "_view_module": "@jupyter-widgets/controls",
      "_view_module_version": "1.5.0",
      "_view_name": "HTMLView",
      "description": "",
      "description_tooltip": null,
      "layout": "IPY_MODEL_a434fc70e1604a25b24d8890f397fac2",
      "placeholder": "​",
      "style": "IPY_MODEL_af2ee112d6984e8ca633cd0efa2e94b4",
      "value": "Summarize dataset: 100%"
     }
    },
    "a1dfe4751b5d4819a2e7d6fb8dafecea": {
     "model_module": "@jupyter-widgets/controls",
     "model_name": "FloatProgressModel",
     "model_module_version": "1.5.0",
     "state": {
      "_dom_classes": [],
      "_model_module": "@jupyter-widgets/controls",
      "_model_module_version": "1.5.0",
      "_model_name": "FloatProgressModel",
      "_view_count": null,
      "_view_module": "@jupyter-widgets/controls",
      "_view_module_version": "1.5.0",
      "_view_name": "ProgressView",
      "bar_style": "success",
      "description": "",
      "description_tooltip": null,
      "layout": "IPY_MODEL_fcc371dfc5f7452fbe0b183a14a45409",
      "max": 5,
      "min": 0,
      "orientation": "horizontal",
      "style": "IPY_MODEL_4d7caa093b90491a81759d2c2caa4e8c",
      "value": 5
     }
    },
    "daff0f342f97452ca90a10812fcb2995": {
     "model_module": "@jupyter-widgets/controls",
     "model_name": "HTMLModel",
     "model_module_version": "1.5.0",
     "state": {
      "_dom_classes": [],
      "_model_module": "@jupyter-widgets/controls",
      "_model_module_version": "1.5.0",
      "_model_name": "HTMLModel",
      "_view_count": null,
      "_view_module": "@jupyter-widgets/controls",
      "_view_module_version": "1.5.0",
      "_view_name": "HTMLView",
      "description": "",
      "description_tooltip": null,
      "layout": "IPY_MODEL_0f942dcfc8874b40917c6e23e609f456",
      "placeholder": "​",
      "style": "IPY_MODEL_920e6c4c355a43868a5565e49a999cff",
      "value": " 82/82 [04:12&lt;00:00,  3.47s/it, Completed]"
     }
    },
    "b50f5e8f11ba448e81a4610e52e07aaa": {
     "model_module": "@jupyter-widgets/base",
     "model_name": "LayoutModel",
     "model_module_version": "1.2.0",
     "state": {
      "_model_module": "@jupyter-widgets/base",
      "_model_module_version": "1.2.0",
      "_model_name": "LayoutModel",
      "_view_count": null,
      "_view_module": "@jupyter-widgets/base",
      "_view_module_version": "1.2.0",
      "_view_name": "LayoutView",
      "align_content": null,
      "align_items": null,
      "align_self": null,
      "border": null,
      "bottom": null,
      "display": null,
      "flex": null,
      "flex_flow": null,
      "grid_area": null,
      "grid_auto_columns": null,
      "grid_auto_flow": null,
      "grid_auto_rows": null,
      "grid_column": null,
      "grid_gap": null,
      "grid_row": null,
      "grid_template_areas": null,
      "grid_template_columns": null,
      "grid_template_rows": null,
      "height": null,
      "justify_content": null,
      "justify_items": null,
      "left": null,
      "margin": null,
      "max_height": null,
      "max_width": null,
      "min_height": null,
      "min_width": null,
      "object_fit": null,
      "object_position": null,
      "order": null,
      "overflow": null,
      "overflow_x": null,
      "overflow_y": null,
      "padding": null,
      "right": null,
      "top": null,
      "visibility": null,
      "width": null
     }
    },
    "a434fc70e1604a25b24d8890f397fac2": {
     "model_module": "@jupyter-widgets/base",
     "model_name": "LayoutModel",
     "model_module_version": "1.2.0",
     "state": {
      "_model_module": "@jupyter-widgets/base",
      "_model_module_version": "1.2.0",
      "_model_name": "LayoutModel",
      "_view_count": null,
      "_view_module": "@jupyter-widgets/base",
      "_view_module_version": "1.2.0",
      "_view_name": "LayoutView",
      "align_content": null,
      "align_items": null,
      "align_self": null,
      "border": null,
      "bottom": null,
      "display": null,
      "flex": null,
      "flex_flow": null,
      "grid_area": null,
      "grid_auto_columns": null,
      "grid_auto_flow": null,
      "grid_auto_rows": null,
      "grid_column": null,
      "grid_gap": null,
      "grid_row": null,
      "grid_template_areas": null,
      "grid_template_columns": null,
      "grid_template_rows": null,
      "height": null,
      "justify_content": null,
      "justify_items": null,
      "left": null,
      "margin": null,
      "max_height": null,
      "max_width": null,
      "min_height": null,
      "min_width": null,
      "object_fit": null,
      "object_position": null,
      "order": null,
      "overflow": null,
      "overflow_x": null,
      "overflow_y": null,
      "padding": null,
      "right": null,
      "top": null,
      "visibility": null,
      "width": null
     }
    },
    "af2ee112d6984e8ca633cd0efa2e94b4": {
     "model_module": "@jupyter-widgets/controls",
     "model_name": "DescriptionStyleModel",
     "model_module_version": "1.5.0",
     "state": {
      "_model_module": "@jupyter-widgets/controls",
      "_model_module_version": "1.5.0",
      "_model_name": "DescriptionStyleModel",
      "_view_count": null,
      "_view_module": "@jupyter-widgets/base",
      "_view_module_version": "1.2.0",
      "_view_name": "StyleView",
      "description_width": ""
     }
    },
    "fcc371dfc5f7452fbe0b183a14a45409": {
     "model_module": "@jupyter-widgets/base",
     "model_name": "LayoutModel",
     "model_module_version": "1.2.0",
     "state": {
      "_model_module": "@jupyter-widgets/base",
      "_model_module_version": "1.2.0",
      "_model_name": "LayoutModel",
      "_view_count": null,
      "_view_module": "@jupyter-widgets/base",
      "_view_module_version": "1.2.0",
      "_view_name": "LayoutView",
      "align_content": null,
      "align_items": null,
      "align_self": null,
      "border": null,
      "bottom": null,
      "display": null,
      "flex": null,
      "flex_flow": null,
      "grid_area": null,
      "grid_auto_columns": null,
      "grid_auto_flow": null,
      "grid_auto_rows": null,
      "grid_column": null,
      "grid_gap": null,
      "grid_row": null,
      "grid_template_areas": null,
      "grid_template_columns": null,
      "grid_template_rows": null,
      "height": null,
      "justify_content": null,
      "justify_items": null,
      "left": null,
      "margin": null,
      "max_height": null,
      "max_width": null,
      "min_height": null,
      "min_width": null,
      "object_fit": null,
      "object_position": null,
      "order": null,
      "overflow": null,
      "overflow_x": null,
      "overflow_y": null,
      "padding": null,
      "right": null,
      "top": null,
      "visibility": null,
      "width": null
     }
    },
    "4d7caa093b90491a81759d2c2caa4e8c": {
     "model_module": "@jupyter-widgets/controls",
     "model_name": "ProgressStyleModel",
     "model_module_version": "1.5.0",
     "state": {
      "_model_module": "@jupyter-widgets/controls",
      "_model_module_version": "1.5.0",
      "_model_name": "ProgressStyleModel",
      "_view_count": null,
      "_view_module": "@jupyter-widgets/base",
      "_view_module_version": "1.2.0",
      "_view_name": "StyleView",
      "bar_color": null,
      "description_width": ""
     }
    },
    "0f942dcfc8874b40917c6e23e609f456": {
     "model_module": "@jupyter-widgets/base",
     "model_name": "LayoutModel",
     "model_module_version": "1.2.0",
     "state": {
      "_model_module": "@jupyter-widgets/base",
      "_model_module_version": "1.2.0",
      "_model_name": "LayoutModel",
      "_view_count": null,
      "_view_module": "@jupyter-widgets/base",
      "_view_module_version": "1.2.0",
      "_view_name": "LayoutView",
      "align_content": null,
      "align_items": null,
      "align_self": null,
      "border": null,
      "bottom": null,
      "display": null,
      "flex": null,
      "flex_flow": null,
      "grid_area": null,
      "grid_auto_columns": null,
      "grid_auto_flow": null,
      "grid_auto_rows": null,
      "grid_column": null,
      "grid_gap": null,
      "grid_row": null,
      "grid_template_areas": null,
      "grid_template_columns": null,
      "grid_template_rows": null,
      "height": null,
      "justify_content": null,
      "justify_items": null,
      "left": null,
      "margin": null,
      "max_height": null,
      "max_width": null,
      "min_height": null,
      "min_width": null,
      "object_fit": null,
      "object_position": null,
      "order": null,
      "overflow": null,
      "overflow_x": null,
      "overflow_y": null,
      "padding": null,
      "right": null,
      "top": null,
      "visibility": null,
      "width": null
     }
    },
    "920e6c4c355a43868a5565e49a999cff": {
     "model_module": "@jupyter-widgets/controls",
     "model_name": "DescriptionStyleModel",
     "model_module_version": "1.5.0",
     "state": {
      "_model_module": "@jupyter-widgets/controls",
      "_model_module_version": "1.5.0",
      "_model_name": "DescriptionStyleModel",
      "_view_count": null,
      "_view_module": "@jupyter-widgets/base",
      "_view_module_version": "1.2.0",
      "_view_name": "StyleView",
      "description_width": ""
     }
    },
    "89f9bdd064a14dfca7de102052f09dfa": {
     "model_module": "@jupyter-widgets/controls",
     "model_name": "HBoxModel",
     "model_module_version": "1.5.0",
     "state": {
      "_dom_classes": [],
      "_model_module": "@jupyter-widgets/controls",
      "_model_module_version": "1.5.0",
      "_model_name": "HBoxModel",
      "_view_count": null,
      "_view_module": "@jupyter-widgets/controls",
      "_view_module_version": "1.5.0",
      "_view_name": "HBoxView",
      "box_style": "",
      "children": [
       "IPY_MODEL_89b913795e604a28aa46a39b94a93c94",
       "IPY_MODEL_4d41941321b54aea9049f79cd5b8a194",
       "IPY_MODEL_372161c81a074d17a97a15d8014419c2"
      ],
      "layout": "IPY_MODEL_6a5999d576df4739b31a896fe5928fc3"
     }
    },
    "89b913795e604a28aa46a39b94a93c94": {
     "model_module": "@jupyter-widgets/controls",
     "model_name": "HTMLModel",
     "model_module_version": "1.5.0",
     "state": {
      "_dom_classes": [],
      "_model_module": "@jupyter-widgets/controls",
      "_model_module_version": "1.5.0",
      "_model_name": "HTMLModel",
      "_view_count": null,
      "_view_module": "@jupyter-widgets/controls",
      "_view_module_version": "1.5.0",
      "_view_name": "HTMLView",
      "description": "",
      "description_tooltip": null,
      "layout": "IPY_MODEL_15f9ccbe51ac41c58a8bce5681d321e4",
      "placeholder": "​",
      "style": "IPY_MODEL_1f0b2634cfb64c46990f37bc10e8440b",
      "value": "Generate report structure: 100%"
     }
    },
    "4d41941321b54aea9049f79cd5b8a194": {
     "model_module": "@jupyter-widgets/controls",
     "model_name": "FloatProgressModel",
     "model_module_version": "1.5.0",
     "state": {
      "_dom_classes": [],
      "_model_module": "@jupyter-widgets/controls",
      "_model_module_version": "1.5.0",
      "_model_name": "FloatProgressModel",
      "_view_count": null,
      "_view_module": "@jupyter-widgets/controls",
      "_view_module_version": "1.5.0",
      "_view_name": "ProgressView",
      "bar_style": "success",
      "description": "",
      "description_tooltip": null,
      "layout": "IPY_MODEL_1a1ab870749c4641a06e74f361728347",
      "max": 1,
      "min": 0,
      "orientation": "horizontal",
      "style": "IPY_MODEL_129b4d076d024728b25db7be5f3338d9",
      "value": 1
     }
    },
    "372161c81a074d17a97a15d8014419c2": {
     "model_module": "@jupyter-widgets/controls",
     "model_name": "HTMLModel",
     "model_module_version": "1.5.0",
     "state": {
      "_dom_classes": [],
      "_model_module": "@jupyter-widgets/controls",
      "_model_module_version": "1.5.0",
      "_model_name": "HTMLModel",
      "_view_count": null,
      "_view_module": "@jupyter-widgets/controls",
      "_view_module_version": "1.5.0",
      "_view_name": "HTMLView",
      "description": "",
      "description_tooltip": null,
      "layout": "IPY_MODEL_86747e47ec1a4f5c8e00fecb532fad97",
      "placeholder": "​",
      "style": "IPY_MODEL_eade5e741b784bc08f3ae941a9f9758c",
      "value": " 1/1 [00:26&lt;00:00, 26.54s/it]"
     }
    },
    "6a5999d576df4739b31a896fe5928fc3": {
     "model_module": "@jupyter-widgets/base",
     "model_name": "LayoutModel",
     "model_module_version": "1.2.0",
     "state": {
      "_model_module": "@jupyter-widgets/base",
      "_model_module_version": "1.2.0",
      "_model_name": "LayoutModel",
      "_view_count": null,
      "_view_module": "@jupyter-widgets/base",
      "_view_module_version": "1.2.0",
      "_view_name": "LayoutView",
      "align_content": null,
      "align_items": null,
      "align_self": null,
      "border": null,
      "bottom": null,
      "display": null,
      "flex": null,
      "flex_flow": null,
      "grid_area": null,
      "grid_auto_columns": null,
      "grid_auto_flow": null,
      "grid_auto_rows": null,
      "grid_column": null,
      "grid_gap": null,
      "grid_row": null,
      "grid_template_areas": null,
      "grid_template_columns": null,
      "grid_template_rows": null,
      "height": null,
      "justify_content": null,
      "justify_items": null,
      "left": null,
      "margin": null,
      "max_height": null,
      "max_width": null,
      "min_height": null,
      "min_width": null,
      "object_fit": null,
      "object_position": null,
      "order": null,
      "overflow": null,
      "overflow_x": null,
      "overflow_y": null,
      "padding": null,
      "right": null,
      "top": null,
      "visibility": null,
      "width": null
     }
    },
    "15f9ccbe51ac41c58a8bce5681d321e4": {
     "model_module": "@jupyter-widgets/base",
     "model_name": "LayoutModel",
     "model_module_version": "1.2.0",
     "state": {
      "_model_module": "@jupyter-widgets/base",
      "_model_module_version": "1.2.0",
      "_model_name": "LayoutModel",
      "_view_count": null,
      "_view_module": "@jupyter-widgets/base",
      "_view_module_version": "1.2.0",
      "_view_name": "LayoutView",
      "align_content": null,
      "align_items": null,
      "align_self": null,
      "border": null,
      "bottom": null,
      "display": null,
      "flex": null,
      "flex_flow": null,
      "grid_area": null,
      "grid_auto_columns": null,
      "grid_auto_flow": null,
      "grid_auto_rows": null,
      "grid_column": null,
      "grid_gap": null,
      "grid_row": null,
      "grid_template_areas": null,
      "grid_template_columns": null,
      "grid_template_rows": null,
      "height": null,
      "justify_content": null,
      "justify_items": null,
      "left": null,
      "margin": null,
      "max_height": null,
      "max_width": null,
      "min_height": null,
      "min_width": null,
      "object_fit": null,
      "object_position": null,
      "order": null,
      "overflow": null,
      "overflow_x": null,
      "overflow_y": null,
      "padding": null,
      "right": null,
      "top": null,
      "visibility": null,
      "width": null
     }
    },
    "1f0b2634cfb64c46990f37bc10e8440b": {
     "model_module": "@jupyter-widgets/controls",
     "model_name": "DescriptionStyleModel",
     "model_module_version": "1.5.0",
     "state": {
      "_model_module": "@jupyter-widgets/controls",
      "_model_module_version": "1.5.0",
      "_model_name": "DescriptionStyleModel",
      "_view_count": null,
      "_view_module": "@jupyter-widgets/base",
      "_view_module_version": "1.2.0",
      "_view_name": "StyleView",
      "description_width": ""
     }
    },
    "1a1ab870749c4641a06e74f361728347": {
     "model_module": "@jupyter-widgets/base",
     "model_name": "LayoutModel",
     "model_module_version": "1.2.0",
     "state": {
      "_model_module": "@jupyter-widgets/base",
      "_model_module_version": "1.2.0",
      "_model_name": "LayoutModel",
      "_view_count": null,
      "_view_module": "@jupyter-widgets/base",
      "_view_module_version": "1.2.0",
      "_view_name": "LayoutView",
      "align_content": null,
      "align_items": null,
      "align_self": null,
      "border": null,
      "bottom": null,
      "display": null,
      "flex": null,
      "flex_flow": null,
      "grid_area": null,
      "grid_auto_columns": null,
      "grid_auto_flow": null,
      "grid_auto_rows": null,
      "grid_column": null,
      "grid_gap": null,
      "grid_row": null,
      "grid_template_areas": null,
      "grid_template_columns": null,
      "grid_template_rows": null,
      "height": null,
      "justify_content": null,
      "justify_items": null,
      "left": null,
      "margin": null,
      "max_height": null,
      "max_width": null,
      "min_height": null,
      "min_width": null,
      "object_fit": null,
      "object_position": null,
      "order": null,
      "overflow": null,
      "overflow_x": null,
      "overflow_y": null,
      "padding": null,
      "right": null,
      "top": null,
      "visibility": null,
      "width": null
     }
    },
    "129b4d076d024728b25db7be5f3338d9": {
     "model_module": "@jupyter-widgets/controls",
     "model_name": "ProgressStyleModel",
     "model_module_version": "1.5.0",
     "state": {
      "_model_module": "@jupyter-widgets/controls",
      "_model_module_version": "1.5.0",
      "_model_name": "ProgressStyleModel",
      "_view_count": null,
      "_view_module": "@jupyter-widgets/base",
      "_view_module_version": "1.2.0",
      "_view_name": "StyleView",
      "bar_color": null,
      "description_width": ""
     }
    },
    "86747e47ec1a4f5c8e00fecb532fad97": {
     "model_module": "@jupyter-widgets/base",
     "model_name": "LayoutModel",
     "model_module_version": "1.2.0",
     "state": {
      "_model_module": "@jupyter-widgets/base",
      "_model_module_version": "1.2.0",
      "_model_name": "LayoutModel",
      "_view_count": null,
      "_view_module": "@jupyter-widgets/base",
      "_view_module_version": "1.2.0",
      "_view_name": "LayoutView",
      "align_content": null,
      "align_items": null,
      "align_self": null,
      "border": null,
      "bottom": null,
      "display": null,
      "flex": null,
      "flex_flow": null,
      "grid_area": null,
      "grid_auto_columns": null,
      "grid_auto_flow": null,
      "grid_auto_rows": null,
      "grid_column": null,
      "grid_gap": null,
      "grid_row": null,
      "grid_template_areas": null,
      "grid_template_columns": null,
      "grid_template_rows": null,
      "height": null,
      "justify_content": null,
      "justify_items": null,
      "left": null,
      "margin": null,
      "max_height": null,
      "max_width": null,
      "min_height": null,
      "min_width": null,
      "object_fit": null,
      "object_position": null,
      "order": null,
      "overflow": null,
      "overflow_x": null,
      "overflow_y": null,
      "padding": null,
      "right": null,
      "top": null,
      "visibility": null,
      "width": null
     }
    },
    "eade5e741b784bc08f3ae941a9f9758c": {
     "model_module": "@jupyter-widgets/controls",
     "model_name": "DescriptionStyleModel",
     "model_module_version": "1.5.0",
     "state": {
      "_model_module": "@jupyter-widgets/controls",
      "_model_module_version": "1.5.0",
      "_model_name": "DescriptionStyleModel",
      "_view_count": null,
      "_view_module": "@jupyter-widgets/base",
      "_view_module_version": "1.2.0",
      "_view_name": "StyleView",
      "description_width": ""
     }
    },
    "9021a0659d76453fa4fe17584e8c7449": {
     "model_module": "@jupyter-widgets/controls",
     "model_name": "HBoxModel",
     "model_module_version": "1.5.0",
     "state": {
      "_dom_classes": [],
      "_model_module": "@jupyter-widgets/controls",
      "_model_module_version": "1.5.0",
      "_model_name": "HBoxModel",
      "_view_count": null,
      "_view_module": "@jupyter-widgets/controls",
      "_view_module_version": "1.5.0",
      "_view_name": "HBoxView",
      "box_style": "",
      "children": [
       "IPY_MODEL_cc569a1be728418e885204a965fcdb55",
       "IPY_MODEL_6a059c7286a84c5aa829dfdcd6d90c43",
       "IPY_MODEL_b460353ea2bd4377b375cb2f2172cc9e"
      ],
      "layout": "IPY_MODEL_1fac0b1173d54d00ab4128d99f1edc6f"
     }
    },
    "cc569a1be728418e885204a965fcdb55": {
     "model_module": "@jupyter-widgets/controls",
     "model_name": "HTMLModel",
     "model_module_version": "1.5.0",
     "state": {
      "_dom_classes": [],
      "_model_module": "@jupyter-widgets/controls",
      "_model_module_version": "1.5.0",
      "_model_name": "HTMLModel",
      "_view_count": null,
      "_view_module": "@jupyter-widgets/controls",
      "_view_module_version": "1.5.0",
      "_view_name": "HTMLView",
      "description": "",
      "description_tooltip": null,
      "layout": "IPY_MODEL_45501f46a2954a31863c79b4bc4fdf43",
      "placeholder": "​",
      "style": "IPY_MODEL_cbb8724cb8be465fb375c50644e8ad07",
      "value": "Render HTML: 100%"
     }
    },
    "6a059c7286a84c5aa829dfdcd6d90c43": {
     "model_module": "@jupyter-widgets/controls",
     "model_name": "FloatProgressModel",
     "model_module_version": "1.5.0",
     "state": {
      "_dom_classes": [],
      "_model_module": "@jupyter-widgets/controls",
      "_model_module_version": "1.5.0",
      "_model_name": "FloatProgressModel",
      "_view_count": null,
      "_view_module": "@jupyter-widgets/controls",
      "_view_module_version": "1.5.0",
      "_view_name": "ProgressView",
      "bar_style": "success",
      "description": "",
      "description_tooltip": null,
      "layout": "IPY_MODEL_3517df64628a4d91a6fa00742416ad14",
      "max": 1,
      "min": 0,
      "orientation": "horizontal",
      "style": "IPY_MODEL_75064854354b4ab7947dc84de636ebfa",
      "value": 1
     }
    },
    "b460353ea2bd4377b375cb2f2172cc9e": {
     "model_module": "@jupyter-widgets/controls",
     "model_name": "HTMLModel",
     "model_module_version": "1.5.0",
     "state": {
      "_dom_classes": [],
      "_model_module": "@jupyter-widgets/controls",
      "_model_module_version": "1.5.0",
      "_model_name": "HTMLModel",
      "_view_count": null,
      "_view_module": "@jupyter-widgets/controls",
      "_view_module_version": "1.5.0",
      "_view_name": "HTMLView",
      "description": "",
      "description_tooltip": null,
      "layout": "IPY_MODEL_29894ad4e4a64025a6d856c5f72989f9",
      "placeholder": "​",
      "style": "IPY_MODEL_c759520c40ee413c8455c426961cadc5",
      "value": " 1/1 [00:03&lt;00:00,  3.26s/it]"
     }
    },
    "1fac0b1173d54d00ab4128d99f1edc6f": {
     "model_module": "@jupyter-widgets/base",
     "model_name": "LayoutModel",
     "model_module_version": "1.2.0",
     "state": {
      "_model_module": "@jupyter-widgets/base",
      "_model_module_version": "1.2.0",
      "_model_name": "LayoutModel",
      "_view_count": null,
      "_view_module": "@jupyter-widgets/base",
      "_view_module_version": "1.2.0",
      "_view_name": "LayoutView",
      "align_content": null,
      "align_items": null,
      "align_self": null,
      "border": null,
      "bottom": null,
      "display": null,
      "flex": null,
      "flex_flow": null,
      "grid_area": null,
      "grid_auto_columns": null,
      "grid_auto_flow": null,
      "grid_auto_rows": null,
      "grid_column": null,
      "grid_gap": null,
      "grid_row": null,
      "grid_template_areas": null,
      "grid_template_columns": null,
      "grid_template_rows": null,
      "height": null,
      "justify_content": null,
      "justify_items": null,
      "left": null,
      "margin": null,
      "max_height": null,
      "max_width": null,
      "min_height": null,
      "min_width": null,
      "object_fit": null,
      "object_position": null,
      "order": null,
      "overflow": null,
      "overflow_x": null,
      "overflow_y": null,
      "padding": null,
      "right": null,
      "top": null,
      "visibility": null,
      "width": null
     }
    },
    "45501f46a2954a31863c79b4bc4fdf43": {
     "model_module": "@jupyter-widgets/base",
     "model_name": "LayoutModel",
     "model_module_version": "1.2.0",
     "state": {
      "_model_module": "@jupyter-widgets/base",
      "_model_module_version": "1.2.0",
      "_model_name": "LayoutModel",
      "_view_count": null,
      "_view_module": "@jupyter-widgets/base",
      "_view_module_version": "1.2.0",
      "_view_name": "LayoutView",
      "align_content": null,
      "align_items": null,
      "align_self": null,
      "border": null,
      "bottom": null,
      "display": null,
      "flex": null,
      "flex_flow": null,
      "grid_area": null,
      "grid_auto_columns": null,
      "grid_auto_flow": null,
      "grid_auto_rows": null,
      "grid_column": null,
      "grid_gap": null,
      "grid_row": null,
      "grid_template_areas": null,
      "grid_template_columns": null,
      "grid_template_rows": null,
      "height": null,
      "justify_content": null,
      "justify_items": null,
      "left": null,
      "margin": null,
      "max_height": null,
      "max_width": null,
      "min_height": null,
      "min_width": null,
      "object_fit": null,
      "object_position": null,
      "order": null,
      "overflow": null,
      "overflow_x": null,
      "overflow_y": null,
      "padding": null,
      "right": null,
      "top": null,
      "visibility": null,
      "width": null
     }
    },
    "cbb8724cb8be465fb375c50644e8ad07": {
     "model_module": "@jupyter-widgets/controls",
     "model_name": "DescriptionStyleModel",
     "model_module_version": "1.5.0",
     "state": {
      "_model_module": "@jupyter-widgets/controls",
      "_model_module_version": "1.5.0",
      "_model_name": "DescriptionStyleModel",
      "_view_count": null,
      "_view_module": "@jupyter-widgets/base",
      "_view_module_version": "1.2.0",
      "_view_name": "StyleView",
      "description_width": ""
     }
    },
    "3517df64628a4d91a6fa00742416ad14": {
     "model_module": "@jupyter-widgets/base",
     "model_name": "LayoutModel",
     "model_module_version": "1.2.0",
     "state": {
      "_model_module": "@jupyter-widgets/base",
      "_model_module_version": "1.2.0",
      "_model_name": "LayoutModel",
      "_view_count": null,
      "_view_module": "@jupyter-widgets/base",
      "_view_module_version": "1.2.0",
      "_view_name": "LayoutView",
      "align_content": null,
      "align_items": null,
      "align_self": null,
      "border": null,
      "bottom": null,
      "display": null,
      "flex": null,
      "flex_flow": null,
      "grid_area": null,
      "grid_auto_columns": null,
      "grid_auto_flow": null,
      "grid_auto_rows": null,
      "grid_column": null,
      "grid_gap": null,
      "grid_row": null,
      "grid_template_areas": null,
      "grid_template_columns": null,
      "grid_template_rows": null,
      "height": null,
      "justify_content": null,
      "justify_items": null,
      "left": null,
      "margin": null,
      "max_height": null,
      "max_width": null,
      "min_height": null,
      "min_width": null,
      "object_fit": null,
      "object_position": null,
      "order": null,
      "overflow": null,
      "overflow_x": null,
      "overflow_y": null,
      "padding": null,
      "right": null,
      "top": null,
      "visibility": null,
      "width": null
     }
    },
    "75064854354b4ab7947dc84de636ebfa": {
     "model_module": "@jupyter-widgets/controls",
     "model_name": "ProgressStyleModel",
     "model_module_version": "1.5.0",
     "state": {
      "_model_module": "@jupyter-widgets/controls",
      "_model_module_version": "1.5.0",
      "_model_name": "ProgressStyleModel",
      "_view_count": null,
      "_view_module": "@jupyter-widgets/base",
      "_view_module_version": "1.2.0",
      "_view_name": "StyleView",
      "bar_color": null,
      "description_width": ""
     }
    },
    "29894ad4e4a64025a6d856c5f72989f9": {
     "model_module": "@jupyter-widgets/base",
     "model_name": "LayoutModel",
     "model_module_version": "1.2.0",
     "state": {
      "_model_module": "@jupyter-widgets/base",
      "_model_module_version": "1.2.0",
      "_model_name": "LayoutModel",
      "_view_count": null,
      "_view_module": "@jupyter-widgets/base",
      "_view_module_version": "1.2.0",
      "_view_name": "LayoutView",
      "align_content": null,
      "align_items": null,
      "align_self": null,
      "border": null,
      "bottom": null,
      "display": null,
      "flex": null,
      "flex_flow": null,
      "grid_area": null,
      "grid_auto_columns": null,
      "grid_auto_flow": null,
      "grid_auto_rows": null,
      "grid_column": null,
      "grid_gap": null,
      "grid_row": null,
      "grid_template_areas": null,
      "grid_template_columns": null,
      "grid_template_rows": null,
      "height": null,
      "justify_content": null,
      "justify_items": null,
      "left": null,
      "margin": null,
      "max_height": null,
      "max_width": null,
      "min_height": null,
      "min_width": null,
      "object_fit": null,
      "object_position": null,
      "order": null,
      "overflow": null,
      "overflow_x": null,
      "overflow_y": null,
      "padding": null,
      "right": null,
      "top": null,
      "visibility": null,
      "width": null
     }
    },
    "c759520c40ee413c8455c426961cadc5": {
     "model_module": "@jupyter-widgets/controls",
     "model_name": "DescriptionStyleModel",
     "model_module_version": "1.5.0",
     "state": {
      "_model_module": "@jupyter-widgets/controls",
      "_model_module_version": "1.5.0",
      "_model_name": "DescriptionStyleModel",
      "_view_count": null,
      "_view_module": "@jupyter-widgets/base",
      "_view_module_version": "1.2.0",
      "_view_name": "StyleView",
      "description_width": ""
     }
    },
    "580e181c3f134830a741a9e286d27ac2": {
     "model_module": "@jupyter-widgets/controls",
     "model_name": "HBoxModel",
     "model_module_version": "1.5.0",
     "state": {
      "_dom_classes": [],
      "_model_module": "@jupyter-widgets/controls",
      "_model_module_version": "1.5.0",
      "_model_name": "HBoxModel",
      "_view_count": null,
      "_view_module": "@jupyter-widgets/controls",
      "_view_module_version": "1.5.0",
      "_view_name": "HBoxView",
      "box_style": "",
      "children": [
       "IPY_MODEL_dcdd2663ae554ac48f0c1dfb21915fe4",
       "IPY_MODEL_207eef0c6c954d4382a70521fcc2d10d",
       "IPY_MODEL_aaa7d7337da64efc9d0061da4f6ca8f7"
      ],
      "layout": "IPY_MODEL_bce3fa8fa0e7455298ea3f8d970b6d83"
     }
    },
    "dcdd2663ae554ac48f0c1dfb21915fe4": {
     "model_module": "@jupyter-widgets/controls",
     "model_name": "HTMLModel",
     "model_module_version": "1.5.0",
     "state": {
      "_dom_classes": [],
      "_model_module": "@jupyter-widgets/controls",
      "_model_module_version": "1.5.0",
      "_model_name": "HTMLModel",
      "_view_count": null,
      "_view_module": "@jupyter-widgets/controls",
      "_view_module_version": "1.5.0",
      "_view_name": "HTMLView",
      "description": "",
      "description_tooltip": null,
      "layout": "IPY_MODEL_3f8b4eb514284349ac1c608a099260ab",
      "placeholder": "​",
      "style": "IPY_MODEL_7cd10526f4b4493f9b26cff9c70fb125",
      "value": "Export report to file: 100%"
     }
    },
    "207eef0c6c954d4382a70521fcc2d10d": {
     "model_module": "@jupyter-widgets/controls",
     "model_name": "FloatProgressModel",
     "model_module_version": "1.5.0",
     "state": {
      "_dom_classes": [],
      "_model_module": "@jupyter-widgets/controls",
      "_model_module_version": "1.5.0",
      "_model_name": "FloatProgressModel",
      "_view_count": null,
      "_view_module": "@jupyter-widgets/controls",
      "_view_module_version": "1.5.0",
      "_view_name": "ProgressView",
      "bar_style": "success",
      "description": "",
      "description_tooltip": null,
      "layout": "IPY_MODEL_89be829f3c4848baa137048849f5c665",
      "max": 1,
      "min": 0,
      "orientation": "horizontal",
      "style": "IPY_MODEL_03bcfa041d2441ff9d87431eda36e134",
      "value": 1
     }
    },
    "aaa7d7337da64efc9d0061da4f6ca8f7": {
     "model_module": "@jupyter-widgets/controls",
     "model_name": "HTMLModel",
     "model_module_version": "1.5.0",
     "state": {
      "_dom_classes": [],
      "_model_module": "@jupyter-widgets/controls",
      "_model_module_version": "1.5.0",
      "_model_name": "HTMLModel",
      "_view_count": null,
      "_view_module": "@jupyter-widgets/controls",
      "_view_module_version": "1.5.0",
      "_view_name": "HTMLView",
      "description": "",
      "description_tooltip": null,
      "layout": "IPY_MODEL_14e5575bf5a943a681a72f253623af7d",
      "placeholder": "​",
      "style": "IPY_MODEL_304c300f25bd4a1c996e699e929af8fb",
      "value": " 1/1 [00:00&lt;00:00, 24.30it/s]"
     }
    },
    "bce3fa8fa0e7455298ea3f8d970b6d83": {
     "model_module": "@jupyter-widgets/base",
     "model_name": "LayoutModel",
     "model_module_version": "1.2.0",
     "state": {
      "_model_module": "@jupyter-widgets/base",
      "_model_module_version": "1.2.0",
      "_model_name": "LayoutModel",
      "_view_count": null,
      "_view_module": "@jupyter-widgets/base",
      "_view_module_version": "1.2.0",
      "_view_name": "LayoutView",
      "align_content": null,
      "align_items": null,
      "align_self": null,
      "border": null,
      "bottom": null,
      "display": null,
      "flex": null,
      "flex_flow": null,
      "grid_area": null,
      "grid_auto_columns": null,
      "grid_auto_flow": null,
      "grid_auto_rows": null,
      "grid_column": null,
      "grid_gap": null,
      "grid_row": null,
      "grid_template_areas": null,
      "grid_template_columns": null,
      "grid_template_rows": null,
      "height": null,
      "justify_content": null,
      "justify_items": null,
      "left": null,
      "margin": null,
      "max_height": null,
      "max_width": null,
      "min_height": null,
      "min_width": null,
      "object_fit": null,
      "object_position": null,
      "order": null,
      "overflow": null,
      "overflow_x": null,
      "overflow_y": null,
      "padding": null,
      "right": null,
      "top": null,
      "visibility": null,
      "width": null
     }
    },
    "3f8b4eb514284349ac1c608a099260ab": {
     "model_module": "@jupyter-widgets/base",
     "model_name": "LayoutModel",
     "model_module_version": "1.2.0",
     "state": {
      "_model_module": "@jupyter-widgets/base",
      "_model_module_version": "1.2.0",
      "_model_name": "LayoutModel",
      "_view_count": null,
      "_view_module": "@jupyter-widgets/base",
      "_view_module_version": "1.2.0",
      "_view_name": "LayoutView",
      "align_content": null,
      "align_items": null,
      "align_self": null,
      "border": null,
      "bottom": null,
      "display": null,
      "flex": null,
      "flex_flow": null,
      "grid_area": null,
      "grid_auto_columns": null,
      "grid_auto_flow": null,
      "grid_auto_rows": null,
      "grid_column": null,
      "grid_gap": null,
      "grid_row": null,
      "grid_template_areas": null,
      "grid_template_columns": null,
      "grid_template_rows": null,
      "height": null,
      "justify_content": null,
      "justify_items": null,
      "left": null,
      "margin": null,
      "max_height": null,
      "max_width": null,
      "min_height": null,
      "min_width": null,
      "object_fit": null,
      "object_position": null,
      "order": null,
      "overflow": null,
      "overflow_x": null,
      "overflow_y": null,
      "padding": null,
      "right": null,
      "top": null,
      "visibility": null,
      "width": null
     }
    },
    "7cd10526f4b4493f9b26cff9c70fb125": {
     "model_module": "@jupyter-widgets/controls",
     "model_name": "DescriptionStyleModel",
     "model_module_version": "1.5.0",
     "state": {
      "_model_module": "@jupyter-widgets/controls",
      "_model_module_version": "1.5.0",
      "_model_name": "DescriptionStyleModel",
      "_view_count": null,
      "_view_module": "@jupyter-widgets/base",
      "_view_module_version": "1.2.0",
      "_view_name": "StyleView",
      "description_width": ""
     }
    },
    "89be829f3c4848baa137048849f5c665": {
     "model_module": "@jupyter-widgets/base",
     "model_name": "LayoutModel",
     "model_module_version": "1.2.0",
     "state": {
      "_model_module": "@jupyter-widgets/base",
      "_model_module_version": "1.2.0",
      "_model_name": "LayoutModel",
      "_view_count": null,
      "_view_module": "@jupyter-widgets/base",
      "_view_module_version": "1.2.0",
      "_view_name": "LayoutView",
      "align_content": null,
      "align_items": null,
      "align_self": null,
      "border": null,
      "bottom": null,
      "display": null,
      "flex": null,
      "flex_flow": null,
      "grid_area": null,
      "grid_auto_columns": null,
      "grid_auto_flow": null,
      "grid_auto_rows": null,
      "grid_column": null,
      "grid_gap": null,
      "grid_row": null,
      "grid_template_areas": null,
      "grid_template_columns": null,
      "grid_template_rows": null,
      "height": null,
      "justify_content": null,
      "justify_items": null,
      "left": null,
      "margin": null,
      "max_height": null,
      "max_width": null,
      "min_height": null,
      "min_width": null,
      "object_fit": null,
      "object_position": null,
      "order": null,
      "overflow": null,
      "overflow_x": null,
      "overflow_y": null,
      "padding": null,
      "right": null,
      "top": null,
      "visibility": null,
      "width": null
     }
    },
    "03bcfa041d2441ff9d87431eda36e134": {
     "model_module": "@jupyter-widgets/controls",
     "model_name": "ProgressStyleModel",
     "model_module_version": "1.5.0",
     "state": {
      "_model_module": "@jupyter-widgets/controls",
      "_model_module_version": "1.5.0",
      "_model_name": "ProgressStyleModel",
      "_view_count": null,
      "_view_module": "@jupyter-widgets/base",
      "_view_module_version": "1.2.0",
      "_view_name": "StyleView",
      "bar_color": null,
      "description_width": ""
     }
    },
    "14e5575bf5a943a681a72f253623af7d": {
     "model_module": "@jupyter-widgets/base",
     "model_name": "LayoutModel",
     "model_module_version": "1.2.0",
     "state": {
      "_model_module": "@jupyter-widgets/base",
      "_model_module_version": "1.2.0",
      "_model_name": "LayoutModel",
      "_view_count": null,
      "_view_module": "@jupyter-widgets/base",
      "_view_module_version": "1.2.0",
      "_view_name": "LayoutView",
      "align_content": null,
      "align_items": null,
      "align_self": null,
      "border": null,
      "bottom": null,
      "display": null,
      "flex": null,
      "flex_flow": null,
      "grid_area": null,
      "grid_auto_columns": null,
      "grid_auto_flow": null,
      "grid_auto_rows": null,
      "grid_column": null,
      "grid_gap": null,
      "grid_row": null,
      "grid_template_areas": null,
      "grid_template_columns": null,
      "grid_template_rows": null,
      "height": null,
      "justify_content": null,
      "justify_items": null,
      "left": null,
      "margin": null,
      "max_height": null,
      "max_width": null,
      "min_height": null,
      "min_width": null,
      "object_fit": null,
      "object_position": null,
      "order": null,
      "overflow": null,
      "overflow_x": null,
      "overflow_y": null,
      "padding": null,
      "right": null,
      "top": null,
      "visibility": null,
      "width": null
     }
    },
    "304c300f25bd4a1c996e699e929af8fb": {
     "model_module": "@jupyter-widgets/controls",
     "model_name": "DescriptionStyleModel",
     "model_module_version": "1.5.0",
     "state": {
      "_model_module": "@jupyter-widgets/controls",
      "_model_module_version": "1.5.0",
      "_model_name": "DescriptionStyleModel",
      "_view_count": null,
      "_view_module": "@jupyter-widgets/base",
      "_view_module_version": "1.2.0",
      "_view_name": "StyleView",
      "description_width": ""
     }
    }
   }
  }
 },
 "nbformat": 4,
 "nbformat_minor": 5
}
