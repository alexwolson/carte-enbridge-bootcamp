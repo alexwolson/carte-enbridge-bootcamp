{
 "cells": [
  {
   "cell_type": "markdown",
   "source": [
    "# CARTE-Enbridge Bootcamp\n",
    "#### Lab 1-1a"
   ],
   "metadata": {
    "collapsed": false
   },
   "id": "42b0bd56eb3230ff"
  },
  {
   "cell_type": "markdown",
   "source": [
    "In this lab, we will introduce you to the very basics of programming using Python. We'll cover:\n",
    "\n",
    "- Variables and Data Types\n",
    "- Basic Operations\n",
    "- Lists\n",
    "- Loops and Conditionals\n",
    "\n",
    "Don't worry if you're new to programming; we'll walk you through each step.\n",
    "Notebooks\n",
    "\n",
    "We're using notebooks for this lab. Write your code in cells like this one. To run a cell, press the play button above or hit ctrl+enter. To write text like this, set the cell to \"Markdown\" from the dropdown menu.\n",
    "Getting Started\n",
    "\n",
    "First, let's make sure Python is working.\n",
    "**>> Run the code in the next cell** to print a welcome message."
   ],
   "metadata": {
    "collapsed": false
   },
   "id": "479c29fd8c3b5e83"
  },
  {
   "cell_type": "code",
   "execution_count": null,
   "outputs": [],
   "source": [
    "print(\"Welcome to Python!\")"
   ],
   "metadata": {
    "collapsed": false
   },
   "id": "a8c9f610e06cbea7"
  },
  {
   "cell_type": "markdown",
   "source": [
    "## Variables and Data Types\n",
    "\n",
    "In Python, we store information in variables. Think of a variable as a box where you can put stuff like numbers or text.\n",
    "\n",
    "**>> Run the code in the next cell** to create a variable and print it."
   ],
   "metadata": {
    "collapsed": false
   },
   "id": "47b9a52a5badaeee"
  },
  {
   "cell_type": "code",
   "execution_count": null,
   "outputs": [],
   "source": [
    "my_variable = 10\n",
    "print(\"My variable contains:\", my_variable)"
   ],
   "metadata": {
    "collapsed": false
   },
   "id": "27b51f9956e4c6d4"
  },
  {
   "cell_type": "markdown",
   "source": [
    "Python has different types of data:\n",
    "\n",
    " - Integer (whole numbers)\n",
    " - Float (decimal numbers)\n",
    " - String (text)\n",
    "\n",
    "**>> Run the code in the next cell** to see examples."
   ],
   "metadata": {
    "collapsed": false
   },
   "id": "ab45bfe0c996f951"
  },
  {
   "cell_type": "code",
   "execution_count": null,
   "outputs": [],
   "source": [
    "integer_example = 5\n",
    "float_example = 5.0\n",
    "string_example = \"Hello\"\n",
    "\n",
    "print(\"Integer:\", integer_example)\n",
    "print(\"Float:\", float_example)\n",
    "print(\"String:\", string_example)"
   ],
   "metadata": {
    "collapsed": false
   },
   "id": "1714b6f2a66970b2"
  },
  {
   "cell_type": "markdown",
   "source": [
    "## Basic Operations\n",
    "You can perform basic math operations in Python.\n",
    "\n",
    "**>> Run the code in the next cell** to see some examples."
   ],
   "metadata": {
    "collapsed": false
   },
   "id": "ad8c39ff6135060"
  },
  {
   "cell_type": "code",
   "execution_count": null,
   "outputs": [],
   "source": [
    "addition = 5 + 5\n",
    "subtraction = 10 - 5\n",
    "multiplication = 2 * 5\n",
    "division = 10 / 2\n",
    "\n",
    "print(\"Addition:\", addition)\n",
    "print(\"Subtraction:\", subtraction)\n",
    "print(\"Multiplication:\", multiplication)\n",
    "print(\"Division:\", division)"
   ],
   "metadata": {
    "collapsed": false
   },
   "id": "5548e1343074d8b3"
  },
  {
   "cell_type": "markdown",
   "source": [
    "Notice that the result of division is a float, even if the result is a whole number. This is because the result could be a decimal number. If you want to perform integer division, use the `//` operator instead:"
   ],
   "metadata": {
    "collapsed": false
   },
   "id": "db0b36f3c4a083a5"
  },
  {
   "cell_type": "code",
   "execution_count": null,
   "outputs": [],
   "source": [
    "integer_division = 5 // 2\n",
    "print(\"Integer Division:\", integer_division)"
   ],
   "metadata": {
    "collapsed": false
   },
   "id": "4116ea3a84cd5eb4"
  },
  {
   "cell_type": "markdown",
   "source": [
    "## Lists\n",
    "\n",
    "A list is a collection of items. Lists are useful for storing multiple items in a single variable.\n",
    "\n",
    "**>> Run the code in the next cell** to create and print a list."
   ],
   "metadata": {
    "collapsed": false
   },
   "id": "34de25995d3d933d"
  },
  {
   "cell_type": "code",
   "execution_count": null,
   "outputs": [],
   "source": [
    "my_list = [1, 2, 3, 4, 5]\n",
    "print(\"My list contains:\", my_list)"
   ],
   "metadata": {
    "collapsed": false
   },
   "id": "1ecdfb91d429710d"
  },
  {
   "cell_type": "markdown",
   "source": [
    "You can access items in a list by their position. In Python (and many other programming languages), the first item in a list is at position 0."
   ],
   "metadata": {
    "collapsed": false
   },
   "id": "95f7a62276663697"
  },
  {
   "cell_type": "code",
   "execution_count": null,
   "outputs": [],
   "source": [
    "print(\"The first item in my list is:\", my_list[0])\n",
    "print(\"The third item in my list is:\", my_list[2])"
   ],
   "metadata": {
    "collapsed": false
   },
   "id": "86c389f82d0b1c9e"
  },
  {
   "cell_type": "markdown",
   "source": [
    "## Loops and Conditionals\n",
    "\n",
    "Loops and conditionals are used to control the flow of a program. They allow you to run certain code only if certain conditions are met.\n",
    "\n",
    "**>> Run the code in the next cell** to see a simple loop and conditional."
   ],
   "metadata": {
    "collapsed": false
   },
   "id": "2054e1127dcd860a"
  },
  {
   "cell_type": "code",
   "execution_count": null,
   "outputs": [],
   "source": [
    "for number in my_list:  # Loop through each item in the list\n",
    "    if number % 2 == 0:  # Check if the number is divisible by 2\n",
    "        print(number, \"is even.\")\n",
    "    else:\n",
    "        print(number, \"is odd.\")"
   ],
   "metadata": {
    "collapsed": false
   },
   "id": "b3f513ad78bf9565"
  },
  {
   "cell_type": "markdown",
   "source": [
    "## Your Turn\n",
    "\n",
    "Now it's your turn to write some code. In the next cell, write a program that does the following:\n",
    "\n",
    "1. Create a list of numbers from 1 to 15\n",
    "2. Loop through the list\n",
    "3. If the number is divisible by 3, print \"Fizz\"\n",
    "4. If the number is divisible by 5, print \"Buzz\"\n",
    "5. If the number is divisible by both 3 and 5, print \"FizzBuzz\"\n",
    "6. Otherwise, print the number itself\n",
    "\n",
    "**>> Write your code in the next cell.** You can copy and paste the code from the previous cell and modify it."
   ],
   "metadata": {
    "collapsed": false
   },
   "id": "96a60ee19327b858"
  },
  {
   "cell_type": "code",
   "execution_count": null,
   "outputs": [],
   "source": [
    "## Your code here"
   ],
   "metadata": {
    "collapsed": false
   },
   "id": "4b34e32dfd6df7d"
  },
  {
   "cell_type": "markdown",
   "source": [
    "## Functions\n",
    "\n",
    "Functions are a way to organize your code. They allow you to reuse code without having to write it again.\n",
    "\n",
    "**>> Run the code in the next cell** to define a simple function, then use it."
   ],
   "metadata": {
    "collapsed": false
   },
   "id": "95d15720e9f56e99"
  },
  {
   "cell_type": "code",
   "execution_count": null,
   "outputs": [],
   "source": [
    "def greet(name):\n",
    "    print(\"Hello,\", name)"
   ],
   "metadata": {
    "collapsed": false
   },
   "id": "861f290fb2094f5f"
  },
  {
   "cell_type": "code",
   "execution_count": null,
   "outputs": [],
   "source": [
    "greet(\"John\")\n",
    "greet(\"Jane\")"
   ],
   "metadata": {
    "collapsed": false
   },
   "id": "8ff273a12087789"
  },
  {
   "cell_type": "markdown",
   "source": [
    "## Libraries\n",
    "\n",
    "Libraries are collections of functions and methods that allow you to perform actions without writing the code yourself. Let's import the `math` library and try some functions.\n",
    "\n",
    "**>> Run the code in the next cell** to import the `math` library and use some functions."
   ],
   "metadata": {
    "collapsed": false
   },
   "id": "9160d956a989be34"
  },
  {
   "cell_type": "code",
   "execution_count": null,
   "outputs": [],
   "source": [
    "import math\n",
    "\n",
    "print(\"Pi is:\", math.pi)\n",
    "print(\"The square root of 16 is:\", math.sqrt(16))"
   ],
   "metadata": {
    "collapsed": false
   },
   "id": "8e4144df664b2b59"
  },
  {
   "cell_type": "markdown",
   "source": [
    "## NumPy\n",
    "\n",
    "When we work with lots of data in Python, we use a library called NumPy. NumPy allows us to work with arrays, which are like lists but with more functionality. The code underlying NumPy isn't written in Python, but in C, which is much faster and allows us to work with large amounts of data. Many other libraries in Python are built on top of NumPy.\n",
    "\n",
    "**>> Run the code in the next cell** to import NumPy and create an array."
   ],
   "metadata": {
    "collapsed": false
   },
   "id": "2f92b8ecd9c47557"
  },
  {
   "cell_type": "code",
   "execution_count": null,
   "outputs": [],
   "source": [
    "import numpy as np  # This is the standard way to import NumPy - we are just giving it a nickname"
   ],
   "metadata": {
    "collapsed": false
   },
   "id": "6c431192edfe3809"
  },
  {
   "cell_type": "code",
   "execution_count": null,
   "outputs": [],
   "source": [
    "my_array = np.array(\n",
    "    [1, 2, 3, 4, 5]\n",
    ")  # We can create an array from a standard Python list\n",
    "print(\"Array:\", my_array)"
   ],
   "metadata": {
    "collapsed": false
   },
   "id": "80c481e96d120b8b"
  },
  {
   "cell_type": "markdown",
   "source": [
    "To get a sense of how much faster NumPy is than standard Python, let's create a large array and time how long it takes to sum all the elements when using a standard Python list vs. a NumPy array."
   ],
   "metadata": {
    "collapsed": false
   },
   "id": "6d17e82ea90bb872"
  },
  {
   "cell_type": "code",
   "execution_count": null,
   "outputs": [],
   "source": [
    "my_large_list = list(range(1000000))  # Create a list of 1 million numbers\n",
    "my_large_array = np.array(my_large_list)  # Create a NumPy array from the list"
   ],
   "metadata": {
    "collapsed": false
   },
   "id": "6841ead616e6e86c"
  },
  {
   "cell_type": "code",
   "execution_count": null,
   "outputs": [],
   "source": [
    "import time  # Import the time library to time our code"
   ],
   "metadata": {
    "collapsed": false
   },
   "id": "b109dfd2ddbf834c"
  },
  {
   "cell_type": "code",
   "execution_count": null,
   "outputs": [],
   "source": [
    "start_time = time.time()  # Get the current time\n",
    "sum(my_large_list)  # Sum all the elements in the list\n",
    "print(\n",
    "    \"Time to sum a list:\", time.time() - start_time, \"seconds\"\n",
    ")  # Print the time elapsed"
   ],
   "metadata": {
    "collapsed": false
   },
   "id": "56ffc4ee5ca92eba"
  },
  {
   "cell_type": "code",
   "execution_count": null,
   "outputs": [],
   "source": [
    "start_time = time.time()  # Get the current time\n",
    "np.sum(my_large_array)  # Sum all the elements in the array\n",
    "print(\n",
    "    \"Time to sum an array:\", time.time() - start_time, \"seconds\"\n",
    ")  # Print the time elapsed"
   ],
   "metadata": {
    "collapsed": false
   },
   "id": "49b72d64158a228"
  },
  {
   "cell_type": "markdown",
   "source": [
    "Both of these times might seem fast, but remember that we're only summing 1 million numbers. In data science, we often work with millions or billions of data points, so that fact that NumPy is about 10x faster than standard Python is a big deal."
   ],
   "metadata": {
    "collapsed": false
   },
   "id": "3b634fef1e281c92"
  },
  {
   "cell_type": "markdown",
   "source": [
    "Arrays can be multi-dimensional. We can create a 2D array like this:"
   ],
   "metadata": {
    "collapsed": false
   },
   "id": "7264d426b011261"
  },
  {
   "cell_type": "code",
   "execution_count": null,
   "outputs": [],
   "source": [
    "my_2d_array = np.array([[1, 2, 3], [4, 5, 6]])\n",
    "print(\"2D Array:\\n\", my_2d_array)  # The \\n character creates a new line"
   ],
   "metadata": {
    "collapsed": false
   },
   "id": "5dafbabb4c9e3657"
  },
  {
   "cell_type": "markdown",
   "source": [
    "We can access the shape, number of dimensions, data type, and number of elements in our array as follows:"
   ],
   "metadata": {
    "collapsed": false
   },
   "id": "6a26999316126e1c"
  },
  {
   "cell_type": "code",
   "execution_count": null,
   "outputs": [],
   "source": [
    "print(\"Shape:\", my_2d_array.shape)\n",
    "print(\"Number of Dimensions:\", my_2d_array.ndim)\n",
    "print(\"Data Type:\", my_2d_array.dtype.name)\n",
    "print(\"Number of Elements:\", my_2d_array.size)"
   ],
   "metadata": {
    "collapsed": false
   },
   "id": "6948a08f7958cbf9"
  },
  {
   "cell_type": "markdown",
   "source": [
    "## Indexing\n",
    "\n",
    "Python lets us access elements in a list or array using a very convenient set of rules called indexing. We can access the first element in a list or array like before:"
   ],
   "metadata": {
    "collapsed": false
   },
   "id": "8dd080086f7e0de6"
  },
  {
   "cell_type": "code",
   "execution_count": null,
   "outputs": [],
   "source": [
    "print(\"First element:\", my_array[0])"
   ],
   "metadata": {
    "collapsed": false
   },
   "id": "3c8d946d7e4862fe"
  },
  {
   "cell_type": "markdown",
   "source": [
    "But what if we want to access the last element in the list? We could count how many elements are in the list, then subtract 1, but that's a lot of work when we are dealing with huge amounts of data. Instead, we can use negative indexing:"
   ],
   "metadata": {
    "collapsed": false
   },
   "id": "d122885096317461"
  },
  {
   "cell_type": "code",
   "execution_count": null,
   "outputs": [],
   "source": [
    "print(\"Last element:\", my_array[-1])\n",
    "print(\"Second to last element:\", my_array[-2])"
   ],
   "metadata": {
    "collapsed": false
   },
   "id": "d67f75de69e6e82b"
  },
  {
   "cell_type": "markdown",
   "source": [
    "We can also access a range of elements using the `:` operator. The syntax is `[start:end]`, where `start` is the index of the first element we want to access and `end` is the index of the first element we don't want to access. Note that the element at index `end` is not included - I know this can be a bit confusing at first!"
   ],
   "metadata": {
    "collapsed": false
   },
   "id": "d6d7d550c68de378"
  },
  {
   "cell_type": "code",
   "execution_count": null,
   "outputs": [],
   "source": [
    "print(\"First three elements:\", my_array[0:3])  # Gives us elements 0, 1 and 2"
   ],
   "metadata": {
    "collapsed": false
   },
   "id": "f0f6d3f96311228b"
  },
  {
   "cell_type": "markdown",
   "source": [
    "If we leave out the `start` or `end` index, Python will assume we want to start at the beginning or go all the way to the end, respectively:"
   ],
   "metadata": {
    "collapsed": false
   },
   "id": "1fb9a0f5c79d9e19"
  },
  {
   "cell_type": "code",
   "execution_count": null,
   "outputs": [],
   "source": [
    "print(\"First three elements:\", my_array[:3])  # Think of it as \"up to 3rd element\"\n",
    "print(\"Last three elements:\", my_array[-3:])  # Elements 3, 4 and 5"
   ],
   "metadata": {
    "collapsed": false
   },
   "id": "ee09c45a3fe3fe"
  },
  {
   "cell_type": "markdown",
   "source": [
    "This is a lot to get used to, but we will be using indexing a lot in this course, so you will get plenty of practice.\n",
    "\n",
    "## Optional Exercise: Advanced Weather Analysis\n",
    "\n",
    "In this optional exercise, you'll analyze four weeks of weather data for a hypothetical city. The data includes daily high temperatures (in Celsius) and weather conditions.\n",
    "### Data\n",
    "\n",
    "Here is four weeks' worth of weather data:\n",
    "\n",
    "```python\n",
    "temperatures = [\n",
    "    [15, 18, 12, 20, 16, 19, 17],  # Week 1\n",
    "    [22, 21, 23, 19, 17, 18, 20],  # Week 2\n",
    "    [25, 27, 26, 24, 22, 23, 24],  # Week 3\n",
    "    [15, 14, 12, 11, 13, 14, 15]   # Week 4\n",
    "]\n",
    "\n",
    "conditions = [\n",
    "    [\"Rain\", \"Sunny\", \"Cloudy\", \"Sunny\", \"Rain\", \"Cloudy\", \"Sunny\"],  # Week 1\n",
    "    [\"Sunny\", \"Sunny\", \"Cloudy\", \"Rain\", \"Rain\", \"Sunny\", \"Sunny\"],    # Week 2\n",
    "    [\"Sunny\", \"Sunny\", \"Sunny\", \"Cloudy\", \"Cloudy\", \"Sunny\", \"Sunny\"], # Week 3\n",
    "    [\"Snow\", \"Snow\", \"Snow\", \"Cloudy\", \"Sunny\", \"Snow\", \"Snow\"]        # Week 4\n",
    "]\n",
    "\n",
    "days = [\"Monday\", \"Tuesday\", \"Wednesday\", \"Thursday\", \"Friday\", \"Saturday\", \"Sunday\"]\n",
    "```\n",
    "\n",
    "### Tasks\n",
    "\n",
    "1. Calculate the average temperature for each week. Store the results in a list called `average_temperatures`.\n",
    "2. Create a function that finds the day with the highest temperature for each week and returns those days.\n",
    "3. Create a function that finds the day with the lowest temperature for each week and returns those days.\n",
    "4. Create a function that counts the number of \"Sunny\" days in each week.\n",
    "5. Use NumPy to find the overall average temperature for the four weeks.\n",
    "6. Use NumPy to find the highest and lowest temperatures across all four weeks."
   ],
   "metadata": {
    "collapsed": false
   },
   "id": "5b8f78a4f43fd207"
  },
  {
   "cell_type": "code",
   "execution_count": null,
   "outputs": [],
   "source": [
    "### Your code here"
   ],
   "metadata": {
    "collapsed": false
   },
   "id": "cbc73617c35bca71"
  }
 ],
 "metadata": {
  "kernelspec": {
   "display_name": "Python 3",
   "language": "python",
   "name": "python3"
  },
  "language_info": {
   "codemirror_mode": {
    "name": "ipython",
    "version": 2
   },
   "file_extension": ".py",
   "mimetype": "text/x-python",
   "name": "python",
   "nbconvert_exporter": "python",
   "pygments_lexer": "ipython2",
   "version": "2.7.6"
  }
 },
 "nbformat": 4,
 "nbformat_minor": 5
}
