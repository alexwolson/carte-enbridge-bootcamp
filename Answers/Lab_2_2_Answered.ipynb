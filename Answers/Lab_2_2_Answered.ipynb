{
 "cells": [
  {
   "cell_type": "markdown",
   "id": "9a263f540c83733e",
   "metadata": {
    "collapsed": false
   },
   "source": [
    "# CARTE-Enbridge Bootcamp\n",
    "#### Lab 2-2\n",
    "\n",
    "Transforming customer service using AI\n",
    "\n",
    "In this lab, we will use HuggingFace's transformers library to build a customer service chatbot. We will use the DistilBERT model to build a chatbot that can answer questions about the customer service policy of a company.\n",
    "\n",
    "For this notebook to run in a reasonable time, it's essential that you enable GPU acceleration. To do this, go to Runtime > Change runtime type, and select GPU as the hardware accelerator."
   ]
  },
  {
   "cell_type": "code",
   "execution_count": 1,
   "id": "d53f3d3fe1899ab8",
   "metadata": {
    "collapsed": false,
    "ExecuteTime": {
     "end_time": "2023-11-07T21:49:26.208720729Z",
     "start_time": "2023-11-07T21:49:25.227584048Z"
    }
   },
   "outputs": [
    {
     "name": "stdout",
     "output_type": "stream",
     "text": [
      "There are 1 GPU(s) available.\n"
     ]
    }
   ],
   "source": [
    "# Check if GPU is enabled\n",
    "import torch\n",
    "if torch.cuda.is_available():\n",
    "    device = torch.device(\"cuda\")\n",
    "    print(f'There are {torch.cuda.device_count()} GPU(s) available.')\n",
    "elif torch.backends.mps.is_available():\n",
    "    device = torch.device(\"mps\")\n",
    "    print(f'Running on a Mac with Metal Performance Shaders (MPS).')\n",
    "else:\n",
    "    device = torch.device(\"cpu\")\n",
    "    print('No GPU available, using the CPU instead (NOT RECOMMENDED!)')"
   ]
  },
  {
   "cell_type": "markdown",
   "id": "799bee18ea91799",
   "metadata": {
    "collapsed": false
   },
   "source": [
    "First, we will import the necessary libraries and modules. If we are running this notebook on Google Colab, we will install the libraries that we need in the cell below. We are installing directly from GitHub, to ensure that we have the latest version of each library."
   ]
  },
  {
   "cell_type": "code",
   "execution_count": 2,
   "id": "ad9b269ffe3096c4",
   "metadata": {
    "collapsed": false,
    "ExecuteTime": {
     "end_time": "2023-11-07T21:49:27.012194838Z",
     "start_time": "2023-11-07T21:49:27.004001943Z"
    }
   },
   "outputs": [],
   "source": [
    "# Check if we are running on Google Colab\n",
    "import sys\n",
    "IN_COLAB = 'google.colab' in sys.modules\n",
    "if IN_COLAB:\n",
    "    !pip install -q -U transformers datasets evaluate accelerate"
   ]
  },
  {
   "cell_type": "code",
   "execution_count": 3,
   "id": "6eca575341db8c32",
   "metadata": {
    "collapsed": false,
    "ExecuteTime": {
     "end_time": "2023-11-07T21:49:28.185612781Z",
     "start_time": "2023-11-07T21:49:27.399269983Z"
    }
   },
   "outputs": [],
   "source": [
    "from transformers import AutoTokenizer, AutoModelForSequenceClassification\n",
    "from datasets import load_dataset"
   ]
  },
  {
   "cell_type": "markdown",
   "id": "7a026f2ecffba3aa",
   "metadata": {
    "collapsed": false
   },
   "source": [
    "## Load the dataset\n",
    "\n",
    "Using the load_dataset() function from the datasets library, we will load the customer service dataset. We will be using a dataset of customer service queries that is designed for use in training chatbots.\n",
    "\n",
    "The parts of the dataset that we are interested in are the customer's query and the 'intent' of the customer's query. The intent is the purpose of the customer's query. For example, if the customer's query is \"What is your return policy?\", the intent is \"return policy\". This makes it easier for the interaction to be routed to the correct department, or for collecting metrics on the types of queries that customers have."
   ]
  },
  {
   "cell_type": "code",
   "execution_count": 4,
   "id": "3fc4fa817a6af62e",
   "metadata": {
    "collapsed": false,
    "ExecuteTime": {
     "end_time": "2023-11-07T21:49:29.785143904Z",
     "start_time": "2023-11-07T21:49:28.845218466Z"
    }
   },
   "outputs": [],
   "source": [
    "data = load_dataset('bitext/Bitext-customer-support-llm-chatbot-training-dataset')"
   ]
  },
  {
   "cell_type": "markdown",
   "id": "eec5a1084d16030d",
   "metadata": {
    "collapsed": false
   },
   "source": [
    "Let's take a quick look at a few random samples from the dataset. We will print the customer's query, the intent, and the response from the chatbot."
   ]
  },
  {
   "cell_type": "code",
   "execution_count": 5,
   "id": "30315fe1fcf64372",
   "metadata": {
    "collapsed": false,
    "ExecuteTime": {
     "end_time": "2023-11-07T21:49:30.404579145Z",
     "start_time": "2023-11-07T21:49:30.398254037Z"
    }
   },
   "outputs": [
    {
     "name": "stdout",
     "output_type": "stream",
     "text": [
      "Question: edit details oon {{Account Type}} account\n",
      "Customer Intent: edit_account\n",
      "------------------------------\n",
      "Question: can ya help me to see ur allowed payment methods\n",
      "Customer Intent: check_payment_methods\n",
      "------------------------------\n",
      "Question: i need assistance to check how long the shgipment takes\n",
      "Customer Intent: delivery_period\n",
      "------------------------------\n",
      "Question: I cannot unsubscribe to your newslettewr\n",
      "Customer Intent: newsletter_subscription\n",
      "------------------------------\n",
      "Question: I don't know what to do to change to the {{Account Category}} account\n",
      "Customer Intent: switch_account\n",
      "------------------------------\n"
     ]
    }
   ],
   "source": [
    "from random import choice\n",
    "for i in range(5):\n",
    "    sample = choice(data['train'])\n",
    "    print(f'Question: {sample[\"instruction\"]}')\n",
    "    print(f'Customer Intent: {sample[\"intent\"]}')\n",
    "    print('---'*10)"
   ]
  },
  {
   "cell_type": "markdown",
   "id": "ab9a58471fe2e439",
   "metadata": {
    "collapsed": false
   },
   "source": [
    "## Preprocess the data\n",
    "\n",
    "Now that we have our data downloaded, the next step is to preprocess it. For any model, each word in the model's vocabulary is assigned a unique number. The model doesn't see the actual words in the text, it only sees the numbers. So, we need to convert the text into numbers. This is called tokenization. Because we are fine-tuning an existing model, we can simply load the tokenizer that was created for that model. The tokenizer will convert the text into numbers, and also add any special tokens that the model needs. For example, the DistilBERT model needs a [CLS] token at the beginning of the text, and a [SEP] token at the end of the text. The tokenizer will add these tokens for us.\n",
    "\n"
   ]
  },
  {
   "cell_type": "code",
   "execution_count": 6,
   "id": "8edbee2aa0175ec2",
   "metadata": {
    "collapsed": false,
    "ExecuteTime": {
     "end_time": "2023-11-07T21:49:31.464687689Z",
     "start_time": "2023-11-07T21:49:31.339539270Z"
    }
   },
   "outputs": [],
   "source": [
    "tokenizer = AutoTokenizer.from_pretrained(\"distilbert-base-uncased\")"
   ]
  },
  {
   "cell_type": "markdown",
   "id": "6332280f50f10d12",
   "metadata": {
    "collapsed": false
   },
   "source": [
    "Let's see what happens when we tokenize a sample text:"
   ]
  },
  {
   "cell_type": "code",
   "execution_count": 7,
   "id": "dd3bccf8d9052a7d",
   "metadata": {
    "collapsed": false,
    "ExecuteTime": {
     "end_time": "2023-11-07T21:49:31.913346744Z",
     "start_time": "2023-11-07T21:49:31.907759717Z"
    }
   },
   "outputs": [
    {
     "name": "stdout",
     "output_type": "stream",
     "text": [
      "[101, 2054, 2003, 2115, 2709, 3343, 1029, 102]\n"
     ]
    }
   ],
   "source": [
    "question = \"What is your return policy?\"\n",
    "tokens = tokenizer.encode(question)\n",
    "print(tokens)"
   ]
  },
  {
   "cell_type": "markdown",
   "id": "a5f1291aed79b8fa",
   "metadata": {
    "collapsed": false
   },
   "source": [
    "Each of these values corresponds to one of the words in the text. We can use the tokenizer to convert these numbers back into words, and see what the tokenizer did to the text."
   ]
  },
  {
   "cell_type": "code",
   "execution_count": 8,
   "id": "bb272d564345f72a",
   "metadata": {
    "collapsed": false,
    "ExecuteTime": {
     "end_time": "2023-11-07T21:49:32.312916695Z",
     "start_time": "2023-11-07T21:49:32.306498355Z"
    }
   },
   "outputs": [
    {
     "name": "stdout",
     "output_type": "stream",
     "text": [
      "['[CLS]', 'what', 'is', 'your', 'return', 'policy', '?', '[SEP]']\n"
     ]
    }
   ],
   "source": [
    "# Convert the tokens back into words\n",
    "print(tokenizer.convert_ids_to_tokens(tokens))"
   ]
  },
  {
   "cell_type": "markdown",
   "id": "1247b804d6b50246",
   "metadata": {
    "collapsed": false
   },
   "source": [
    "As we can see, the tokenizer converted the text into numbers, and added the [CLS] and [SEP] tokens.\n",
    "\n",
    "**Your Turn**\n",
    "\n",
    "Try tokenizing a few other sample texts. \n",
    "- What happens if you put in a nonsense word? \n",
    "- What happens if you put in a text that's longer than the maximum length of the model (512 tokens)? \n",
    "- What happens if you put in an emoji, or another character that's not in the model's vocabulary?"
   ]
  },
  {
   "cell_type": "code",
   "execution_count": 9,
   "id": "e2fafa15026700d7",
   "metadata": {
    "collapsed": false,
    "ExecuteTime": {
     "end_time": "2023-11-07T21:49:32.905017549Z",
     "start_time": "2023-11-07T21:49:32.900352755Z"
    }
   },
   "outputs": [],
   "source": [
    "def encode_and_decode(question):\n",
    "    tokens = tokenizer.encode(question)\n",
    "    recons = tokenizer.convert_ids_to_tokens(tokens)\n",
    "    for token, id in zip(recons, tokens):\n",
    "        print(f'{token:<12} {id}')\n",
    "    print()"
   ]
  },
  {
   "cell_type": "code",
   "execution_count": 10,
   "id": "51f38d902686249b",
   "metadata": {
    "collapsed": false,
    "ExecuteTime": {
     "end_time": "2023-11-07T21:49:33.283068707Z",
     "start_time": "2023-11-07T21:49:33.277455288Z"
    }
   },
   "outputs": [
    {
     "name": "stdout",
     "output_type": "stream",
     "text": [
      "[CLS]        101\n",
      "super        3565\n",
      "##cal        9289\n",
      "##if         10128\n",
      "##rag        29181\n",
      "##ilis       24411\n",
      "##tic        4588\n",
      "##ex         10288\n",
      "##pia        19312\n",
      "##lid        21273\n",
      "##oc         10085\n",
      "##ious       6313\n",
      "[SEP]        102\n",
      "\n",
      "[CLS]        101\n",
      "what         2054\n",
      "is           2003\n",
      "your         2115\n",
      "return       2709\n",
      "policy       3343\n",
      "?            1029\n",
      "[UNK]        100\n",
      "[SEP]        102\n"
     ]
    }
   ],
   "source": [
    "# Nonsense word\n",
    "encode_and_decode(\"supercalifragilisticexpialidocious\")\n",
    "\n",
    "# Emoji\n",
    "encode_and_decode(\"What is your return policy? 😊\")"
   ]
  },
  {
   "cell_type": "markdown",
   "id": "34637a28c3dba908",
   "metadata": {
    "collapsed": false
   },
   "source": [
    "We are ready to tokenize our dataset. We will use the map() function to apply the tokenizer to each sample in the dataset. We will also set the maximum length of the input to 512 tokens.\n",
    "\n",
    "There are a couple of parameters that we need to set. The first is padding. Although our input sentences can be any length, the model requires input to be a consistent size. The tokenizer can 'pad' the input by adding special tokens to the end of the input. The model will ignore these tokens, but they will allow the input to be the same size. \n",
    "\n",
    "The second parameter is truncation. If the input is longer than the maximum length, the tokenizer will truncate the input. We will set both of these parameters to True.\n"
   ]
  },
  {
   "cell_type": "code",
   "execution_count": 11,
   "id": "dd99d9c29962f09a",
   "metadata": {
    "collapsed": false,
    "ExecuteTime": {
     "end_time": "2023-11-07T21:49:34.072460247Z",
     "start_time": "2023-11-07T21:49:33.825059870Z"
    }
   },
   "outputs": [],
   "source": [
    "def tokenize(batch):\n",
    "    return tokenizer(batch['instruction'], padding=True, truncation=True)\n",
    "\n",
    "tokenized_dataset = data.map(tokenize, batched=True, batch_size=len(data), remove_columns=data['train'].column_names) # We don't want to keep the original text around, so we remove it."
   ]
  },
  {
   "cell_type": "markdown",
   "id": "3bd96395eb5585f9",
   "metadata": {
    "collapsed": false
   },
   "source": [
    "The intents that we are trying to predict are text labels, like `payment_issue`, but the model is going to predict numbers. We can assign a number to each label, and then create a mapping from the label to the number. We will use this mapping to convert the labels into numbers."
   ]
  },
  {
   "cell_type": "code",
   "execution_count": 12,
   "id": "82707fc897b5849e",
   "metadata": {
    "collapsed": false,
    "ExecuteTime": {
     "end_time": "2023-11-07T21:49:34.567893148Z",
     "start_time": "2023-11-07T21:49:34.556263822Z"
    }
   },
   "outputs": [
    {
     "name": "stdout",
     "output_type": "stream",
     "text": [
      "{0: 'cancel_order', 1: 'change_order', 2: 'change_shipping_address', 3: 'check_cancellation_fee', 4: 'check_invoice', 5: 'check_payment_methods', 6: 'check_refund_policy', 7: 'complaint', 8: 'contact_customer_service', 9: 'contact_human_agent', 10: 'create_account', 11: 'delete_account', 12: 'delivery_options', 13: 'delivery_period', 14: 'edit_account', 15: 'get_invoice', 16: 'get_refund', 17: 'newsletter_subscription', 18: 'payment_issue', 19: 'place_order', 20: 'recover_password', 21: 'registration_problems', 22: 'review', 23: 'set_up_shipping_address', 24: 'switch_account', 25: 'track_order', 26: 'track_refund'}\n"
     ]
    }
   ],
   "source": [
    "intents = set(data['train']['intent']) # Get all of the unique intents\n",
    "intents = list(intents) # Convert to a list, so that the order is consistent\n",
    "intents.sort() # Sort alphabetically\n",
    "\n",
    "id2label = {i: label for i, label in enumerate(intents)} # Create a mapping from the index to the label\n",
    "label2id = {label: i for i, label in enumerate(intents)} # Create a mapping from the label to the index\n",
    "\n",
    "print(id2label)"
   ]
  },
  {
   "cell_type": "code",
   "execution_count": 13,
   "id": "99b85d899118642d",
   "metadata": {
    "collapsed": false,
    "ExecuteTime": {
     "end_time": "2023-11-07T21:49:35.114100375Z",
     "start_time": "2023-11-07T21:49:34.798697148Z"
    }
   },
   "outputs": [
    {
     "name": "stderr",
     "output_type": "stream",
     "text": [
      "/home/alex/mambaforge/envs/enbridge_pytorch/lib/python3.11/site-packages/datasets/table.py:1387: FutureWarning: promote has been superseded by mode='default'.\n",
      "  return cls._concat_blocks(pa_tables_to_concat_vertically, axis=0)\n"
     ]
    }
   ],
   "source": [
    "ids = [label2id[label] for label in data['train']['intent']] # Get a list of all the labels as numbers\n",
    "tokenized_dataset = tokenized_dataset['train'].add_column('label', ids) # Add the labels to the dataset"
   ]
  },
  {
   "cell_type": "markdown",
   "id": "fe21feb90cdd787a",
   "metadata": {
    "collapsed": false
   },
   "source": [
    "We are almost finished preparing our data! The last thing we need to do is split the dataset into a training set and a test set. We will use 80% of the data for training, and 20% for testing."
   ]
  },
  {
   "cell_type": "code",
   "execution_count": 14,
   "id": "88e25ecd3ff67946",
   "metadata": {
    "collapsed": false,
    "ExecuteTime": {
     "end_time": "2023-11-07T21:49:35.999069909Z",
     "start_time": "2023-11-07T21:49:35.769142519Z"
    }
   },
   "outputs": [],
   "source": [
    "tokenized_dataset = tokenized_dataset.train_test_split(test_size=0.2)"
   ]
  },
  {
   "cell_type": "markdown",
   "id": "cc95dbeb3941d7",
   "metadata": {
    "collapsed": false
   },
   "source": [
    "We can confirm that the data looks how we expect by printing out the object:"
   ]
  },
  {
   "cell_type": "code",
   "execution_count": 15,
   "id": "7b5733285f6b13ad",
   "metadata": {
    "collapsed": false,
    "ExecuteTime": {
     "end_time": "2023-11-07T21:49:36.381241168Z",
     "start_time": "2023-11-07T21:49:36.366701935Z"
    }
   },
   "outputs": [
    {
     "data": {
      "text/plain": "DatasetDict({\n    train: Dataset({\n        features: ['input_ids', 'attention_mask', 'label'],\n        num_rows: 21497\n    })\n    test: Dataset({\n        features: ['input_ids', 'attention_mask', 'label'],\n        num_rows: 5375\n    })\n})"
     },
     "execution_count": 15,
     "metadata": {},
     "output_type": "execute_result"
    }
   ],
   "source": [
    "tokenized_dataset"
   ]
  },
  {
   "cell_type": "markdown",
   "id": "8f8bf8bdbfcb6a0a",
   "metadata": {
    "collapsed": false
   },
   "source": [
    "We also load a \"data collator\". This is a function that combines the data into batches, to make it easier for the model to process. We will use the default data collator, which simply combines the data into batches, and adds padding to the end of the input."
   ]
  },
  {
   "cell_type": "code",
   "execution_count": 16,
   "id": "c5808c135a2a7fde",
   "metadata": {
    "collapsed": false,
    "ExecuteTime": {
     "end_time": "2023-11-07T21:49:37.333555573Z",
     "start_time": "2023-11-07T21:49:37.067909038Z"
    }
   },
   "outputs": [],
   "source": [
    "from transformers import DataCollatorWithPadding\n",
    "data_collator = DataCollatorWithPadding(tokenizer=tokenizer)"
   ]
  },
  {
   "cell_type": "markdown",
   "id": "6af02a4919ed78a8",
   "metadata": {
    "collapsed": false
   },
   "source": [
    "## Fine-tune the model\n",
    "\n",
    "Now that we have our data ready, we can fine-tune the model. As with the earlier stages, HuggingFace makes it very easy to load an existing model. Because the task we are trying to solve is text classification, we will use the AutoModelForSequenceClassification class. This class will load a model that has already been trained on a text classification task, and fine-tune it on our dataset. We will use the DistilBERT model, which is a smaller version of the BERT model. This will allow us to train the model faster, and use less memory.\n",
    "\n",
    "There are a few arguments that we have to pass:\n",
    "- The model name. We will use the DistilBERT model, which is a smaller version of the BERT model.\n",
    "- The number of labels (or possible intents) in our dataset. This is the number of outputs that the model will have. We can get this number from the length of the intents list.\n",
    "- The mapping from the label to the index. This is the mapping that we created earlier, which converts the label to a number.\n",
    "- The mapping from the index to the label. This is the mapping that we created earlier, which converts the number back into a label.\n",
    "\n",
    "You might get a warning that some of the weights are not initialized. This is fine, because we are fine-tuning the model, so these weights will be updated during training."
   ]
  },
  {
   "cell_type": "code",
   "execution_count": 17,
   "id": "3af316b2f9cebff7",
   "metadata": {
    "collapsed": false,
    "ExecuteTime": {
     "end_time": "2023-11-07T21:49:38.798368469Z",
     "start_time": "2023-11-07T21:49:37.804381420Z"
    }
   },
   "outputs": [
    {
     "name": "stderr",
     "output_type": "stream",
     "text": [
      "Some weights of DistilBertForSequenceClassification were not initialized from the model checkpoint at distilbert-base-uncased and are newly initialized: ['classifier.weight', 'pre_classifier.bias', 'pre_classifier.weight', 'classifier.bias']\n",
      "You should probably TRAIN this model on a down-stream task to be able to use it for predictions and inference.\n"
     ]
    }
   ],
   "source": [
    "model = AutoModelForSequenceClassification.from_pretrained(\"distilbert-base-uncased\", num_labels=len(intents), id2label=id2label, label2id=label2id)"
   ]
  },
  {
   "cell_type": "markdown",
   "id": "b05fc91680f0d6ec",
   "metadata": {
    "collapsed": false
   },
   "source": [
    "Next, we define the arguments for training the model. Each argument is explained in the code below."
   ]
  },
  {
   "cell_type": "code",
   "execution_count": 18,
   "id": "cafa23576c7c41d7",
   "metadata": {
    "collapsed": false,
    "ExecuteTime": {
     "end_time": "2023-11-07T21:49:38.966127734Z",
     "start_time": "2023-11-07T21:49:38.758976792Z"
    }
   },
   "outputs": [],
   "source": [
    "from transformers import TrainingArguments, Trainer\n",
    "\n",
    "training_args = TrainingArguments(\n",
    "    output_dir='./results',          # output directory\n",
    "    num_train_epochs=3,              # total number of training epochs\n",
    "    per_device_train_batch_size=16,  # batch size per device during training\n",
    "    weight_decay=0.01,               # strength of weight decay\n",
    "    logging_dir='./logs',            # directory for storing logs\n",
    "    logging_steps=10,                # How often to log results\n",
    "    evaluation_strategy='epoch',     # How often to evaluate the model - once per epoch\n",
    "    save_strategy='epoch',           # How often to save the model - once per epoch\n",
    "    load_best_model_at_end=True,     # At the end of training, load the model from the epoch with the best validation loss\n",
    ")\n",
    "\n",
    "# Move everything to the GPU/MPS, if available\n",
    "model.to(device)\n",
    "\n",
    "trainer = Trainer(\n",
    "    model=model,                                 # the model to be trained\n",
    "    args=training_args,                          # training arguments, defined above\n",
    "    train_dataset=tokenized_dataset['train'],    # training dataset\n",
    "    eval_dataset=tokenized_dataset['test'],      # evaluation dataset\n",
    "    data_collator=data_collator,                 # data collator\n",
    ")"
   ]
  },
  {
   "cell_type": "markdown",
   "id": "4bf2a97319d8fd5d",
   "metadata": {
    "collapsed": false
   },
   "source": [
    "Now we can train the model! This will take around 5 minutes on Google Colab."
   ]
  },
  {
   "cell_type": "code",
   "execution_count": 19,
   "id": "b19d0afbd712ab50",
   "metadata": {
    "collapsed": false,
    "ExecuteTime": {
     "end_time": "2023-11-07T21:52:33.956110164Z",
     "start_time": "2023-11-07T21:49:39.874585128Z"
    }
   },
   "outputs": [
    {
     "name": "stderr",
     "output_type": "stream",
     "text": [
      "You're using a DistilBertTokenizerFast tokenizer. Please note that with a fast tokenizer, using the `__call__` method is faster than using a method to encode the text followed by a call to the `pad` method to get a padded encoding.\n"
     ]
    },
    {
     "data": {
      "text/plain": "<IPython.core.display.HTML object>",
      "text/html": "\n    <div>\n      \n      <progress value='2' max='4032' style='width:300px; height:20px; vertical-align: middle;'></progress>\n      [   2/4032 : < :, Epoch 0.00/3]\n    </div>\n    <table border=\"1\" class=\"dataframe\">\n  <thead>\n <tr style=\"text-align: left;\">\n      <th>Epoch</th>\n      <th>Training Loss</th>\n      <th>Validation Loss</th>\n    </tr>\n  </thead>\n  <tbody>\n  </tbody>\n</table><p>"
     },
     "metadata": {},
     "output_type": "display_data"
    },
    {
     "data": {
      "text/plain": "TrainOutput(global_step=4032, training_loss=0.09492586661875226, metrics={'train_runtime': 173.9807, 'train_samples_per_second': 370.679, 'train_steps_per_second': 23.175, 'total_flos': 335834986244004.0, 'train_loss': 0.09492586661875226, 'epoch': 3.0})"
     },
     "execution_count": 19,
     "metadata": {},
     "output_type": "execute_result"
    }
   ],
   "source": [
    "trainer.train()"
   ]
  },
  {
   "cell_type": "code",
   "execution_count": 20,
   "id": "2b2d91d6128f475c",
   "metadata": {
    "collapsed": false,
    "ExecuteTime": {
     "end_time": "2023-11-07T21:52:34.370510436Z",
     "start_time": "2023-11-07T21:52:33.956741408Z"
    }
   },
   "outputs": [],
   "source": [
    "# You can save your model to disk\n",
    "trainer.save_model(\"./models\")"
   ]
  },
  {
   "cell_type": "code",
   "execution_count": 21,
   "id": "3d4316d873b5ca35",
   "metadata": {
    "collapsed": false,
    "ExecuteTime": {
     "end_time": "2023-11-07T21:52:34.777033834Z",
     "start_time": "2023-11-07T21:52:34.371392392Z"
    }
   },
   "outputs": [],
   "source": [
    "# ...and reload it at any time in the future!\n",
    "model = AutoModelForSequenceClassification.from_pretrained(\"./models\")"
   ]
  },
  {
   "cell_type": "code",
   "execution_count": 22,
   "id": "266b5e81ea7f302",
   "metadata": {
    "collapsed": false,
    "ExecuteTime": {
     "end_time": "2023-11-07T21:52:35.426218817Z",
     "start_time": "2023-11-07T21:52:34.777366096Z"
    }
   },
   "outputs": [],
   "source": [
    "from transformers import pipeline\n",
    "classifier = pipeline('text-classification', model=model, tokenizer=tokenizer)"
   ]
  },
  {
   "cell_type": "code",
   "execution_count": 23,
   "id": "8442a20ac64286bd",
   "metadata": {
    "collapsed": false,
    "ExecuteTime": {
     "end_time": "2023-11-07T21:52:35.478129050Z",
     "start_time": "2023-11-07T21:52:35.426954442Z"
    }
   },
   "outputs": [
    {
     "data": {
      "text/plain": "[{'label': 'check_refund_policy', 'score': 0.9994139671325684}]"
     },
     "execution_count": 23,
     "metadata": {},
     "output_type": "execute_result"
    }
   ],
   "source": [
    "# Let's try it out!\n",
    "classifier(\"What is your return policy?\")"
   ]
  },
  {
   "cell_type": "markdown",
   "id": "bc88a9c65b9e53ec",
   "metadata": {
    "collapsed": false
   },
   "source": [
    "**Your Turn**\n",
    "\n",
    "Try asking a few questions to the chatbot. \n",
    "\n",
    "- What happens if you ask a question that is not in the dataset? \n",
    "- What happens if you ask a question that is in the dataset, but is phrased differently?\n",
    "- What happens if you ask a question that has a typo? Or a word that is not in the model's vocabulary?\n",
    "- What happens if you ask a question that is not in English?"
   ]
  },
  {
   "cell_type": "code",
   "execution_count": 26,
   "id": "7fc4f0ffd00d0602",
   "metadata": {
    "collapsed": false,
    "ExecuteTime": {
     "end_time": "2023-11-07T21:54:12.800451520Z",
     "start_time": "2023-11-07T21:54:12.627551064Z"
    }
   },
   "outputs": [
    {
     "name": "stdout",
     "output_type": "stream",
     "text": [
      "[{'label': 'place_order', 'score': 0.8540619015693665}]\n",
      "[{'label': 'check_refund_policy', 'score': 0.999481737613678}]\n",
      "[{'label': 'check_refund_policy', 'score': 0.8617350459098816}]\n",
      "[{'label': 'check_refund_policy', 'score': 0.9994872808456421}]\n",
      "[{'label': 'check_refund_policy', 'score': 0.6498069167137146}]\n"
     ]
    }
   ],
   "source": [
    "# Question not in the dataset\n",
    "print(classifier(\"What is your favorite color?\"))\n",
    "\n",
    "# Question in the dataset, but phrased differently\n",
    "print(classifier(\"Can you tell me about your return policy?\"))\n",
    "\n",
    "# Question with a typo\n",
    "print(classifier(\"What is your return polcy?\"))\n",
    "\n",
    "# Question with a word that is not in the model's vocabulary\n",
    "print(classifier(\"What is your return policy? 😊\"))\n",
    "\n",
    "# Question not in English\n",
    "print(classifier(\"¿Cuál es su política de devolución?\"))"
   ]
  },
  {
   "cell_type": "markdown",
   "id": "ab5c7b9635f80526",
   "metadata": {
    "collapsed": false
   },
   "source": [
    "## Model Evaluation\n",
    "\n",
    "Now that we have trained our model, we can evaluate it. We will get the predictions for the test set, and calculate the accuracy."
   ]
  },
  {
   "cell_type": "code",
   "execution_count": 27,
   "id": "39e47f9e3aff3f94",
   "metadata": {
    "collapsed": false,
    "ExecuteTime": {
     "end_time": "2023-11-07T21:54:25.274343369Z",
     "start_time": "2023-11-07T21:54:21.275799787Z"
    }
   },
   "outputs": [
    {
     "data": {
      "text/plain": "<IPython.core.display.HTML object>",
      "text/html": "\n    <div>\n      \n      <progress value='1' max='672' style='width:300px; height:20px; vertical-align: middle;'></progress>\n      [  1/672 : < :]\n    </div>\n    "
     },
     "metadata": {},
     "output_type": "display_data"
    },
    {
     "name": "stdout",
     "output_type": "stream",
     "text": [
      "Accuracy: 1.00\n"
     ]
    }
   ],
   "source": [
    "from sklearn.metrics import accuracy_score\n",
    "\n",
    "predictions = trainer.predict(tokenized_dataset['test'])\n",
    "predictions = predictions.predictions.argmax(-1)\n",
    "labels = tokenized_dataset['test']['label']\n",
    "\n",
    "accuracy = accuracy_score(labels, predictions)\n",
    "print(f'Accuracy: {accuracy:.2f}')"
   ]
  },
  {
   "cell_type": "markdown",
   "id": "d9b68221972a4af0",
   "metadata": {
    "collapsed": false
   },
   "source": [
    "Wow! As we can see, the model is very accurate. This is because we are using a model that has already been trained on a similar task. If we were training a model from scratch, we would expect the accuracy to be much lower."
   ]
  },
  {
   "cell_type": "markdown",
   "id": "18ee060d54796ecb",
   "metadata": {
    "collapsed": false
   },
   "source": [
    "**Your Turn**\n",
    "\n",
    "When evaluation performance of a new model, it's often helpful to look at the examples that the model gets wrong. This can help you understand what types of errors the model is making, and how you might improve the model.\n",
    "\n",
    "In the cell below, print out the examples that the model gets wrong. You can use the `predictions` and `labels` variables from the previous cell.\n",
    "\n",
    "- What types of errors is the model making?\n",
    "- Are there any patterns in the errors that the model is making?"
   ]
  },
  {
   "cell_type": "code",
   "execution_count": 32,
   "id": "15b64cb32b6ad555",
   "metadata": {
    "collapsed": false,
    "ExecuteTime": {
     "end_time": "2023-11-07T21:56:07.717873715Z",
     "start_time": "2023-11-07T21:56:06.872081794Z"
    }
   },
   "outputs": [
    {
     "data": {
      "text/plain": "                prediction                    label  \\\n0             cancel_order             change_order   \n1    registration_problems           create_account   \n2  change_shipping_address  set_up_shipping_address   \n3             change_order              track_order   \n4  change_shipping_address  set_up_shipping_address   \n5              get_invoice            check_invoice   \n6  change_shipping_address  set_up_shipping_address   \n\n                                                text  \n0  [[CLS], assistance, with, hc, ##ang, ##ing, or...  \n1  [[CLS], i, ', m, trying, to, find, information...  \n2  [[CLS], shipping, add, ##tes, ##s, trouble, [S...  \n3  [[CLS], can, uh, ##el, ##p, mel, ##oca, ##te, ...  \n4  [[CLS], need, to, sub, ##mut, a, delivery, add...  \n5  [[CLS], need, help, lp, ##ocating, the, bloody...  \n6  [[CLS], the, delivery, add, ##rse, ##s, isn, #...  ",
      "text/html": "<div>\n<style scoped>\n    .dataframe tbody tr th:only-of-type {\n        vertical-align: middle;\n    }\n\n    .dataframe tbody tr th {\n        vertical-align: top;\n    }\n\n    .dataframe thead th {\n        text-align: right;\n    }\n</style>\n<table border=\"1\" class=\"dataframe\">\n  <thead>\n    <tr style=\"text-align: right;\">\n      <th></th>\n      <th>prediction</th>\n      <th>label</th>\n      <th>text</th>\n    </tr>\n  </thead>\n  <tbody>\n    <tr>\n      <th>0</th>\n      <td>cancel_order</td>\n      <td>change_order</td>\n      <td>[[CLS], assistance, with, hc, ##ang, ##ing, or...</td>\n    </tr>\n    <tr>\n      <th>1</th>\n      <td>registration_problems</td>\n      <td>create_account</td>\n      <td>[[CLS], i, ', m, trying, to, find, information...</td>\n    </tr>\n    <tr>\n      <th>2</th>\n      <td>change_shipping_address</td>\n      <td>set_up_shipping_address</td>\n      <td>[[CLS], shipping, add, ##tes, ##s, trouble, [S...</td>\n    </tr>\n    <tr>\n      <th>3</th>\n      <td>change_order</td>\n      <td>track_order</td>\n      <td>[[CLS], can, uh, ##el, ##p, mel, ##oca, ##te, ...</td>\n    </tr>\n    <tr>\n      <th>4</th>\n      <td>change_shipping_address</td>\n      <td>set_up_shipping_address</td>\n      <td>[[CLS], need, to, sub, ##mut, a, delivery, add...</td>\n    </tr>\n    <tr>\n      <th>5</th>\n      <td>get_invoice</td>\n      <td>check_invoice</td>\n      <td>[[CLS], need, help, lp, ##ocating, the, bloody...</td>\n    </tr>\n    <tr>\n      <th>6</th>\n      <td>change_shipping_address</td>\n      <td>set_up_shipping_address</td>\n      <td>[[CLS], the, delivery, add, ##rse, ##s, isn, #...</td>\n    </tr>\n  </tbody>\n</table>\n</div>"
     },
     "execution_count": 32,
     "metadata": {},
     "output_type": "execute_result"
    }
   ],
   "source": [
    "import pandas as pd\n",
    "df = []\n",
    "for i, (k,v) in enumerate(zip(predictions, labels)):\n",
    "    if k != v:\n",
    "        df.append({'prediction': id2label[k], 'label': id2label[v], 'text': tokenizer.convert_ids_to_tokens(tokenized_dataset['test']['input_ids'][i])})\n",
    "df = pd.DataFrame(df)\n",
    "df"
   ]
  },
  {
   "cell_type": "markdown",
   "id": "fcd13d37c88c12fa",
   "metadata": {
    "collapsed": false
   },
   "source": [
    "**Bonus Task**\n",
    "\n",
    "Try fine-tuning a different model, such as [BERT](https://huggingface.co/transformers/model_doc/bert.html), [RoBERTa](https://huggingface.co/transformers/model_doc/roberta.html), or [XLNet](https://huggingface.co/transformers/model_doc/xlnet.html). How does the accuracy change? How does the training time change? __Hint: You can change the model name in the cell where we load the model.__"
   ]
  },
  {
   "cell_type": "code",
   "execution_count": 33,
   "id": "cefc7f3855a66851",
   "metadata": {
    "collapsed": false,
    "ExecuteTime": {
     "end_time": "2023-11-07T22:02:12.605138937Z",
     "start_time": "2023-11-07T21:57:00.566022689Z"
    }
   },
   "outputs": [
    {
     "data": {
      "text/plain": "Downloading (…)lve/main/config.json:   0%|          | 0.00/570 [00:00<?, ?B/s]",
      "application/vnd.jupyter.widget-view+json": {
       "version_major": 2,
       "version_minor": 0,
       "model_id": "148c6bf7a522461d8ec297708ff9fe81"
      }
     },
     "metadata": {},
     "output_type": "display_data"
    },
    {
     "data": {
      "text/plain": "Downloading model.safetensors:   0%|          | 0.00/440M [00:00<?, ?B/s]",
      "application/vnd.jupyter.widget-view+json": {
       "version_major": 2,
       "version_minor": 0,
       "model_id": "f22cdb2934c7465cb05c46ee71f23a3b"
      }
     },
     "metadata": {},
     "output_type": "display_data"
    },
    {
     "name": "stderr",
     "output_type": "stream",
     "text": [
      "Some weights of BertForSequenceClassification were not initialized from the model checkpoint at bert-base-uncased and are newly initialized: ['classifier.weight', 'classifier.bias']\n",
      "You should probably TRAIN this model on a down-stream task to be able to use it for predictions and inference.\n"
     ]
    },
    {
     "data": {
      "text/plain": "<IPython.core.display.HTML object>",
      "text/html": "\n    <div>\n      \n      <progress value='2' max='4032' style='width:300px; height:20px; vertical-align: middle;'></progress>\n      [   2/4032 : < :, Epoch 0.00/3]\n    </div>\n    <table border=\"1\" class=\"dataframe\">\n  <thead>\n <tr style=\"text-align: left;\">\n      <th>Epoch</th>\n      <th>Training Loss</th>\n      <th>Validation Loss</th>\n    </tr>\n  </thead>\n  <tbody>\n  </tbody>\n</table><p>"
     },
     "metadata": {},
     "output_type": "display_data"
    },
    {
     "data": {
      "text/plain": "TrainOutput(global_step=4032, training_loss=0.0921793368565381, metrics={'train_runtime': 306.4672, 'train_samples_per_second': 210.434, 'train_steps_per_second': 13.156, 'total_flos': 666898770501540.0, 'train_loss': 0.0921793368565381, 'epoch': 3.0})"
     },
     "execution_count": 33,
     "metadata": {},
     "output_type": "execute_result"
    }
   ],
   "source": [
    "# Load a different model\n",
    "model = AutoModelForSequenceClassification.from_pretrained(\"bert-base-uncased\", num_labels=len(intents), id2label=id2label, label2id=label2id)\n",
    "\n",
    "# Move everything to the GPU/MPS, if available\n",
    "model.to(device)\n",
    "\n",
    "trainer = Trainer(\n",
    "    model=model,                                 # the model to be trained\n",
    "    args=training_args,                          # training arguments, defined above\n",
    "    train_dataset=tokenized_dataset['train'],    # training dataset\n",
    "    eval_dataset=tokenized_dataset['test'],      # evaluation dataset\n",
    "    data_collator=data_collator,                 # data collator\n",
    ")\n",
    "\n",
    "trainer.train()"
   ]
  },
  {
   "cell_type": "code",
   "execution_count": 34,
   "outputs": [
    {
     "data": {
      "text/plain": "<IPython.core.display.HTML object>",
      "text/html": "\n    <div>\n      \n      <progress value='1' max='672' style='width:300px; height:20px; vertical-align: middle;'></progress>\n      [  1/672 : < :]\n    </div>\n    "
     },
     "metadata": {},
     "output_type": "display_data"
    },
    {
     "name": "stdout",
     "output_type": "stream",
     "text": [
      "Accuracy: 1.00\n"
     ]
    }
   ],
   "source": [
    "# Evaluate performance\n",
    "\n",
    "predictions = trainer.predict(tokenized_dataset['test'])\n",
    "predictions = predictions.predictions.argmax(-1)\n",
    "labels = tokenized_dataset['test']['label']\n",
    "\n",
    "accuracy = accuracy_score(labels, predictions)\n",
    "print(f'Accuracy: {accuracy:.2f}')"
   ],
   "metadata": {
    "collapsed": false,
    "ExecuteTime": {
     "end_time": "2023-11-07T22:02:18.394986746Z",
     "start_time": "2023-11-07T22:02:12.608695094Z"
    }
   },
   "id": "6a45a3615965ff3a"
  }
 ],
 "metadata": {
  "kernelspec": {
   "display_name": "Python 3 (ipykernel)",
   "language": "python",
   "name": "python3"
  },
  "language_info": {
   "codemirror_mode": {
    "name": "ipython",
    "version": 3
   },
   "file_extension": ".py",
   "mimetype": "text/x-python",
   "name": "python",
   "nbconvert_exporter": "python",
   "pygments_lexer": "ipython3",
   "version": "3.11.6"
  }
 },
 "nbformat": 4,
 "nbformat_minor": 5
}
