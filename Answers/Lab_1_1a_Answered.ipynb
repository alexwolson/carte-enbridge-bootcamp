{
 "cells": [
  {
   "cell_type": "markdown",
   "source": [
    "# CARTE-Enbridge Bootcamp\n",
    "#### Lab 1-1a"
   ],
   "metadata": {
    "collapsed": false
   },
   "id": "42b0bd56eb3230ff"
  },
  {
   "cell_type": "markdown",
   "source": [
    "In this lab, we will introduce you to the very basics of programming using Python. We'll cover:\n",
    "\n",
    "- Variables and Data Types\n",
    "- Basic Operations\n",
    "- Lists\n",
    "- Loops and Conditionals\n",
    "\n",
    "Don't worry if you're new to programming; we'll walk you through each step.\n",
    "Notebooks\n",
    "\n",
    "We're using notebooks for this lab. Write your code in cells like this one. To run a cell, press the play button above or hit ctrl+enter. To write text like this, set the cell to \"Markdown\" from the dropdown menu.\n",
    "Getting Started\n",
    "\n",
    "First, let's make sure Python is working.\n",
    "**>> Run the code in the next cell** to print a welcome message."
   ],
   "metadata": {
    "collapsed": false
   },
   "id": "479c29fd8c3b5e83"
  },
  {
   "cell_type": "code",
   "execution_count": 1,
   "outputs": [
    {
     "name": "stdout",
     "output_type": "stream",
     "text": [
      "Welcome to Python!\n"
     ]
    }
   ],
   "source": [
    "print(\"Welcome to Python!\")"
   ],
   "metadata": {
    "collapsed": false,
    "ExecuteTime": {
     "end_time": "2023-10-31T17:14:26.788868385Z",
     "start_time": "2023-10-31T17:14:26.632851316Z"
    }
   },
   "id": "a8c9f610e06cbea7"
  },
  {
   "cell_type": "markdown",
   "source": [
    "## Variables and Data Types\n",
    "\n",
    "In Python, we store information in variables. Think of a variable as a box where you can put stuff like numbers or text.\n",
    "\n",
    "**>> Run the code in the next cell** to create a variable and print it."
   ],
   "metadata": {
    "collapsed": false
   },
   "id": "47b9a52a5badaeee"
  },
  {
   "cell_type": "code",
   "execution_count": 2,
   "outputs": [
    {
     "name": "stdout",
     "output_type": "stream",
     "text": [
      "My variable contains: 10\n"
     ]
    }
   ],
   "source": [
    "my_variable = 10\n",
    "print(\"My variable contains:\", my_variable)"
   ],
   "metadata": {
    "collapsed": false,
    "ExecuteTime": {
     "end_time": "2023-10-31T17:14:27.000181122Z",
     "start_time": "2023-10-31T17:14:26.640185542Z"
    }
   },
   "id": "27b51f9956e4c6d4"
  },
  {
   "cell_type": "markdown",
   "source": [
    "Python has different types of data:\n",
    "\n",
    " - Integer (whole numbers)\n",
    " - Float (decimal numbers)\n",
    " - String (text)\n",
    "\n",
    "**>> Run the code in the next cell** to see examples."
   ],
   "metadata": {
    "collapsed": false
   },
   "id": "ab45bfe0c996f951"
  },
  {
   "cell_type": "code",
   "execution_count": 3,
   "outputs": [
    {
     "name": "stdout",
     "output_type": "stream",
     "text": [
      "Integer: 5\n",
      "Float: 5.0\n",
      "String: Hello\n"
     ]
    }
   ],
   "source": [
    "integer_example = 5\n",
    "float_example = 5.0\n",
    "string_example = \"Hello\"\n",
    "\n",
    "print(\"Integer:\", integer_example)\n",
    "print(\"Float:\", float_example)\n",
    "print(\"String:\", string_example)"
   ],
   "metadata": {
    "collapsed": false,
    "ExecuteTime": {
     "end_time": "2023-10-31T17:14:27.115837161Z",
     "start_time": "2023-10-31T17:14:26.650666690Z"
    }
   },
   "id": "1714b6f2a66970b2"
  },
  {
   "cell_type": "markdown",
   "source": [
    "## Basic Operations\n",
    "You can perform basic math operations in Python.\n",
    "\n",
    "**>> Run the code in the next cell** to see some examples."
   ],
   "metadata": {
    "collapsed": false
   },
   "id": "ad8c39ff6135060"
  },
  {
   "cell_type": "code",
   "execution_count": 4,
   "outputs": [
    {
     "name": "stdout",
     "output_type": "stream",
     "text": [
      "Addition: 10\n",
      "Subtraction: 5\n",
      "Multiplication: 10\n",
      "Division: 5.0\n"
     ]
    }
   ],
   "source": [
    "addition = 5 + 5\n",
    "subtraction = 10 - 5\n",
    "multiplication = 2 * 5\n",
    "division = 10 / 2\n",
    "\n",
    "print(\"Addition:\", addition)\n",
    "print(\"Subtraction:\", subtraction)\n",
    "print(\"Multiplication:\", multiplication)\n",
    "print(\"Division:\", division)"
   ],
   "metadata": {
    "collapsed": false,
    "ExecuteTime": {
     "end_time": "2023-10-31T17:14:27.164365677Z",
     "start_time": "2023-10-31T17:14:26.657977224Z"
    }
   },
   "id": "5548e1343074d8b3"
  },
  {
   "cell_type": "markdown",
   "source": [
    "Notice that the result of division is a float, even if the result is a whole number. This is because the result could be a decimal number. If you want to perform integer division, use the `//` operator instead:"
   ],
   "metadata": {
    "collapsed": false
   },
   "id": "db0b36f3c4a083a5"
  },
  {
   "cell_type": "code",
   "execution_count": 5,
   "outputs": [
    {
     "name": "stdout",
     "output_type": "stream",
     "text": [
      "Integer Division: 2\n"
     ]
    }
   ],
   "source": [
    "integer_division = 5 // 2\n",
    "print(\"Integer Division:\", integer_division)"
   ],
   "metadata": {
    "collapsed": false,
    "ExecuteTime": {
     "end_time": "2023-10-31T17:14:27.263561688Z",
     "start_time": "2023-10-31T17:14:26.665102825Z"
    }
   },
   "id": "4116ea3a84cd5eb4"
  },
  {
   "cell_type": "markdown",
   "source": [
    "## Lists\n",
    "\n",
    "A list is a collection of items. Lists are useful for storing multiple items in a single variable.\n",
    "\n",
    "**>> Run the code in the next cell** to create and print a list."
   ],
   "metadata": {
    "collapsed": false
   },
   "id": "34de25995d3d933d"
  },
  {
   "cell_type": "code",
   "execution_count": 6,
   "outputs": [
    {
     "name": "stdout",
     "output_type": "stream",
     "text": [
      "My list contains: [1, 2, 3, 4, 5]\n"
     ]
    }
   ],
   "source": [
    "my_list = [1, 2, 3, 4, 5]\n",
    "print(\"My list contains:\", my_list)"
   ],
   "metadata": {
    "collapsed": false,
    "ExecuteTime": {
     "end_time": "2023-10-31T17:14:27.309657818Z",
     "start_time": "2023-10-31T17:14:26.675798892Z"
    }
   },
   "id": "1ecdfb91d429710d"
  },
  {
   "cell_type": "markdown",
   "source": [
    "You can access items in a list by their position. In Python (and many other programming languages), the first item in a list is at position 0."
   ],
   "metadata": {
    "collapsed": false
   },
   "id": "95f7a62276663697"
  },
  {
   "cell_type": "code",
   "execution_count": 7,
   "outputs": [
    {
     "name": "stdout",
     "output_type": "stream",
     "text": [
      "The first item in my list is: 1\n",
      "The third item in my list is: 3\n"
     ]
    }
   ],
   "source": [
    "print(\"The first item in my list is:\", my_list[0])\n",
    "print(\"The third item in my list is:\", my_list[2])"
   ],
   "metadata": {
    "collapsed": false,
    "ExecuteTime": {
     "end_time": "2023-10-31T17:14:27.359574766Z",
     "start_time": "2023-10-31T17:14:26.685404663Z"
    }
   },
   "id": "86c389f82d0b1c9e"
  },
  {
   "cell_type": "markdown",
   "source": [
    "## Loops and Conditionals\n",
    "\n",
    "Loops and conditionals are used to control the flow of a program. They allow you to run certain code only if certain conditions are met.\n",
    "\n",
    "**>> Run the code in the next cell** to see a simple loop and conditional."
   ],
   "metadata": {
    "collapsed": false
   },
   "id": "2054e1127dcd860a"
  },
  {
   "cell_type": "code",
   "execution_count": 8,
   "outputs": [
    {
     "name": "stdout",
     "output_type": "stream",
     "text": [
      "1 is odd.\n",
      "2 is even.\n",
      "3 is odd.\n",
      "4 is even.\n",
      "5 is odd.\n"
     ]
    }
   ],
   "source": [
    "for number in my_list:  # Loop through each item in the list\n",
    "    if number % 2 == 0:  # Check if the number is divisible by 2\n",
    "        print(number, \"is even.\")\n",
    "    else:\n",
    "        print(number, \"is odd.\")"
   ],
   "metadata": {
    "collapsed": false,
    "ExecuteTime": {
     "end_time": "2023-10-31T17:14:27.434621302Z",
     "start_time": "2023-10-31T17:14:26.697017443Z"
    }
   },
   "id": "b3f513ad78bf9565"
  },
  {
   "cell_type": "markdown",
   "source": [
    "## Your Turn\n",
    "\n",
    "Now it's your turn to write some code. In the next cell, write a program that does the following:\n",
    "\n",
    "1. Create a list of numbers from 1 to 15\n",
    "2. Loop through the list\n",
    "3. If the number is divisible by 3, print \"Fizz\"\n",
    "4. If the number is divisible by 5, print \"Buzz\"\n",
    "5. If the number is divisible by both 3 and 5, print \"FizzBuzz\"\n",
    "6. Otherwise, print the number itself\n",
    "\n",
    "**>> Write your code in the next cell.** You can copy and paste the code from the previous cell and modify it."
   ],
   "metadata": {
    "collapsed": false
   },
   "id": "96a60ee19327b858"
  },
  {
   "cell_type": "code",
   "execution_count": 9,
   "outputs": [
    {
     "name": "stdout",
     "output_type": "stream",
     "text": [
      "1\n",
      "2\n",
      "Fizz\n",
      "4\n",
      "Buzz\n",
      "Fizz\n",
      "7\n",
      "8\n",
      "Fizz\n",
      "Buzz\n",
      "11\n",
      "Fizz\n",
      "13\n",
      "14\n",
      "FizzBuzz\n"
     ]
    }
   ],
   "source": [
    "# Answer\n",
    "\n",
    "my_list = list(range(1, 16))  # Create a list of numbers from 1 to 15\n",
    "for number in my_list:  # Loop through each item in the list\n",
    "    if number % 3 == 0 and number % 5 == 0:  # Check if the number is divisible by 3 and 5\n",
    "        print(\"FizzBuzz\")\n",
    "    elif number % 3 == 0:  # Check if the number is divisible by 3\n",
    "        print(\"Fizz\")\n",
    "    elif number % 5 == 0:  # Check if the number is divisible by 5\n",
    "        print(\"Buzz\")\n",
    "    else:\n",
    "        print(number)"
   ],
   "metadata": {
    "collapsed": false,
    "ExecuteTime": {
     "end_time": "2023-10-31T17:14:27.436830450Z",
     "start_time": "2023-10-31T17:14:26.747227115Z"
    }
   },
   "id": "4b34e32dfd6df7d"
  },
  {
   "cell_type": "markdown",
   "source": [
    "## Functions\n",
    "\n",
    "Functions are a way to organize your code. They allow you to reuse code without having to write it again.\n",
    "\n",
    "**>> Run the code in the next cell** to define a simple function, then use it."
   ],
   "metadata": {
    "collapsed": false
   },
   "id": "95d15720e9f56e99"
  },
  {
   "cell_type": "code",
   "execution_count": 10,
   "outputs": [],
   "source": [
    "def greet(name):\n",
    "    print(\"Hello,\", name)"
   ],
   "metadata": {
    "collapsed": false,
    "ExecuteTime": {
     "end_time": "2023-10-31T17:14:27.437177950Z",
     "start_time": "2023-10-31T17:14:26.747489205Z"
    }
   },
   "id": "861f290fb2094f5f"
  },
  {
   "cell_type": "code",
   "execution_count": 11,
   "outputs": [
    {
     "name": "stdout",
     "output_type": "stream",
     "text": [
      "Hello, John\n",
      "Hello, Jane\n"
     ]
    }
   ],
   "source": [
    "greet(\"John\")\n",
    "greet(\"Jane\")"
   ],
   "metadata": {
    "collapsed": false,
    "ExecuteTime": {
     "end_time": "2023-10-31T17:14:27.437468622Z",
     "start_time": "2023-10-31T17:14:26.747578400Z"
    }
   },
   "id": "8ff273a12087789"
  },
  {
   "cell_type": "markdown",
   "source": [
    "## Libraries\n",
    "\n",
    "Libraries are collections of functions and methods that allow you to perform actions without writing the code yourself. Let's import the `math` library and try some functions.\n",
    "\n",
    "**>> Run the code in the next cell** to import the `math` library and use some functions."
   ],
   "metadata": {
    "collapsed": false
   },
   "id": "9160d956a989be34"
  },
  {
   "cell_type": "code",
   "execution_count": 12,
   "outputs": [
    {
     "name": "stdout",
     "output_type": "stream",
     "text": [
      "Pi is: 3.141592653589793\n",
      "The square root of 16 is: 4.0\n"
     ]
    }
   ],
   "source": [
    "import math\n",
    "\n",
    "print(\"Pi is:\", math.pi)\n",
    "print(\"The square root of 16 is:\", math.sqrt(16))"
   ],
   "metadata": {
    "collapsed": false,
    "ExecuteTime": {
     "end_time": "2023-10-31T17:14:27.437672454Z",
     "start_time": "2023-10-31T17:14:26.747678288Z"
    }
   },
   "id": "8e4144df664b2b59"
  },
  {
   "cell_type": "markdown",
   "source": [
    "## NumPy\n",
    "\n",
    "When we work with lots of data in Python, we use a library called NumPy. NumPy allows us to work with arrays, which are like lists but with more functionality. The code underlying NumPy isn't written in Python, but in C, which is much faster and allows us to work with large amounts of data. Many other libraries in Python are built on top of NumPy.\n",
    "\n",
    "**>> Run the code in the next cell** to import NumPy and create an array."
   ],
   "metadata": {
    "collapsed": false
   },
   "id": "2f92b8ecd9c47557"
  },
  {
   "cell_type": "code",
   "execution_count": 13,
   "outputs": [],
   "source": [
    "import numpy as np  # This is the standard way to import NumPy - we are just giving it a nickname"
   ],
   "metadata": {
    "collapsed": false,
    "ExecuteTime": {
     "end_time": "2023-10-31T17:14:27.456222739Z",
     "start_time": "2023-10-31T17:14:26.747776467Z"
    }
   },
   "id": "6c431192edfe3809"
  },
  {
   "cell_type": "code",
   "execution_count": 14,
   "outputs": [
    {
     "name": "stdout",
     "output_type": "stream",
     "text": [
      "Array: [1 2 3 4 5]\n"
     ]
    }
   ],
   "source": [
    "my_array = np.array(\n",
    "    [1, 2, 3, 4, 5]\n",
    ")  # We can create an array from a standard Python list\n",
    "print(\"Array:\", my_array)"
   ],
   "metadata": {
    "collapsed": false,
    "ExecuteTime": {
     "end_time": "2023-10-31T17:14:27.456584841Z",
     "start_time": "2023-10-31T17:14:26.837572502Z"
    }
   },
   "id": "80c481e96d120b8b"
  },
  {
   "cell_type": "markdown",
   "source": [
    "To get a sense of how much faster NumPy is than standard Python, let's create a large array and time how long it takes to sum all the elements when using a standard Python list vs. a NumPy array."
   ],
   "metadata": {
    "collapsed": false
   },
   "id": "6d17e82ea90bb872"
  },
  {
   "cell_type": "code",
   "execution_count": 15,
   "outputs": [],
   "source": [
    "my_large_list = list(range(1000000))  # Create a list of 1 million numbers\n",
    "my_large_array = np.array(my_large_list)  # Create a NumPy array from the list"
   ],
   "metadata": {
    "collapsed": false,
    "ExecuteTime": {
     "end_time": "2023-10-31T17:14:27.456691221Z",
     "start_time": "2023-10-31T17:14:26.839374529Z"
    }
   },
   "id": "6841ead616e6e86c"
  },
  {
   "cell_type": "code",
   "execution_count": 16,
   "outputs": [],
   "source": [
    "import time  # Import the time library to time our code"
   ],
   "metadata": {
    "collapsed": false,
    "ExecuteTime": {
     "end_time": "2023-10-31T17:14:27.456765692Z",
     "start_time": "2023-10-31T17:14:26.899332119Z"
    }
   },
   "id": "b109dfd2ddbf834c"
  },
  {
   "cell_type": "code",
   "execution_count": 17,
   "outputs": [
    {
     "name": "stdout",
     "output_type": "stream",
     "text": [
      "Time to sum a list: 0.009753227233886719 seconds\n"
     ]
    }
   ],
   "source": [
    "start_time = time.time()  # Get the current time\n",
    "sum(my_large_list)  # Sum all the elements in the list\n",
    "print(\n",
    "    \"Time to sum a list:\", time.time() - start_time, \"seconds\"\n",
    ")  # Print the time elapsed"
   ],
   "metadata": {
    "collapsed": false,
    "ExecuteTime": {
     "end_time": "2023-10-31T17:14:27.456876328Z",
     "start_time": "2023-10-31T17:14:26.943277549Z"
    }
   },
   "id": "56ffc4ee5ca92eba"
  },
  {
   "cell_type": "code",
   "execution_count": 18,
   "outputs": [
    {
     "name": "stdout",
     "output_type": "stream",
     "text": [
      "Time to sum an array: 0.0009906291961669922 seconds\n"
     ]
    }
   ],
   "source": [
    "start_time = time.time()  # Get the current time\n",
    "np.sum(my_large_array)  # Sum all the elements in the array\n",
    "print(\n",
    "    \"Time to sum an array:\", time.time() - start_time, \"seconds\"\n",
    ")  # Print the time elapsed"
   ],
   "metadata": {
    "collapsed": false,
    "ExecuteTime": {
     "end_time": "2023-10-31T17:14:27.456986416Z",
     "start_time": "2023-10-31T17:14:26.943589332Z"
    }
   },
   "id": "49b72d64158a228"
  },
  {
   "cell_type": "markdown",
   "source": [
    "Both of these times might seem fast, but remember that we're only summing 1 million numbers. In data science, we often work with millions or billions of data points, so that fact that NumPy is about 10x faster than standard Python is a big deal."
   ],
   "metadata": {
    "collapsed": false
   },
   "id": "3b634fef1e281c92"
  },
  {
   "cell_type": "markdown",
   "source": [
    "Arrays can be multi-dimensional. We can create a 2D array like this:"
   ],
   "metadata": {
    "collapsed": false
   },
   "id": "7264d426b011261"
  },
  {
   "cell_type": "code",
   "execution_count": 19,
   "outputs": [
    {
     "name": "stdout",
     "output_type": "stream",
     "text": [
      "2D Array:\n",
      " [[1 2 3]\n",
      " [4 5 6]]\n"
     ]
    }
   ],
   "source": [
    "my_2d_array = np.array([[1, 2, 3], [4, 5, 6]])\n",
    "print(\"2D Array:\\n\", my_2d_array)  # The \\n character creates a new line"
   ],
   "metadata": {
    "collapsed": false,
    "ExecuteTime": {
     "end_time": "2023-10-31T17:14:27.457809898Z",
     "start_time": "2023-10-31T17:14:26.943727533Z"
    }
   },
   "id": "5dafbabb4c9e3657"
  },
  {
   "cell_type": "markdown",
   "source": [
    "We can access the shape, number of dimensions, data type, and number of elements in our array as follows:"
   ],
   "metadata": {
    "collapsed": false
   },
   "id": "6a26999316126e1c"
  },
  {
   "cell_type": "code",
   "execution_count": 20,
   "outputs": [
    {
     "name": "stdout",
     "output_type": "stream",
     "text": [
      "Shape: (2, 3)\n",
      "Number of Dimensions: 2\n",
      "Data Type: int64\n",
      "Number of Elements: 6\n"
     ]
    }
   ],
   "source": [
    "print(\"Shape:\", my_2d_array.shape)\n",
    "print(\"Number of Dimensions:\", my_2d_array.ndim)\n",
    "print(\"Data Type:\", my_2d_array.dtype.name)\n",
    "print(\"Number of Elements:\", my_2d_array.size)"
   ],
   "metadata": {
    "collapsed": false,
    "ExecuteTime": {
     "end_time": "2023-10-31T17:14:27.457929208Z",
     "start_time": "2023-10-31T17:14:26.987290296Z"
    }
   },
   "id": "6948a08f7958cbf9"
  },
  {
   "cell_type": "markdown",
   "source": [
    "## Indexing\n",
    "\n",
    "Python lets us access elements in a list or array using a very convenient set of rules called indexing. We can access the first element in a list or array like before:"
   ],
   "metadata": {
    "collapsed": false
   },
   "id": "8dd080086f7e0de6"
  },
  {
   "cell_type": "code",
   "execution_count": 21,
   "outputs": [
    {
     "name": "stdout",
     "output_type": "stream",
     "text": [
      "First element: 1\n"
     ]
    }
   ],
   "source": [
    "print(\"First element:\", my_array[0])"
   ],
   "metadata": {
    "collapsed": false,
    "ExecuteTime": {
     "end_time": "2023-10-31T17:14:27.458053318Z",
     "start_time": "2023-10-31T17:14:26.987475791Z"
    }
   },
   "id": "3c8d946d7e4862fe"
  },
  {
   "cell_type": "markdown",
   "source": [
    "But what if we want to access the last element in the list? We could count how many elements are in the list, then subtract 1, but that's a lot of work when we are dealing with huge amounts of data. Instead, we can use negative indexing:"
   ],
   "metadata": {
    "collapsed": false
   },
   "id": "d122885096317461"
  },
  {
   "cell_type": "code",
   "execution_count": 22,
   "outputs": [
    {
     "name": "stdout",
     "output_type": "stream",
     "text": [
      "Last element: 5\n",
      "Second to last element: 4\n"
     ]
    }
   ],
   "source": [
    "print(\"Last element:\", my_array[-1])\n",
    "print(\"Second to last element:\", my_array[-2])"
   ],
   "metadata": {
    "collapsed": false,
    "ExecuteTime": {
     "end_time": "2023-10-31T17:14:27.458180985Z",
     "start_time": "2023-10-31T17:14:26.987544021Z"
    }
   },
   "id": "d67f75de69e6e82b"
  },
  {
   "cell_type": "markdown",
   "source": [
    "We can also access a range of elements using the `:` operator. The syntax is `[start:end]`, where `start` is the index of the first element we want to access and `end` is the index of the first element we don't want to access. Note that the element at index `end` is not included - I know this can be a bit confusing at first!"
   ],
   "metadata": {
    "collapsed": false
   },
   "id": "d6d7d550c68de378"
  },
  {
   "cell_type": "code",
   "execution_count": 23,
   "outputs": [
    {
     "name": "stdout",
     "output_type": "stream",
     "text": [
      "First three elements: [1 2 3]\n"
     ]
    }
   ],
   "source": [
    "print(\"First three elements:\", my_array[0:3])  # Gives us elements 0, 1 and 2"
   ],
   "metadata": {
    "collapsed": false,
    "ExecuteTime": {
     "end_time": "2023-10-31T17:14:27.458284109Z",
     "start_time": "2023-10-31T17:14:26.987625929Z"
    }
   },
   "id": "f0f6d3f96311228b"
  },
  {
   "cell_type": "markdown",
   "source": [
    "If we leave out the `start` or `end` index, Python will assume we want to start at the beginning or go all the way to the end, respectively:"
   ],
   "metadata": {
    "collapsed": false
   },
   "id": "1fb9a0f5c79d9e19"
  },
  {
   "cell_type": "code",
   "execution_count": 24,
   "outputs": [
    {
     "name": "stdout",
     "output_type": "stream",
     "text": [
      "First three elements: [1 2 3]\n",
      "Last three elements: [3 4 5]\n"
     ]
    }
   ],
   "source": [
    "print(\"First three elements:\", my_array[:3])  # Think of it as \"up to 3rd element\"\n",
    "print(\"Last three elements:\", my_array[-3:])  # Elements 3, 4 and 5"
   ],
   "metadata": {
    "collapsed": false,
    "ExecuteTime": {
     "end_time": "2023-10-31T17:14:27.594479468Z",
     "start_time": "2023-10-31T17:14:26.987696637Z"
    }
   },
   "id": "ee09c45a3fe3fe"
  },
  {
   "cell_type": "markdown",
   "source": [
    "This is a lot to get used to, but we will be using indexing a lot in this course, so you will get plenty of practice.\n",
    "\n",
    "## Optional Exercise: Advanced Weather Analysis\n",
    "\n",
    "In this optional exercise, you'll analyze four weeks of weather data for a hypothetical city. The data includes daily high temperatures (in Celsius) and weather conditions.\n",
    "### Data\n",
    "\n",
    "Here is four weeks' worth of weather data:\n",
    "\n",
    "```python\n",
    "temperatures = [\n",
    "    [15, 18, 12, 20, 16, 19, 17],  # Week 1\n",
    "    [22, 21, 23, 19, 17, 18, 20],  # Week 2\n",
    "    [25, 27, 26, 24, 22, 23, 24],  # Week 3\n",
    "    [15, 14, 12, 11, 13, 14, 15]   # Week 4\n",
    "]\n",
    "\n",
    "conditions = [\n",
    "    [\"Rain\", \"Sunny\", \"Cloudy\", \"Sunny\", \"Rain\", \"Cloudy\", \"Sunny\"],  # Week 1\n",
    "    [\"Sunny\", \"Sunny\", \"Cloudy\", \"Rain\", \"Rain\", \"Sunny\", \"Sunny\"],    # Week 2\n",
    "    [\"Sunny\", \"Sunny\", \"Sunny\", \"Cloudy\", \"Cloudy\", \"Sunny\", \"Sunny\"], # Week 3\n",
    "    [\"Snow\", \"Snow\", \"Snow\", \"Cloudy\", \"Sunny\", \"Snow\", \"Snow\"]        # Week 4\n",
    "]\n",
    "\n",
    "days = [\"Monday\", \"Tuesday\", \"Wednesday\", \"Thursday\", \"Friday\", \"Saturday\", \"Sunday\"]\n",
    "```\n",
    "\n",
    "### Tasks\n",
    "\n",
    "1. Calculate the average temperature for each week. Store the results in a list called `average_temperatures`.\n",
    "2. Create a function that finds the day with the highest temperature for each week and returns those days.\n",
    "3. Create a function that finds the day with the lowest temperature for each week and returns those days.\n",
    "4. Create a function that counts the number of \"Sunny\" days in each week.\n",
    "5. Use NumPy to find the overall average temperature for the four weeks.\n",
    "6. Use NumPy to find the highest and lowest temperatures across all four weeks."
   ],
   "metadata": {
    "collapsed": false
   },
   "id": "5b8f78a4f43fd207"
  },
  {
   "cell_type": "code",
   "execution_count": 25,
   "outputs": [],
   "source": [
    "temperatures = [\n",
    "    [15, 18, 12, 20, 16, 19, 17],  # Week 1\n",
    "    [22, 21, 23, 19, 17, 18, 20],  # Week 2\n",
    "    [25, 27, 26, 24, 22, 23, 24],  # Week 3\n",
    "    [15, 14, 12, 11, 13, 14, 15]   # Week 4\n",
    "]\n",
    "\n",
    "conditions = [\n",
    "    [\"Rain\", \"Sunny\", \"Cloudy\", \"Sunny\", \"Rain\", \"Cloudy\", \"Sunny\"],  # Week 1\n",
    "    [\"Sunny\", \"Sunny\", \"Cloudy\", \"Rain\", \"Rain\", \"Sunny\", \"Sunny\"],    # Week 2\n",
    "    [\"Sunny\", \"Sunny\", \"Sunny\", \"Cloudy\", \"Cloudy\", \"Sunny\", \"Sunny\"], # Week 3\n",
    "    [\"Snow\", \"Snow\", \"Snow\", \"Cloudy\", \"Sunny\", \"Snow\", \"Snow\"]        # Week 4\n",
    "]\n",
    "\n",
    "days = [\"Monday\", \"Tuesday\", \"Wednesday\", \"Thursday\", \"Friday\", \"Saturday\", \"Sunday\"]"
   ],
   "metadata": {
    "collapsed": false,
    "ExecuteTime": {
     "end_time": "2023-10-31T17:14:27.594646559Z",
     "start_time": "2023-10-31T17:14:27.031471999Z"
    }
   },
   "id": "cbc73617c35bca71"
  },
  {
   "cell_type": "code",
   "execution_count": 26,
   "outputs": [
    {
     "name": "stdout",
     "output_type": "stream",
     "text": [
      "[16.714285714285715, 20.0, 24.428571428571427, 13.428571428571429]\n"
     ]
    }
   ],
   "source": [
    "# 1. Calculate the average temperature for each week. Store the results in a list called `average_temperatures`.\n",
    "\n",
    "average_temperatures = []\n",
    "for week in temperatures:\n",
    "    average_temperatures.append(np.mean(week))\n",
    "print(average_temperatures)"
   ],
   "metadata": {
    "collapsed": false,
    "ExecuteTime": {
     "end_time": "2023-10-31T17:14:27.594803377Z",
     "start_time": "2023-10-31T17:14:27.031681813Z"
    }
   },
   "id": "93ca5d527614256c"
  },
  {
   "cell_type": "code",
   "execution_count": 27,
   "outputs": [
    {
     "name": "stdout",
     "output_type": "stream",
     "text": [
      "['Thursday', 'Wednesday', 'Tuesday', 'Monday']\n"
     ]
    }
   ],
   "source": [
    "# 2. Create a function that finds the day with the highest temperature for each week and returns those days.\n",
    "\n",
    "def highest_temp_day(weeks):\n",
    "    highest_temp_days = []\n",
    "    for week in weeks:\n",
    "        highest_temp_days.append(days[np.argmax(week)])\n",
    "    return highest_temp_days\n",
    "\n",
    "print(highest_temp_day(temperatures))"
   ],
   "metadata": {
    "collapsed": false,
    "ExecuteTime": {
     "end_time": "2023-10-31T17:14:27.594933849Z",
     "start_time": "2023-10-31T17:14:27.031885674Z"
    }
   },
   "id": "5e9f2ac453d39a03"
  },
  {
   "cell_type": "code",
   "execution_count": 28,
   "outputs": [
    {
     "name": "stdout",
     "output_type": "stream",
     "text": [
      "['Wednesday', 'Friday', 'Friday', 'Thursday']\n"
     ]
    }
   ],
   "source": [
    "# 3. Create a function that finds the day with the lowest temperature for each week and returns those days.\n",
    "\n",
    "def lowest_temp_day(weeks):\n",
    "    lowest_temp_days = []\n",
    "    for week in weeks:\n",
    "        lowest_temp_days.append(days[np.argmin(week)])\n",
    "    return lowest_temp_days\n",
    "\n",
    "print(lowest_temp_day(temperatures))"
   ],
   "metadata": {
    "collapsed": false,
    "ExecuteTime": {
     "end_time": "2023-10-31T17:14:27.595271443Z",
     "start_time": "2023-10-31T17:14:27.040424222Z"
    }
   },
   "id": "ade05ce9b69cccf8"
  },
  {
   "cell_type": "code",
   "execution_count": 29,
   "outputs": [
    {
     "name": "stdout",
     "output_type": "stream",
     "text": [
      "[3, 4, 5, 1]\n"
     ]
    }
   ],
   "source": [
    "# 4. Create a function that counts the number of \"Sunny\" days in each week.\n",
    "\n",
    "def sunny_days(weeks):\n",
    "    sunny_days = []\n",
    "    for week in weeks:\n",
    "        sunny_days.append(np.count_nonzero(np.array(week) == \"Sunny\"))\n",
    "    return sunny_days\n",
    "\n",
    "print(sunny_days(conditions))"
   ],
   "metadata": {
    "collapsed": false,
    "ExecuteTime": {
     "end_time": "2023-10-31T17:14:27.596116356Z",
     "start_time": "2023-10-31T17:14:27.049189163Z"
    }
   },
   "id": "12df4e92d9dcb0d3"
  },
  {
   "cell_type": "code",
   "execution_count": 30,
   "outputs": [
    {
     "name": "stdout",
     "output_type": "stream",
     "text": [
      "18.642857142857142\n"
     ]
    }
   ],
   "source": [
    "# 5. Use NumPy to find the overall average temperature for the four weeks.\n",
    "\n",
    "print(np.mean(temperatures))"
   ],
   "metadata": {
    "collapsed": false,
    "ExecuteTime": {
     "end_time": "2023-10-31T17:14:27.596246192Z",
     "start_time": "2023-10-31T17:14:27.092146500Z"
    }
   },
   "id": "43a4f2609142b735"
  },
  {
   "cell_type": "code",
   "execution_count": 31,
   "outputs": [
    {
     "name": "stdout",
     "output_type": "stream",
     "text": [
      "27\n",
      "11\n"
     ]
    }
   ],
   "source": [
    "# 6. Use NumPy to find the highest and lowest temperatures across all four weeks.\n",
    "\n",
    "print(np.max(temperatures))\n",
    "print(np.min(temperatures))"
   ],
   "metadata": {
    "collapsed": false,
    "ExecuteTime": {
     "end_time": "2023-10-31T17:14:27.596352057Z",
     "start_time": "2023-10-31T17:14:27.092890501Z"
    }
   },
   "id": "71463fcb36202775"
  }
 ],
 "metadata": {
  "kernelspec": {
   "display_name": "Python 3",
   "language": "python",
   "name": "python3"
  },
  "language_info": {
   "codemirror_mode": {
    "name": "ipython",
    "version": 2
   },
   "file_extension": ".py",
   "mimetype": "text/x-python",
   "name": "python",
   "nbconvert_exporter": "python",
   "pygments_lexer": "ipython2",
   "version": "2.7.6"
  }
 },
 "nbformat": 4,
 "nbformat_minor": 5
}
