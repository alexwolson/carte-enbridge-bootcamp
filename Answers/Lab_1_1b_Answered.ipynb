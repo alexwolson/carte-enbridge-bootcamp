{
 "cells": [
  {
   "cell_type": "markdown",
   "source": [
    "# CARTE-Enbridge Bootcamp\n",
    "#### Lab 1-1b\n",
    "\n",
    "In this lab, we'll delve into:\n",
    "\n",
    "- Working with NumPy and pandas\n",
    "- Data Loading and Cleaning\n",
    "- Basic Data Visualization\n",
    "\n",
    "Let's get started!\n",
    "\n",
    "## NumPy and Pandas\n",
    "\n",
    "### NumPy\n",
    "\n",
    "NumPy is a Python library that provides a variety of useful features for working with numerical data.  The most important feature of NumPy is the **NumPy array**, a data structure that (as the name implies) is similar to a Python list, but provides additional features that make it useful for data science.  Let's take a look at some of the advantages NumPy arrays have over Python lists:\n",
    "\n",
    "- **Ease of use:** You can write small, concise, and intuitive mathematical expressions like `X + 2` and `X * Y` (where `X` and `Y` are arrays), and the operations will be performed _element-wise_ (sometimes called _vectorized_).  This means that unlike Python lists, you don't have to write loops in order to make simple mathematical operations!\n",
    "- **Performance:** NumPy arrays are implemented in C under the hood, meaning that operations on large arrays can be orders of magnitude faster than operations on Python lists!\n",
    "- **Useful features:** NumPy provides many convenience functions and methods for performing quick and accurate mathematical operations and conversions on your data.  For example, you can compute the mean and standard deviation of an array using `np.mean()` and `np.std()`, respectively.\n",
    "- **Broad applicability:** NumPy is the base of the entire Python data science ecosystem.  Practically every data science library for Python leverages NumPy in some way, making it a crucial skill to master for data science.\n",
    "\n",
    "#### Creating NumPy Arrays\n",
    "\n",
    "There are a variety of ways to create NumPy arrays, but the easiest way is to convert an existing list using `np.array()`.  Let's create a NumPy array from a list of integers:\n"
   ],
   "metadata": {
    "collapsed": false
   },
   "id": "73d93f1d2422d23a"
  },
  {
   "cell_type": "code",
   "execution_count": 1,
   "outputs": [
    {
     "name": "stdout",
     "output_type": "stream",
     "text": [
      "[1 2 3 4 5]\n",
      "[ 2  4  6  8 10]\n",
      "15\n"
     ]
    }
   ],
   "source": [
    "import numpy as np  # convention, np is the standard alias\n",
    "\n",
    "my_list = [1, 2, 3, 4, 5]\n",
    "my_array = np.array(my_list)\n",
    "\n",
    "print(my_array)\n",
    "print(my_array * 2)\n",
    "print(my_array.sum())"
   ],
   "metadata": {
    "collapsed": false,
    "ExecuteTime": {
     "end_time": "2023-10-31T17:18:07.114957080Z",
     "start_time": "2023-10-31T17:18:06.929361516Z"
    }
   },
   "id": "923c233f0aeaba8d"
  },
  {
   "cell_type": "markdown",
   "source": [
    "## Pandas\n",
    "\n",
    "Pandas is a Python library that provides additional data structures and data manipulation methods that make working with data easier.  The primary data structures in Pandas are **Series** and **DataFrames**.  A **Series** is a one-dimensional array of data where each element is labeled with an index.  A **DataFrame** is a tabular data structure comprised of rows and columns, similar to a spreadsheet, database table, or R's data.frame object.  Pandas is one of the most popular data science libraries for Python, and will be used heavily in this course.\n",
    "\n",
    "One of many convenient features of Pandas is that it can read in just about any tabular data - including CSVs, Excel spreadsheets, and SQL tables - and convert them to DataFrames.  In this example, we will load a CSV from a URL (yes, it can download files too!) and convert it to a DataFrame:"
   ],
   "metadata": {
    "collapsed": false
   },
   "id": "e4a9300bcbd87602"
  },
  {
   "cell_type": "code",
   "execution_count": 2,
   "outputs": [
    {
     "data": {
      "text/plain": "                                  Bank Name          City  ST   CERT  \\\n0  Banks of Wisconsin d/b/a Bank of Kenosha       Kenosha  WI  35386   \n1                      Central Arizona Bank    Scottsdale  AZ  34527   \n2                              Sunrise Bank      Valdosta  GA  58185   \n3                     Pisgah Community Bank     Asheville  NC  58701   \n4                       Douglas County Bank  Douglasville  GA  21649   \n\n   Acquiring Institution Closing Date Updated Date  \n0  North Shore Bank, FSB    31-May-13    31-May-13  \n1     Western State Bank    14-May-13    20-May-13  \n2           Synovus Bank    10-May-13    21-May-13  \n3     Capital Bank, N.A.    10-May-13    14-May-13  \n4    Hamilton State Bank    26-Apr-13    16-May-13  ",
      "text/html": "<div>\n<style scoped>\n    .dataframe tbody tr th:only-of-type {\n        vertical-align: middle;\n    }\n\n    .dataframe tbody tr th {\n        vertical-align: top;\n    }\n\n    .dataframe thead th {\n        text-align: right;\n    }\n</style>\n<table border=\"1\" class=\"dataframe\">\n  <thead>\n    <tr style=\"text-align: right;\">\n      <th></th>\n      <th>Bank Name</th>\n      <th>City</th>\n      <th>ST</th>\n      <th>CERT</th>\n      <th>Acquiring Institution</th>\n      <th>Closing Date</th>\n      <th>Updated Date</th>\n    </tr>\n  </thead>\n  <tbody>\n    <tr>\n      <th>0</th>\n      <td>Banks of Wisconsin d/b/a Bank of Kenosha</td>\n      <td>Kenosha</td>\n      <td>WI</td>\n      <td>35386</td>\n      <td>North Shore Bank, FSB</td>\n      <td>31-May-13</td>\n      <td>31-May-13</td>\n    </tr>\n    <tr>\n      <th>1</th>\n      <td>Central Arizona Bank</td>\n      <td>Scottsdale</td>\n      <td>AZ</td>\n      <td>34527</td>\n      <td>Western State Bank</td>\n      <td>14-May-13</td>\n      <td>20-May-13</td>\n    </tr>\n    <tr>\n      <th>2</th>\n      <td>Sunrise Bank</td>\n      <td>Valdosta</td>\n      <td>GA</td>\n      <td>58185</td>\n      <td>Synovus Bank</td>\n      <td>10-May-13</td>\n      <td>21-May-13</td>\n    </tr>\n    <tr>\n      <th>3</th>\n      <td>Pisgah Community Bank</td>\n      <td>Asheville</td>\n      <td>NC</td>\n      <td>58701</td>\n      <td>Capital Bank, N.A.</td>\n      <td>10-May-13</td>\n      <td>14-May-13</td>\n    </tr>\n    <tr>\n      <th>4</th>\n      <td>Douglas County Bank</td>\n      <td>Douglasville</td>\n      <td>GA</td>\n      <td>21649</td>\n      <td>Hamilton State Bank</td>\n      <td>26-Apr-13</td>\n      <td>16-May-13</td>\n    </tr>\n  </tbody>\n</table>\n</div>"
     },
     "execution_count": 2,
     "metadata": {},
     "output_type": "execute_result"
    }
   ],
   "source": [
    "import pandas as pd\n",
    "\n",
    "# Read in the CSV file\n",
    "df = pd.read_csv(\n",
    "    \"https://raw.githubusercontent.com/pandas-dev/pandas/main/pandas/tests/io/data/csv/banklist.csv\"\n",
    ")\n",
    "\n",
    "# Display the first 5 rows of the DataFrame\n",
    "df.head(5)"
   ],
   "metadata": {
    "collapsed": false,
    "ExecuteTime": {
     "end_time": "2023-10-31T17:18:07.341823581Z",
     "start_time": "2023-10-31T17:18:06.987719278Z"
    }
   },
   "id": "33117dbd678114a8"
  },
  {
   "cell_type": "markdown",
   "source": [
    "We can do a lot of convenient things with Pandas DataFrames, such as:\n",
    "\n",
    "- Group rows by their value in a particular column:"
   ],
   "metadata": {
    "collapsed": false
   },
   "id": "193ed310edb26f4d"
  },
  {
   "cell_type": "code",
   "execution_count": 3,
   "outputs": [
    {
     "name": "stdout",
     "output_type": "stream",
     "text": [
      "AL\n",
      "['Sylacauga' 'Birmingham' 'Birmingham' 'Fort Deposit' 'Irondale'\n",
      " 'Birmingham' 'Montgomery']\n",
      "\n",
      "AR\n",
      "['Batesville' 'Bentonville' 'Gravette']\n",
      "\n",
      "AZ\n",
      "['Scottsdale' 'Gold Canyon' 'Phoenix' 'Prescott' 'Scottsdale' 'Scottsdale'\n",
      " 'Scottsdale' 'Mesa' 'Phoenix' 'Mesa' 'Phoenix' 'Flagstaff' 'Phoenix'\n",
      " 'Gilbert' 'Phoenix']\n",
      "\n",
      "CA\n",
      "['Palm Desert' 'Nevada City' 'San Luis Obispo' 'Napa' 'Palm Springs'\n",
      " 'Westminster' 'Woodland Hills' 'Sonoma' 'Solvang' 'Chico' 'Stockton'\n",
      " 'Granite Bay' 'San Diego' 'San Rafael' 'Oakland' 'La Jolla' 'Los Angeles'\n",
      " 'Santa Monica' 'La Jolla' 'San Clemente' 'San Francisco' 'San Francisco'\n",
      " 'Los Angeles' 'San Diego' 'Bakersfield' 'Ventura' 'Temecula'\n",
      " 'Rancho Cucamonga' 'Los Angeles' 'Irvine' 'Calabasas' 'Merced'\n",
      " 'Culver City' 'Redlands' 'Pomona' 'Newport Beach' 'Los Angeles'\n",
      " 'Newport Beach' 'Pasadena' 'Torrance']\n",
      "\n",
      "CO\n",
      "['Greenwood Village' 'Greeley' 'Windsor' 'Castle Rock' 'Louisville'\n",
      " 'Denver' 'Pueblo' 'Greeley' 'Colorado Springs']\n",
      "\n",
      "CT\n",
      "['Stamford']\n",
      "\n",
      "FL\n",
      "['Marianna' 'Orange Park' 'Lutz' 'Tamarac' 'Destin' 'Naples' 'Palatka'\n",
      " 'North Lauderdale' 'Jacksonville' 'Belleview' 'Crestview' 'Clearwater'\n",
      " 'Milton' 'Palm Beach' 'Sarasota' 'Apollo Beach' 'Port St. Lucie' 'Tampa'\n",
      " 'Cocoa Beach' 'Brooksville' 'Winter Park' 'Port Orange' 'Orlando'\n",
      " 'Coral Gables' 'Carrabelle' 'Tampa' 'Jacksonville' 'Crawfordville'\n",
      " 'Ponte Vedra Beach' 'Bradenton' 'Ocala' 'Bartow' 'Panama City Beach'\n",
      " 'Port Saint Joe' 'Lantana' 'Clewiston' 'Aventura' 'Miami' 'Englewood'\n",
      " 'Tampa' 'Naples' 'Fort Lauderdale' 'Bonifay' 'Fort Pierce' 'Clermont'\n",
      " 'Palatka' 'Key West' 'Orlando' 'Boca Raton' 'Marco Island' 'Immokalee'\n",
      " 'Miami' 'Panama City' 'Miami' 'Fort Myers' 'Naples' 'Sarasota'\n",
      " 'Bradenton' 'Naples' 'Naples' 'Venice' 'Sarasota' 'Jupiter'\n",
      " 'Coral Gables' 'Cape Coral' 'Ocala' 'Bradenton' 'Bradenton' 'Tallahassee'\n",
      " 'Boca Raton' 'Miami']\n",
      "\n",
      "GA\n",
      "['Valdosta' 'Douglasville' 'LaGrange' 'Braselton' 'Jasper' 'Woodstock'\n",
      " 'Buford' 'Ailey' 'Marietta' 'Rock Spring' 'Doraville' 'Ellaville'\n",
      " 'Stockbridge' 'Rockmart' 'Jonesboro' 'Decatur' 'Gray' 'Woodstock'\n",
      " 'Cumming' 'Statesboro' 'Stockbridge' 'Atlanta' 'Clayton' 'Jackson'\n",
      " 'Franklin' 'Macon' 'Valdosta' 'Dallas' 'East Ellijay' 'Cartersville'\n",
      " 'Springfield' 'Clarkesville' 'Watkinsville' 'Roswell' 'McDonough'\n",
      " 'Brunswick' 'Atlanta' 'McCaysville' 'Dawsonville' 'Vidalia' 'Tifton'\n",
      " 'Barnesville' 'Gordon' 'Winder' 'Douglasville' 'Ellijay' 'Acworth'\n",
      " 'Jasper' 'Savannah' 'Saint Marys' 'Cartersville' 'Carrollton' 'Hiawassee'\n",
      " 'Ellijay' 'Duluth' 'Cornelia' 'Carrollton' 'Atlanta' 'Reidsville'\n",
      " 'Norcross' 'Atlanta' 'Sparta' 'Lawrenceville' 'Atlanta' 'Newnan'\n",
      " 'Atlanta' 'Gray' 'Perry' 'Macon' 'Woodstock' 'Alpharetta' 'Suwanee'\n",
      " 'Winder' 'Newnan' 'Villa Rica' 'Fayetteville' 'Atlanta' 'Kennesaw'\n",
      " 'Atlanta' 'Stockbridge' 'Commerce' 'McDonough' 'Duluth' 'Jackson'\n",
      " 'Loganville' 'Alpharetta' 'Alpharetta' 'Alpharetta' 'Atlanta']\n",
      "\n",
      "HI\n",
      "['Honolulu']\n",
      "\n",
      "IA\n",
      "['Johnston']\n",
      "\n",
      "ID\n",
      "['Ketchum']\n",
      "\n",
      "IL\n",
      "['Chicago' 'Princeton' 'Crete' 'Waukegan' 'Chicago' 'Shabbona' 'Wilmette'\n",
      " 'Chicago' 'Hoffman Estates' 'Des Plaines' 'Aledo' 'Geneva' 'Shorewood'\n",
      " 'Chicago' 'Western Springs' 'Wood Dale' 'St. Charles' 'Chicago' 'Maywood'\n",
      " 'Chicago' 'Palos Heights' 'Chicago' 'Arcola' 'Elmwood Park' 'Naperville'\n",
      " 'Peotone' 'Chicago' 'Chicago' 'Chicago' 'Chicago' 'Rockford' 'Normal'\n",
      " 'Orland Park' 'Antioch' 'Springfield' 'Aurora' 'Chicago' 'Lemont'\n",
      " 'Westmont' 'Chicago' 'Rolling Meadows' 'Oak Forest' 'Harvey' 'Worth'\n",
      " 'Danville' 'Elizabeth' 'Oregon' 'Winchester' 'Clinton' 'Lincolnwood'\n",
      " 'Macomb' 'Champaign' 'Glenwood' 'Pittsfield' 'Berkeley' 'Eldred'\n",
      " 'Chicago' 'Hinsdale' 'Metropolis']\n",
      "\n",
      "IN\n",
      "['Shelbyville' 'Evansville' 'Columbus' 'Sioux City']\n",
      "\n",
      "KS\n",
      "['Leawood' 'Olathe' 'Overland Park' 'Olathe' 'Sylvan Grove'\n",
      " 'Overland Park' 'Anthony' 'Paola' 'Topeka']\n",
      "\n",
      "KY\n",
      "['Lexington' 'Louisville']\n",
      "\n",
      "LA\n",
      "['Lacombe' 'Covington' 'Cheneyville']\n",
      "\n",
      "MA\n",
      "['Lowell']\n",
      "\n",
      "MD\n",
      "['Gaithersburg' 'Cambridge' 'Randallstown' 'Baltimore' 'Baltimore'\n",
      " 'Germantown' 'Baltimore' 'Crofton']\n",
      "\n",
      "MI\n",
      "['Dearborn' 'Mount Clemens' 'Hamtramck' 'Farmington Hills' 'Hastings'\n",
      " 'Plymouth' 'Port Huron' 'Sterling Heights' 'New Baltimore' 'Detroit'\n",
      " 'Warren' 'Farmington Hills' 'Northville' 'Shelby Township']\n",
      "\n",
      "MN\n",
      "['Andover' 'Bloomington' 'Maple Grove' 'Little Falls' 'Forest Lake'\n",
      " 'Wyoming' 'Rosemount' 'Lino Lakes' 'New Prague' 'Saint Paul' 'Champlin'\n",
      " 'Aurora' 'Hancock' 'Hallock' 'St. Stephen' 'Oakdale' 'Otsego'\n",
      " 'Spring Grove' 'Woodbury' 'Forest Lake' 'Pine City' 'Staples']\n",
      "\n",
      "MO\n",
      "['Sunrise Beach' 'Sedalia' 'St. Louis' 'Glasgow' 'Ellington'\n",
      " 'Jefferson City' 'Chesterfield' 'Springfield' 'Butler' 'Creve Coeur'\n",
      " 'Leeton' 'St. Louis' 'Kansas City' 'Sugar Creek' 'Hume' 'Kansas City']\n",
      "\n",
      "MS\n",
      "['Carthage' 'Rosedale']\n",
      "\n",
      "NC\n",
      "['Asheville' 'Lenoir' 'Whiteville' 'Asheville' 'Asheville' 'Wilmington'\n",
      " 'Wilmington']\n",
      "\n",
      "NE\n",
      "['Omaha' 'Lincoln' 'Loup City']\n",
      "\n",
      "NH\n",
      "['Manchester']\n",
      "\n",
      "NJ\n",
      "['Fort Lee' 'Cranford' 'Cherry Hill' 'Elizabeth' 'Ridgewood' 'Newark']\n",
      "\n",
      "NM\n",
      "['Taos' 'Albuquerque' 'Santa Fe']\n",
      "\n",
      "NV\n",
      "['Las Vegas' 'Las Vegas' 'Reno' 'Las Vegas' 'Carson City' 'Las Vegas'\n",
      " 'Elko' 'Henderson' 'Henderson' 'Henderson' 'Reno']\n",
      "\n",
      "NY\n",
      "['Port Chester' 'New York' 'New York' 'Williamsville' 'White Plains']\n",
      "\n",
      "OH\n",
      "['Milford' 'Parma' 'Cleveland' 'West Chester' 'Lakeview' 'Oakwood' 'Malta']\n",
      "\n",
      "OK\n",
      "['Kingfisher' 'Davis' 'Camargo' 'Blackwell' 'Altus']\n",
      "\n",
      "OR\n",
      "['Eugene' 'Cave Junction' 'The Dalles' 'Prineville' 'Silverton'\n",
      " 'Beaverton']\n",
      "\n",
      "PA\n",
      "['Berwyn' 'Boothwyn' 'Huntingdon Valley' 'Southampton' 'Bala Cynwyd'\n",
      " 'Pittsburgh' 'Pittsburgh' 'Philadelphia']\n",
      "\n",
      "PR\n",
      "['Mayaguez' 'Hato Rey' 'San Juan']\n",
      "\n",
      "SC\n",
      "['Charleston' 'Pawleys Island' 'Columbia' 'Charleston' 'Easley'\n",
      " 'Kingstree' 'Spartanburg' 'Bluffton' 'Myrtle Beach']\n",
      "\n",
      "SD\n",
      "['Sioux Falls']\n",
      "\n",
      "TN\n",
      "['Lynchburg' 'Knoxville' 'Franklin' 'Alamo']\n",
      "\n",
      "TX\n",
      "['Plano' 'La Coste' 'Houston' 'Madisonville' 'Teague' 'Austin' 'Dallas'\n",
      " 'Sanderson' 'Houston' 'Sierra Blanca']\n",
      "\n",
      "UT\n",
      "['Saint George' 'Draper' 'Ogden' 'Kaysville' 'Layton' 'Salt Lake City'\n",
      " 'Ephraim']\n",
      "\n",
      "VA\n",
      "['Norfolk' 'Richmond' 'Martinsville' 'Reston']\n",
      "\n",
      "WA\n",
      "['University Place' 'Colfax' 'Snohomish' 'Burlington' 'Tacoma' 'Shoreline'\n",
      " 'Arlington' 'Longview' 'Seattle' 'Everett' 'Lynnwood' 'Tacoma'\n",
      " 'Bainbridge Island' 'Seattle' 'Bellingham' 'Lacey' 'Bremerton'\n",
      " 'Vancouver']\n",
      "\n",
      "WI\n",
      "['Kenosha' 'Milwaukee' 'Cassville' 'Stoughton' 'Burlington' 'West Allis'\n",
      " 'Racine' 'Blanchardville']\n",
      "\n",
      "WV\n",
      "['Northfork']\n",
      "\n",
      "WY\n",
      "['Thermopolis']\n"
     ]
    }
   ],
   "source": [
    "# Get a list of cities (in the City column), grouped by state (in the ST column)\n",
    "for state, cities in df.groupby(\"ST\")[\"City\"]:\n",
    "    print(state)\n",
    "    print(cities.values)\n",
    "    print()"
   ],
   "metadata": {
    "collapsed": false,
    "ExecuteTime": {
     "end_time": "2023-10-31T17:18:07.344167753Z",
     "start_time": "2023-10-31T17:18:07.283296813Z"
    }
   },
   "id": "e30df1dbcc9e45df"
  },
  {
   "cell_type": "markdown",
   "source": [
    "- Filter rows based on a condition (or multiple conditions):"
   ],
   "metadata": {
    "collapsed": false
   },
   "id": "b3b585a58a3c6682"
  },
  {
   "cell_type": "code",
   "execution_count": 4,
   "outputs": [
    {
     "data": {
      "text/plain": "                    Bank Name           City  ST   CERT Acquiring Institution  \\\n343     Pacific National Bank  San Francisco  CA  30006        U.S. Bank N.A.   \n344  California National Bank    Los Angeles  CA  34659        U.S. Bank N.A.   \n345   San Diego National Bank      San Diego  CA  23594        U.S. Bank N.A.   \n\n    Closing Date Updated Date  \n343    30-Oct-09    22-Aug-12  \n344    30-Oct-09     5-Sep-12  \n345    30-Oct-09    22-Aug-12  ",
      "text/html": "<div>\n<style scoped>\n    .dataframe tbody tr th:only-of-type {\n        vertical-align: middle;\n    }\n\n    .dataframe tbody tr th {\n        vertical-align: top;\n    }\n\n    .dataframe thead th {\n        text-align: right;\n    }\n</style>\n<table border=\"1\" class=\"dataframe\">\n  <thead>\n    <tr style=\"text-align: right;\">\n      <th></th>\n      <th>Bank Name</th>\n      <th>City</th>\n      <th>ST</th>\n      <th>CERT</th>\n      <th>Acquiring Institution</th>\n      <th>Closing Date</th>\n      <th>Updated Date</th>\n    </tr>\n  </thead>\n  <tbody>\n    <tr>\n      <th>343</th>\n      <td>Pacific National Bank</td>\n      <td>San Francisco</td>\n      <td>CA</td>\n      <td>30006</td>\n      <td>U.S. Bank N.A.</td>\n      <td>30-Oct-09</td>\n      <td>22-Aug-12</td>\n    </tr>\n    <tr>\n      <th>344</th>\n      <td>California National Bank</td>\n      <td>Los Angeles</td>\n      <td>CA</td>\n      <td>34659</td>\n      <td>U.S. Bank N.A.</td>\n      <td>30-Oct-09</td>\n      <td>5-Sep-12</td>\n    </tr>\n    <tr>\n      <th>345</th>\n      <td>San Diego National Bank</td>\n      <td>San Diego</td>\n      <td>CA</td>\n      <td>23594</td>\n      <td>U.S. Bank N.A.</td>\n      <td>30-Oct-09</td>\n      <td>22-Aug-12</td>\n    </tr>\n  </tbody>\n</table>\n</div>"
     },
     "execution_count": 4,
     "metadata": {},
     "output_type": "execute_result"
    }
   ],
   "source": [
    "# Get a list of all banks in California that were acquired by U.S. Bank N.A.\n",
    "df[(df[\"ST\"] == \"CA\") & (df[\"Acquiring Institution\"] == \"U.S. Bank N.A.\")]"
   ],
   "metadata": {
    "collapsed": false,
    "ExecuteTime": {
     "end_time": "2023-10-31T17:18:07.345711286Z",
     "start_time": "2023-10-31T17:18:07.283511300Z"
    }
   },
   "id": "36139cb459dd7a28"
  },
  {
   "cell_type": "markdown",
   "source": [
    "And lastly for now,\n",
    "- Sort rows by the values in one or more columns:"
   ],
   "metadata": {
    "collapsed": false
   },
   "id": "cdc23d2f17aa59fb"
  },
  {
   "cell_type": "code",
   "execution_count": 5,
   "outputs": [
    {
     "data": {
      "text/plain": "                       Bank Name          City  ST   CERT  \\\n76               Old Harbor Bank    Clearwater  FL  57537   \n162       The Bank of Miami,N.A.  Coral Gables  FL  19040   \n323  Republic Federal Bank, N.A.         Miami  FL  22846   \n131         The Bank of Commerce     Wood Dale  IL  34292   \n399                    BankFirst   Sioux Falls  SD  34103   \n..                           ...           ...  ..    ...   \n187            North County Bank     Arlington  WA  35053   \n264                    City Bank      Lynnwood  WA  21521   \n409                   Mirae Bank   Los Angeles  CA  57332   \n98        Virginia Business Bank      Richmond  VA  58283   \n8             First Federal Bank     Lexington  KY  29594   \n\n             Acquiring Institution Closing Date Updated Date  \n76                 1st United Bank    21-Oct-11     8-Nov-12  \n162                1st United Bank    17-Dec-10     2-Nov-12  \n323                1st United Bank    11-Dec-09     5-Nov-12  \n131  Advantage National Bank Group    25-Mar-11    22-Jan-13  \n399         Alerus Financial, N.A.    17-Jul-09    20-Aug-12  \n..                             ...          ...          ...  \n187            Whidbey Island Bank    24-Sep-10    20-Aug-12  \n264            Whidbey Island Bank    16-Apr-10    14-Sep-12  \n409            Wilshire State Bank    26-Jun-09    20-Aug-12  \n98                     Xenith Bank    29-Jul-11     9-Oct-12  \n8              Your Community Bank    19-Apr-13    23-Apr-13  \n\n[506 rows x 7 columns]",
      "text/html": "<div>\n<style scoped>\n    .dataframe tbody tr th:only-of-type {\n        vertical-align: middle;\n    }\n\n    .dataframe tbody tr th {\n        vertical-align: top;\n    }\n\n    .dataframe thead th {\n        text-align: right;\n    }\n</style>\n<table border=\"1\" class=\"dataframe\">\n  <thead>\n    <tr style=\"text-align: right;\">\n      <th></th>\n      <th>Bank Name</th>\n      <th>City</th>\n      <th>ST</th>\n      <th>CERT</th>\n      <th>Acquiring Institution</th>\n      <th>Closing Date</th>\n      <th>Updated Date</th>\n    </tr>\n  </thead>\n  <tbody>\n    <tr>\n      <th>76</th>\n      <td>Old Harbor Bank</td>\n      <td>Clearwater</td>\n      <td>FL</td>\n      <td>57537</td>\n      <td>1st United Bank</td>\n      <td>21-Oct-11</td>\n      <td>8-Nov-12</td>\n    </tr>\n    <tr>\n      <th>162</th>\n      <td>The Bank of Miami,N.A.</td>\n      <td>Coral Gables</td>\n      <td>FL</td>\n      <td>19040</td>\n      <td>1st United Bank</td>\n      <td>17-Dec-10</td>\n      <td>2-Nov-12</td>\n    </tr>\n    <tr>\n      <th>323</th>\n      <td>Republic Federal Bank, N.A.</td>\n      <td>Miami</td>\n      <td>FL</td>\n      <td>22846</td>\n      <td>1st United Bank</td>\n      <td>11-Dec-09</td>\n      <td>5-Nov-12</td>\n    </tr>\n    <tr>\n      <th>131</th>\n      <td>The Bank of Commerce</td>\n      <td>Wood Dale</td>\n      <td>IL</td>\n      <td>34292</td>\n      <td>Advantage National Bank Group</td>\n      <td>25-Mar-11</td>\n      <td>22-Jan-13</td>\n    </tr>\n    <tr>\n      <th>399</th>\n      <td>BankFirst</td>\n      <td>Sioux Falls</td>\n      <td>SD</td>\n      <td>34103</td>\n      <td>Alerus Financial, N.A.</td>\n      <td>17-Jul-09</td>\n      <td>20-Aug-12</td>\n    </tr>\n    <tr>\n      <th>...</th>\n      <td>...</td>\n      <td>...</td>\n      <td>...</td>\n      <td>...</td>\n      <td>...</td>\n      <td>...</td>\n      <td>...</td>\n    </tr>\n    <tr>\n      <th>187</th>\n      <td>North County Bank</td>\n      <td>Arlington</td>\n      <td>WA</td>\n      <td>35053</td>\n      <td>Whidbey Island Bank</td>\n      <td>24-Sep-10</td>\n      <td>20-Aug-12</td>\n    </tr>\n    <tr>\n      <th>264</th>\n      <td>City Bank</td>\n      <td>Lynnwood</td>\n      <td>WA</td>\n      <td>21521</td>\n      <td>Whidbey Island Bank</td>\n      <td>16-Apr-10</td>\n      <td>14-Sep-12</td>\n    </tr>\n    <tr>\n      <th>409</th>\n      <td>Mirae Bank</td>\n      <td>Los Angeles</td>\n      <td>CA</td>\n      <td>57332</td>\n      <td>Wilshire State Bank</td>\n      <td>26-Jun-09</td>\n      <td>20-Aug-12</td>\n    </tr>\n    <tr>\n      <th>98</th>\n      <td>Virginia Business Bank</td>\n      <td>Richmond</td>\n      <td>VA</td>\n      <td>58283</td>\n      <td>Xenith Bank</td>\n      <td>29-Jul-11</td>\n      <td>9-Oct-12</td>\n    </tr>\n    <tr>\n      <th>8</th>\n      <td>First Federal Bank</td>\n      <td>Lexington</td>\n      <td>KY</td>\n      <td>29594</td>\n      <td>Your Community Bank</td>\n      <td>19-Apr-13</td>\n      <td>23-Apr-13</td>\n    </tr>\n  </tbody>\n</table>\n<p>506 rows × 7 columns</p>\n</div>"
     },
     "execution_count": 5,
     "metadata": {},
     "output_type": "execute_result"
    }
   ],
   "source": [
    "# Sort the DataFrame by the Acquiring Institution column\n",
    "df.sort_values(\"Acquiring Institution\", ascending=True)"
   ],
   "metadata": {
    "collapsed": false,
    "ExecuteTime": {
     "end_time": "2023-10-31T17:18:07.379380029Z",
     "start_time": "2023-10-31T17:18:07.321658527Z"
    }
   },
   "id": "c3e7d059b071dd36"
  },
  {
   "cell_type": "markdown",
   "source": [
    "## Data Cleaning\n",
    "\n",
    "Often when we're working with data, we'll find that it's not in the format we need it to be in.  For example, we might find that some of the values are missing, or that some of the values are in the wrong format.  In this section, we'll learn how to deal with some of these common issues.\n",
    "\n",
    "### Missing Values\n",
    "\n",
    "Missing values are values that are absent from the dataset.  Missing values are common in real-world datasets for a variety of reasons, such as data not being collected properly or data being lost.  Missing values are represented in Pandas by either `NaN` or `None`.  Let's take a look at how we can deal with missing values in Pandas."
   ],
   "metadata": {
    "collapsed": false
   },
   "id": "7721360e5b0c4b4f"
  },
  {
   "cell_type": "code",
   "execution_count": 6,
   "outputs": [
    {
     "data": {
      "text/plain": "   PassengerId  Survived  Pclass  \\\n0            1         0       3   \n1            2         1       1   \n2            3         1       3   \n3            4         1       1   \n4            5         0       3   \n\n                                                Name     Sex   Age  SibSp  \\\n0                            Braund, Mr. Owen Harris    male  22.0      1   \n1  Cumings, Mrs. John Bradley (Florence Briggs Th...  female  38.0      1   \n2                             Heikkinen, Miss. Laina  female  26.0      0   \n3       Futrelle, Mrs. Jacques Heath (Lily May Peel)  female  35.0      1   \n4                           Allen, Mr. William Henry    male  35.0      0   \n\n   Parch            Ticket     Fare Cabin Embarked  \n0      0         A/5 21171   7.2500   NaN        S  \n1      0          PC 17599  71.2833   C85        C  \n2      0  STON/O2. 3101282   7.9250   NaN        S  \n3      0            113803  53.1000  C123        S  \n4      0            373450   8.0500   NaN        S  ",
      "text/html": "<div>\n<style scoped>\n    .dataframe tbody tr th:only-of-type {\n        vertical-align: middle;\n    }\n\n    .dataframe tbody tr th {\n        vertical-align: top;\n    }\n\n    .dataframe thead th {\n        text-align: right;\n    }\n</style>\n<table border=\"1\" class=\"dataframe\">\n  <thead>\n    <tr style=\"text-align: right;\">\n      <th></th>\n      <th>PassengerId</th>\n      <th>Survived</th>\n      <th>Pclass</th>\n      <th>Name</th>\n      <th>Sex</th>\n      <th>Age</th>\n      <th>SibSp</th>\n      <th>Parch</th>\n      <th>Ticket</th>\n      <th>Fare</th>\n      <th>Cabin</th>\n      <th>Embarked</th>\n    </tr>\n  </thead>\n  <tbody>\n    <tr>\n      <th>0</th>\n      <td>1</td>\n      <td>0</td>\n      <td>3</td>\n      <td>Braund, Mr. Owen Harris</td>\n      <td>male</td>\n      <td>22.0</td>\n      <td>1</td>\n      <td>0</td>\n      <td>A/5 21171</td>\n      <td>7.2500</td>\n      <td>NaN</td>\n      <td>S</td>\n    </tr>\n    <tr>\n      <th>1</th>\n      <td>2</td>\n      <td>1</td>\n      <td>1</td>\n      <td>Cumings, Mrs. John Bradley (Florence Briggs Th...</td>\n      <td>female</td>\n      <td>38.0</td>\n      <td>1</td>\n      <td>0</td>\n      <td>PC 17599</td>\n      <td>71.2833</td>\n      <td>C85</td>\n      <td>C</td>\n    </tr>\n    <tr>\n      <th>2</th>\n      <td>3</td>\n      <td>1</td>\n      <td>3</td>\n      <td>Heikkinen, Miss. Laina</td>\n      <td>female</td>\n      <td>26.0</td>\n      <td>0</td>\n      <td>0</td>\n      <td>STON/O2. 3101282</td>\n      <td>7.9250</td>\n      <td>NaN</td>\n      <td>S</td>\n    </tr>\n    <tr>\n      <th>3</th>\n      <td>4</td>\n      <td>1</td>\n      <td>1</td>\n      <td>Futrelle, Mrs. Jacques Heath (Lily May Peel)</td>\n      <td>female</td>\n      <td>35.0</td>\n      <td>1</td>\n      <td>0</td>\n      <td>113803</td>\n      <td>53.1000</td>\n      <td>C123</td>\n      <td>S</td>\n    </tr>\n    <tr>\n      <th>4</th>\n      <td>5</td>\n      <td>0</td>\n      <td>3</td>\n      <td>Allen, Mr. William Henry</td>\n      <td>male</td>\n      <td>35.0</td>\n      <td>0</td>\n      <td>0</td>\n      <td>373450</td>\n      <td>8.0500</td>\n      <td>NaN</td>\n      <td>S</td>\n    </tr>\n  </tbody>\n</table>\n</div>"
     },
     "execution_count": 6,
     "metadata": {},
     "output_type": "execute_result"
    }
   ],
   "source": [
    "# Load the Titanic dataset\n",
    "df = pd.read_csv(\n",
    "    \"https://raw.githubusercontent.com/datasciencedojo/datasets/master/titanic.csv\"\n",
    ")\n",
    "\n",
    "# Display the first 5 rows of the DataFrame\n",
    "df.head(5)"
   ],
   "metadata": {
    "collapsed": false,
    "ExecuteTime": {
     "end_time": "2023-10-31T17:18:07.656999070Z",
     "start_time": "2023-10-31T17:18:07.355441059Z"
    }
   },
   "id": "9b0207a2f2638842"
  },
  {
   "cell_type": "markdown",
   "source": [
    "This is a famous dataset containing information about the passengers of the Titanic.  We'll come back to it a few times in this course.  For now, let's take a look at the `Age` column.  We can see that some of the values are missing, and are represented by `NaN`.  Let's count how many values are missing:"
   ],
   "metadata": {
    "collapsed": false
   },
   "id": "d57e4e9a1d832770"
  },
  {
   "cell_type": "code",
   "execution_count": 7,
   "outputs": [
    {
     "name": "stdout",
     "output_type": "stream",
     "text": [
      "There are 177 missing values in the Age column out of 891 total rows.\n"
     ]
    }
   ],
   "source": [
    "# Display the number of missing values in the Age column\n",
    "missing_count = df[\"Age\"].isna().sum()\n",
    "print(\n",
    "    f\"There are {missing_count} missing values in the Age column out of {len(df)} total rows.\"\n",
    ")"
   ],
   "metadata": {
    "collapsed": false,
    "ExecuteTime": {
     "end_time": "2023-10-31T17:18:07.659840720Z",
     "start_time": "2023-10-31T17:18:07.656815619Z"
    }
   },
   "id": "2a4fa6d1f6972d89"
  },
  {
   "cell_type": "markdown",
   "source": [
    "We can see that there are 177 missing values in the `Age` column.  Later on, we'll learn how to deal with missing values, but for now, let's move on to another common data cleaning task: converting data to the right format.\n",
    "\n",
    "### Data Types\n",
    "\n",
    "Data types are a way of telling the computer how to interpret the data in a column.  For example, the `Age` column in the Titanic dataset is represented as floating-point numbers (i.e. numbers with decimal points).  This makes sense, since a person's age can be represented as a decimal (e.g. 27.5 years old).  However, the `Survived` column is represented as integers (i.e. whole numbers).  This also makes sense, since a person can either survive (1) or not survive (0).  Let's take a look at the data types of each column:\n"
   ],
   "metadata": {
    "collapsed": false
   },
   "id": "eb9f8949737e62d5"
  },
  {
   "cell_type": "code",
   "execution_count": 8,
   "outputs": [
    {
     "data": {
      "text/plain": "PassengerId      int64\nSurvived         int64\nPclass           int64\nName            object\nSex             object\nAge            float64\nSibSp            int64\nParch            int64\nTicket          object\nFare           float64\nCabin           object\nEmbarked        object\ndtype: object"
     },
     "execution_count": 8,
     "metadata": {},
     "output_type": "execute_result"
    }
   ],
   "source": [
    "df.dtypes"
   ],
   "metadata": {
    "collapsed": false,
    "ExecuteTime": {
     "end_time": "2023-10-31T17:18:07.756719659Z",
     "start_time": "2023-10-31T17:18:07.660203772Z"
    }
   },
   "id": "7f4099a021b76d1d"
  },
  {
   "cell_type": "markdown",
   "source": [
    "You may notice that a few of the columns are represented as `object`.  This is Pandas's way of saying that it doesn't know what data type to use.  In this case, it's because the values in those columns are strings, and Pandas doesn't know how to convert them to a numeric data type.  Let's take a look at the `Sex` column:"
   ],
   "metadata": {
    "collapsed": false
   },
   "id": "28f2edee4845a3b9"
  },
  {
   "cell_type": "code",
   "execution_count": 9,
   "outputs": [
    {
     "data": {
      "text/plain": "0        male\n1      female\n2      female\n3      female\n4        male\n        ...  \n886      male\n887    female\n888    female\n889      male\n890      male\nName: Sex, Length: 891, dtype: object"
     },
     "execution_count": 9,
     "metadata": {},
     "output_type": "execute_result"
    }
   ],
   "source": [
    "df[\"Sex\"]"
   ],
   "metadata": {
    "collapsed": false,
    "ExecuteTime": {
     "end_time": "2023-10-31T17:18:07.760255079Z",
     "start_time": "2023-10-31T17:18:07.703651859Z"
    }
   },
   "id": "2a1ddedb2af88d04"
  },
  {
   "cell_type": "markdown",
   "source": [
    "While it might make sense for this column to contain `male` and `female` when a person is looking at it, when we're doing data science it's much easier for this column to contain a number. There are a few ways to do this, and we will look at some of the others later. For now, let's create a new column called `is_female` which has a value of `True` when the passenger is a female, and `False` otherwise:"
   ],
   "metadata": {
    "collapsed": false
   },
   "id": "d0ff71ed5d5ca18b"
  },
  {
   "cell_type": "code",
   "execution_count": 10,
   "outputs": [
    {
     "data": {
      "text/plain": "   PassengerId  Survived  Pclass  \\\n0            1         0       3   \n1            2         1       1   \n2            3         1       3   \n3            4         1       1   \n4            5         0       3   \n\n                                                Name     Sex   Age  SibSp  \\\n0                            Braund, Mr. Owen Harris    male  22.0      1   \n1  Cumings, Mrs. John Bradley (Florence Briggs Th...  female  38.0      1   \n2                             Heikkinen, Miss. Laina  female  26.0      0   \n3       Futrelle, Mrs. Jacques Heath (Lily May Peel)  female  35.0      1   \n4                           Allen, Mr. William Henry    male  35.0      0   \n\n   Parch            Ticket     Fare Cabin Embarked  is_female  \n0      0         A/5 21171   7.2500   NaN        S      False  \n1      0          PC 17599  71.2833   C85        C       True  \n2      0  STON/O2. 3101282   7.9250   NaN        S       True  \n3      0            113803  53.1000  C123        S       True  \n4      0            373450   8.0500   NaN        S      False  ",
      "text/html": "<div>\n<style scoped>\n    .dataframe tbody tr th:only-of-type {\n        vertical-align: middle;\n    }\n\n    .dataframe tbody tr th {\n        vertical-align: top;\n    }\n\n    .dataframe thead th {\n        text-align: right;\n    }\n</style>\n<table border=\"1\" class=\"dataframe\">\n  <thead>\n    <tr style=\"text-align: right;\">\n      <th></th>\n      <th>PassengerId</th>\n      <th>Survived</th>\n      <th>Pclass</th>\n      <th>Name</th>\n      <th>Sex</th>\n      <th>Age</th>\n      <th>SibSp</th>\n      <th>Parch</th>\n      <th>Ticket</th>\n      <th>Fare</th>\n      <th>Cabin</th>\n      <th>Embarked</th>\n      <th>is_female</th>\n    </tr>\n  </thead>\n  <tbody>\n    <tr>\n      <th>0</th>\n      <td>1</td>\n      <td>0</td>\n      <td>3</td>\n      <td>Braund, Mr. Owen Harris</td>\n      <td>male</td>\n      <td>22.0</td>\n      <td>1</td>\n      <td>0</td>\n      <td>A/5 21171</td>\n      <td>7.2500</td>\n      <td>NaN</td>\n      <td>S</td>\n      <td>False</td>\n    </tr>\n    <tr>\n      <th>1</th>\n      <td>2</td>\n      <td>1</td>\n      <td>1</td>\n      <td>Cumings, Mrs. John Bradley (Florence Briggs Th...</td>\n      <td>female</td>\n      <td>38.0</td>\n      <td>1</td>\n      <td>0</td>\n      <td>PC 17599</td>\n      <td>71.2833</td>\n      <td>C85</td>\n      <td>C</td>\n      <td>True</td>\n    </tr>\n    <tr>\n      <th>2</th>\n      <td>3</td>\n      <td>1</td>\n      <td>3</td>\n      <td>Heikkinen, Miss. Laina</td>\n      <td>female</td>\n      <td>26.0</td>\n      <td>0</td>\n      <td>0</td>\n      <td>STON/O2. 3101282</td>\n      <td>7.9250</td>\n      <td>NaN</td>\n      <td>S</td>\n      <td>True</td>\n    </tr>\n    <tr>\n      <th>3</th>\n      <td>4</td>\n      <td>1</td>\n      <td>1</td>\n      <td>Futrelle, Mrs. Jacques Heath (Lily May Peel)</td>\n      <td>female</td>\n      <td>35.0</td>\n      <td>1</td>\n      <td>0</td>\n      <td>113803</td>\n      <td>53.1000</td>\n      <td>C123</td>\n      <td>S</td>\n      <td>True</td>\n    </tr>\n    <tr>\n      <th>4</th>\n      <td>5</td>\n      <td>0</td>\n      <td>3</td>\n      <td>Allen, Mr. William Henry</td>\n      <td>male</td>\n      <td>35.0</td>\n      <td>0</td>\n      <td>0</td>\n      <td>373450</td>\n      <td>8.0500</td>\n      <td>NaN</td>\n      <td>S</td>\n      <td>False</td>\n    </tr>\n  </tbody>\n</table>\n</div>"
     },
     "execution_count": 10,
     "metadata": {},
     "output_type": "execute_result"
    }
   ],
   "source": [
    "df[\"is_female\"] = df[\"Sex\"] == \"female\"\n",
    "df.head(5)"
   ],
   "metadata": {
    "collapsed": false,
    "ExecuteTime": {
     "end_time": "2023-10-31T17:18:07.794330895Z",
     "start_time": "2023-10-31T17:18:07.704092411Z"
    }
   },
   "id": "b8b1df04d69f426c"
  },
  {
   "cell_type": "markdown",
   "source": [
    "If you look at the last column, you'll see that we have added our new column that only contains `True` or `False`. Why does this benefit us? For one thing, it allows us to easily do mathematical operations directly on the data. Let's say we want to count how many women were on the ship. If we try to take the sum of the `Sex` column, we get the following:"
   ],
   "metadata": {
    "collapsed": false
   },
   "id": "594a808684dc70b9"
  },
  {
   "cell_type": "code",
   "execution_count": 11,
   "outputs": [
    {
     "data": {
      "text/plain": "'malefemalefemalefemalemalemalemalemalefemalefemalefemalefemalemalemalefemalefemalemalemalefemalefemalemalemalefemalemalefemalefemalemalemalefemalemalemalefemalefemalemalemalemalemalemalefemalefemalefemalefemalemalefemalefemalemalemalefemalemalefemalemalemalefemalefemalemalemalefemalemalefemalemalemalefemalemalemalemalemalefemalemalefemalemalemalefemalemalemalemalemalemalemalemalefemalemalemalefemalemalefemalefemalemalemalefemalemalemalemalemalemalemalemalemalemalefemalemalefemalemalemalemalemalemalefemalemalemalefemalemalefemalemalefemalefemalemalemalemalemalefemalemalemalemalefemalemalemalemalemalefemalemalemalemalefemalefemalemalemalefemalemalemalemalefemalefemalefemalemalemalemalemalefemalemalemalemalefemalemalemalemalemalefemalemalemalemalemalefemalemalemalemalemalefemalefemalemalemalemalemalefemalemalemalemalemalefemalemalemalefemalemalemalemalefemalemalefemalemalemalemalefemalemalefemalemalefemalefemalemalemalefemalefemalemalemalemalemalemalefemalemalemalefemalemalemalefemalemalemalemalefemalefemalemalefemalemalemalemalemalemalemalemalemalemalemalefemalefemalemalemalefemalemalefemalemalefemalemalemalefemalefemalemalemalemalemalefemalefemalemalemalemalefemalemalemalefemalefemalefemalefemalefemalefemalemalemalemalemalefemalemalemalemalefemalefemalemalemalefemalemalefemalefemalefemalemalemalefemalemalemalemalemalemalemalemalemalemalefemalefemalefemalemalefemalemalemalemalefemalemalefemalefemalemalemalefemalemalemalefemalefemalemalefemalefemalefemalefemalemalemalefemalefemalemalefemalefemalemalemalefemalefemalemalefemalemalefemalefemalefemalefemalemalemalemalefemalemalemalefemalemalemalemalefemalemalemalemalefemalefemalefemalemalemalemalemalemalemalemalemalefemalefemalefemalefemalemalemalefemalemalemalemalefemalefemalefemalefemalemalemalemalemalefemalefemalefemalemalemalemalefemalefemalemalefemalemalemalemalefemalemalefemalemalemalemalefemalefemalemalefemalemalemalefemalemalemalefemalemalefemalemalemalemalemalefemalemalemalefemalemalemalefemalefemalefemalemalefemalemalemalemalefemalemalemalefemalefemalemalemalemalefemalefemalemalemalefemalefemalefemalemalemalefemalemalemalefemalemalemalefemalemalefemalemalemalemalemalemalemalemalemalefemalefemalemalemalemalemalemalemalemalemalemalemalefemalemalemalefemalefemalefemalemalemalemalemalefemalemalemalemalefemalemalefemalefemalemalemalemalemalemalemalemalemalemalefemalemalefemalemalemalefemalefemalefemalefemalemalefemalemalemalemalemalemalemalefemalemalemalefemalemalefemalemalefemalemalemalefemalemalemalefemalemalemalemalefemalemalemalefemalefemalefemalemalefemalemalefemalefemalefemalefemalemalemalemalefemalemalemalemalemalemalemalemalefemalemalefemalemalefemalefemalemalemalemalemalefemalemalemalefemalemalemalemalefemalemalefemalemalemalefemalefemalefemalemalefemalefemalemalemalemalefemalemalemalemalemalemalefemalemalefemalemalemalefemalemalemalemalefemalemalemalemalemalemalemalemalefemalefemalefemalemalefemalemalemalefemalemalefemalefemalemalemalemalemalemalemalemalemalefemalemalemalemalemalemalemalefemalefemalemalemalefemalemalemalefemalefemalemalefemalemalemalemalemalefemalemalefemalemalefemalefemalemalemalefemalemalemalemalemalemalemalemalemalemalemalemalefemalefemalemalemalemalemalemalemalefemalefemalemalefemalemalemalemalemalemalemalemalemalefemalemalefemalemalemalemalemalemalefemalemalemalefemalemalefemalemalemalemalefemalemalefemalemalefemalemalemalemalemalemalefemalefemalemalemalefemalemalemalemalemalemalefemalefemalemalefemalefemalemalemalemalemalemalefemalemalemalemalemalemalefemalemalemalemalemalefemalemalemalefemalemalemalemalefemalemalemalemalemalefemalemalemalemalefemalemalefemalemalefemalemalemalemalemalefemalemalefemalemalemalefemalemalefemalefemalefemalemalemalemalemalefemalemalemalemalemalemalefemalemalemalemalefemalefemalemalefemalemalefemalemalemalemalemalemalefemalemalefemalemalemalemalefemalemalemalefemalemalemalemalefemalemalemalefemalemalemalemalemalemalefemalefemalemalemalemalemalefemalemalemalemalemalemalemalefemalemalemalemalemalemalemalefemalemalemalefemalefemalefemalefemalefemalemalefemalemalemalemalefemalefemalemalefemalefemalemalemalemalemalefemalemalemalefemalefemalemalemalemalefemalefemalemalefemalemalemalefemalemalefemalefemalemalemale'"
     },
     "execution_count": 11,
     "metadata": {},
     "output_type": "execute_result"
    }
   ],
   "source": [
    "df[\"Sex\"].sum()"
   ],
   "metadata": {
    "collapsed": false,
    "ExecuteTime": {
     "end_time": "2023-10-31T17:18:07.794966849Z",
     "start_time": "2023-10-31T17:18:07.751481542Z"
    }
   },
   "id": "d226aefc1c8033e8"
  },
  {
   "cell_type": "markdown",
   "source": [
    "Clearly that's totally useless! Let's try the same with our new `is_female` column:"
   ],
   "metadata": {
    "collapsed": false
   },
   "id": "cd86229b61faa519"
  },
  {
   "cell_type": "code",
   "execution_count": 12,
   "outputs": [
    {
     "data": {
      "text/plain": "314"
     },
     "execution_count": 12,
     "metadata": {},
     "output_type": "execute_result"
    }
   ],
   "source": [
    "df[\"is_female\"].sum()"
   ],
   "metadata": {
    "collapsed": false,
    "ExecuteTime": {
     "end_time": "2023-10-31T17:18:07.876680688Z",
     "start_time": "2023-10-31T17:18:07.751757052Z"
    }
   },
   "id": "2de41e7917728cb9"
  },
  {
   "cell_type": "markdown",
   "source": [
    "Much more convenient! We can even calculate the percentage of passengers who were women in a single line now:"
   ],
   "metadata": {
    "collapsed": false
   },
   "id": "3555255440a44d56"
  },
  {
   "cell_type": "code",
   "execution_count": 13,
   "outputs": [
    {
     "data": {
      "text/plain": "35.24130190796858"
     },
     "execution_count": 13,
     "metadata": {},
     "output_type": "execute_result"
    }
   ],
   "source": [
    "df[\"is_female\"].mean() * 100"
   ],
   "metadata": {
    "collapsed": false,
    "ExecuteTime": {
     "end_time": "2023-10-31T17:18:07.877289057Z",
     "start_time": "2023-10-31T17:18:07.795327872Z"
    }
   },
   "id": "8081faaaac1d40d7"
  },
  {
   "cell_type": "markdown",
   "source": [
    "Another benefit is to do with how much storage our data takes up. Let's compare the memory usage of our two columns:"
   ],
   "metadata": {
    "collapsed": false
   },
   "id": "95bdaddbac875eb5"
  },
  {
   "cell_type": "code",
   "execution_count": 14,
   "outputs": [
    {
     "name": "stdout",
     "output_type": "stream",
     "text": [
      "Sex column memory usage: 55111 bytes\n",
      "is_female column memory usage: 1023 bytes\n",
      "Sex column uses 53.87 times more data\n"
     ]
    }
   ],
   "source": [
    "memory_usage_sex = df[\"Sex\"].memory_usage(deep=True)\n",
    "memory_usage_is_female = df[\"is_female\"].memory_usage(deep=True)\n",
    "print(f\"Sex column memory usage: {memory_usage_sex} bytes\")\n",
    "print(f\"is_female column memory usage: {memory_usage_is_female} bytes\")\n",
    "print(f\"Sex column uses {memory_usage_sex/memory_usage_is_female:.2f} times more data\")"
   ],
   "metadata": {
    "collapsed": false,
    "ExecuteTime": {
     "end_time": "2023-10-31T17:18:07.877559934Z",
     "start_time": "2023-10-31T17:18:07.795556334Z"
    }
   },
   "id": "d9474602d872ffde"
  },
  {
   "cell_type": "markdown",
   "source": [
    "## Data Visualization\n",
    "\n",
    "Data visualization turns complex datasets into easily digestible visuals, making it quicker to spot underlying patterns. Let's say we are interested in the relationship between cabin class and survival rate. We can use a bar chart to visualize this relationship:"
   ],
   "metadata": {
    "collapsed": false
   },
   "id": "cdd257171dc532c7"
  },
  {
   "cell_type": "code",
   "execution_count": 15,
   "outputs": [],
   "source": [
    "import matplotlib.pyplot as plt  # Standard convention - matplotlib's pyplot is usually aliased as plt"
   ],
   "metadata": {
    "collapsed": false,
    "ExecuteTime": {
     "end_time": "2023-10-31T17:18:08.060721337Z",
     "start_time": "2023-10-31T17:18:07.795736209Z"
    }
   },
   "id": "457628f11f2c5d09"
  },
  {
   "cell_type": "code",
   "execution_count": 16,
   "outputs": [
    {
     "data": {
      "text/plain": "<Figure size 640x480 with 1 Axes>",
      "image/png": "[encoded data removed]"
     },
     "metadata": {},
     "output_type": "display_data"
    }
   ],
   "source": [
    "# Get the number of survivors and fatalities for each cabin class\n",
    "survivors = df.groupby(\"Pclass\")[\"Survived\"].sum()\n",
    "fatalities = df.groupby(\"Pclass\")[\"Survived\"].count() - survivors\n",
    "\n",
    "# Create a bar chart\n",
    "plt.bar(survivors.index, survivors.values, label=\"Survived\")\n",
    "plt.bar(fatalities.index, fatalities.values, bottom=survivors.values, label=\"Died\")\n",
    "\n",
    "# Add labels and a legend\n",
    "plt.xlabel(\"Cabin Class\")\n",
    "plt.ylabel(\"Number of Passengers\")\n",
    "plt.legend()\n",
    "\n",
    "# Display the chart\n",
    "plt.show()"
   ],
   "metadata": {
    "collapsed": false,
    "ExecuteTime": {
     "end_time": "2023-10-31T17:18:08.276887781Z",
     "start_time": "2023-10-31T17:18:08.063739319Z"
    }
   },
   "id": "55fb2b94a5fcef"
  },
  {
   "cell_type": "markdown",
   "source": [
    "Thanks to our visualization, we can easily see that the survival rate was highest for passengers in first class, and lowest for passengers in third class.  We can also see that there were more fatalities than survivors in third class, but more survivors than fatalities in first and second class. This is just one example of how data visualization can help us understand our data.\n",
    "\n",
    "## Optional Exercise: Data Visualization\n",
    "\n",
    "In this exercise, you will create a visualization to answer the following question:\n",
    "\n",
    "> What was the survival rate by title?\n",
    "\n",
    "We have provided the code to extract the title from each passenger's name, and to create a new column called `Title` containing the title for each passenger.  You will need to create a visualization to answer the question above.  You can use any type of visualization you like, but we recommend a bar chart or a pie chart.\n"
   ],
   "metadata": {
    "collapsed": false
   },
   "id": "2ee259a5a9b2ae5c"
  },
  {
   "cell_type": "code",
   "execution_count": 17,
   "outputs": [],
   "source": [
    "df[\"Title\"] = df[\"Name\"].str.extract(\n",
    "    \" ([A-Za-z]+)\\.\", expand=False\n",
    ")  # This is a Regular Expression - a way of extracting patterns from text"
   ],
   "metadata": {
    "collapsed": false,
    "ExecuteTime": {
     "end_time": "2023-10-31T17:18:08.277292696Z",
     "start_time": "2023-10-31T17:18:08.259487118Z"
    }
   },
   "id": "fc03667c96a7cd3b"
  },
  {
   "cell_type": "code",
   "execution_count": 18,
   "outputs": [
    {
     "data": {
      "text/plain": "Title\nMr          517\nMiss        182\nMrs         125\nMaster       40\nDr            7\nRev           6\nCol           2\nMlle          2\nMajor         2\nMs            1\nMme           1\nDon           1\nLady          1\nSir           1\nCapt          1\nCountess      1\nJonkheer      1\nName: count, dtype: int64"
     },
     "execution_count": 18,
     "metadata": {},
     "output_type": "execute_result"
    }
   ],
   "source": [
    "df[\n",
    "    \"Title\"\n",
    "].value_counts()  # You might notice the title Jonkheer - this is a Dutch honorific title, the lowest in the Dutch nobility system"
   ],
   "metadata": {
    "collapsed": false,
    "ExecuteTime": {
     "end_time": "2023-10-31T17:18:08.277635633Z",
     "start_time": "2023-10-31T17:18:08.259660124Z"
    }
   },
   "id": "8c054ea1e2e8aebc"
  },
  {
   "cell_type": "code",
   "execution_count": 19,
   "outputs": [
    {
     "data": {
      "text/plain": "<Figure size 640x480 with 1 Axes>",
      "image/png": "[encoded data removed]"
     },
     "metadata": {},
     "output_type": "display_data"
    }
   ],
   "source": [
    "# One possible answer - a bar chart\n",
    "survivors = df.groupby(\"Title\")[\"Survived\"].sum()\n",
    "fatalities = df.groupby(\"Title\")[\"Survived\"].count() - survivors\n",
    "\n",
    "plt.bar(survivors.index, survivors.values, label=\"Survived\")\n",
    "plt.bar(fatalities.index, fatalities.values, bottom=survivors.values, label=\"Died\")\n",
    "\n",
    "plt.xlabel(\"Title\")\n",
    "plt.xticks(rotation=45) # Rotates the x-axis labels by 45 degrees\n",
    "plt.ylabel(\"Number of Passengers\")\n",
    "plt.legend()\n",
    "\n",
    "plt.show()"
   ],
   "metadata": {
    "collapsed": false,
    "ExecuteTime": {
     "end_time": "2023-10-31T17:18:08.399722016Z",
     "start_time": "2023-10-31T17:18:08.259750942Z"
    }
   },
   "id": "dc807e11716209bf"
  }
 ],
 "metadata": {
  "kernelspec": {
   "display_name": "Python 3",
   "language": "python",
   "name": "python3"
  },
  "language_info": {
   "codemirror_mode": {
    "name": "ipython",
    "version": 2
   },
   "file_extension": ".py",
   "mimetype": "text/x-python",
   "name": "python",
   "nbconvert_exporter": "python",
   "pygments_lexer": "ipython2",
   "version": "2.7.6"
  }
 },
 "nbformat": 4,
 "nbformat_minor": 5
}
